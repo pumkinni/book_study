{
  "nbformat": 4,
  "nbformat_minor": 0,
  "metadata": {
    "colab": {
      "name": "자연어 처리 입문_2.텍스트 전처리_정제,정규화,어간추출,표제어추출,불용어,정규표현식.ipynb",
      "provenance": [],
      "collapsed_sections": [],
      "authorship_tag": "ABX9TyNh0DXySbz1sqock8jHYEHZ",
      "include_colab_link": true
    },
    "kernelspec": {
      "name": "python3",
      "display_name": "Python 3"
    },
    "language_info": {
      "name": "python"
    }
  },
  "cells": [
    {
      "cell_type": "markdown",
      "metadata": {
        "id": "view-in-github",
        "colab_type": "text"
      },
      "source": [
        "<a href=\"https://colab.research.google.com/github/pumkinni/book_study/blob/master/%EC%9E%90%EC%97%B0%EC%96%B4_%EC%B2%98%EB%A6%AC_%EC%9E%85%EB%AC%B8_2_%ED%85%8D%EC%8A%A4%ED%8A%B8_%EC%A0%84%EC%B2%98%EB%A6%AC_%EC%A0%95%EC%A0%9C%2C%EC%A0%95%EA%B7%9C%ED%99%94%2C%EC%96%B4%EA%B0%84%EC%B6%94%EC%B6%9C%2C%ED%91%9C%EC%A0%9C%EC%96%B4%EC%B6%94%EC%B6%9C%2C%EB%B6%88%EC%9A%A9%EC%96%B4%2C%EC%A0%95%EA%B7%9C%ED%91%9C%ED%98%84%EC%8B%9D.ipynb\" target=\"_parent\"><img src=\"https://colab.research.google.com/assets/colab-badge.svg\" alt=\"Open In Colab\"/></a>"
      ]
    },
    {
      "cell_type": "markdown",
      "source": [
        "# 정제와 정규화"
      ],
      "metadata": {
        "id": "zW6I5lNCWpB6"
      }
    },
    {
      "cell_type": "markdown",
      "source": [
        "## 정제(cleaning) : 갖고 있는 코퍼스로부터 노이즈 데이터를 제거한다.\n",
        "\n",
        "## 정규화(normalization) : 표현 방법이 다른 단어들을 통합시켜서 같은 단어로 만들어준다."
      ],
      "metadata": {
        "id": "Fz8qEaRsW6vV"
      }
    },
    {
      "cell_type": "markdown",
      "source": [
        "## 정제\n",
        "- 대소문자 통합\n",
        "\n",
        "- 불용어 제거\n",
        "\n",
        "- 등장 빈도가 적은 단어, 길이가 짧은 단어들을 제거(영어에서)"
      ],
      "metadata": {
        "id": "17_jssl7YH8X"
      }
    },
    {
      "cell_type": "code",
      "execution_count": 1,
      "metadata": {
        "colab": {
          "base_uri": "https://localhost:8080/"
        },
        "id": "Q_BdXII6WkXQ",
        "outputId": "b0024da5-172f-464b-ee90-72710a44da45"
      },
      "outputs": [
        {
          "output_type": "stream",
          "name": "stdout",
          "text": [
            " was wondering anyone out there could enlighten this car.\n"
          ]
        }
      ],
      "source": [
        "import re\n",
        "text = \"I was wondering if anyone out there could enlighten me on this car.\"\n",
        "\n",
        "# 길이가 1~2인 단어들을 정규 표현식을 이용하여 삭제\n",
        "shortword = re.compile(r'\\W*\\b\\w{1,2}\\b')\n",
        "print(shortword.sub('', text))"
      ]
    },
    {
      "cell_type": "markdown",
      "source": [
        "# 어간 추출(Stemming) and 표제어 추출(Lemmatization)\n",
        " 정규화 기법 중 코퍼스에 있는 단어의 개수를 줄일 수 있는 기법"
      ],
      "metadata": {
        "id": "-GbM8xCxaXT8"
      }
    },
    {
      "cell_type": "markdown",
      "source": [
        "## 표제어 추출(Lemmatization)\n",
        "기본 사전형 단어 추출 ex) cats -> cat(어간) , s(접사)"
      ],
      "metadata": {
        "id": "m79mBQscaY-C"
      }
    },
    {
      "cell_type": "code",
      "source": [
        "# 표제어 추출기(lemmatizer)가 본래 단어의 품사 정보를 알아야만 정확한 결과를 얻을 수 있기 때문에 정확한 결과 생성 X\n",
        "import nltk\n",
        "from nltk.stem import WordNetLemmatizer\n",
        "\n",
        "lemmatizer = WordNetLemmatizer()\n",
        "\n",
        "words = ['cat', 'afford', 'having', 'left', 'teeth', 'did', 'died', 'going', 'people']\n",
        "\n",
        "print('표제어 추출 전 : ', words)\n",
        "print('표제어 추출 후 :', [lemmatizer.lemmatize(word) for word in words])"
      ],
      "metadata": {
        "colab": {
          "base_uri": "https://localhost:8080/"
        },
        "id": "MB0AxIDiZBhG",
        "outputId": "7abd9eef-1608-41b0-dedc-a02030d17840"
      },
      "execution_count": 6,
      "outputs": [
        {
          "output_type": "stream",
          "name": "stdout",
          "text": [
            "표제어 추출 전 :  ['cat', 'afford', 'having', 'left', 'teeth', 'did', 'died', 'going', 'people']\n",
            "표제어 추출 후 : ['cat', 'afford', 'having', 'left', 'teeth', 'did', 'died', 'going', 'people']\n"
          ]
        }
      ]
    },
    {
      "cell_type": "code",
      "source": [
        "lemmatizer.lemmatize('died', 'v')"
      ],
      "metadata": {
        "colab": {
          "base_uri": "https://localhost:8080/",
          "height": 35
        },
        "id": "P2dlE8JDceXp",
        "outputId": "f9c23822-5ebf-4c74-c33d-76f66a12864c"
      },
      "execution_count": 7,
      "outputs": [
        {
          "output_type": "execute_result",
          "data": {
            "text/plain": [
              "'die'"
            ],
            "application/vnd.google.colaboratory.intrinsic+json": {
              "type": "string"
            }
          },
          "metadata": {},
          "execution_count": 7
        }
      ]
    },
    {
      "cell_type": "code",
      "source": [
        "lemmatizer.lemmatize('gone', 'v')"
      ],
      "metadata": {
        "colab": {
          "base_uri": "https://localhost:8080/",
          "height": 35
        },
        "id": "MkZYm6hPdNn7",
        "outputId": "5285f1c0-4e6c-46a9-f062-8abef5ccf5bc"
      },
      "execution_count": 8,
      "outputs": [
        {
          "output_type": "execute_result",
          "data": {
            "text/plain": [
              "'go'"
            ],
            "application/vnd.google.colaboratory.intrinsic+json": {
              "type": "string"
            }
          },
          "metadata": {},
          "execution_count": 8
        }
      ]
    },
    {
      "cell_type": "markdown",
      "source": [
        "## 어간 추출(Stemming)\n",
        "섬세한 작업이 아니라 이상한 값이 잘 나옴\n",
        "\n",
        "ALIZE → AL\n",
        "\n",
        "ANCE → 제거\n",
        "\n",
        "ICAL → IC"
      ],
      "metadata": {
        "id": "HopAgiBodo2b"
      }
    },
    {
      "cell_type": "markdown",
      "source": [
        "포터 알고리즘(Porter Algorithm)"
      ],
      "metadata": {
        "id": "tVBjdWHWd3to"
      }
    },
    {
      "cell_type": "code",
      "source": [
        "from nltk.stem import PorterStemmer\n",
        "from nltk.tokenize import word_tokenize\n",
        "\n",
        "stemmer = PorterStemmer()\n",
        "\n",
        "sentence = \"This was not the map we found in Billy Bones's chest, but an accurate copy, complete in all things--names and heights and soundings--with the single exception of the red crosses and the written notes.\"\n",
        "tokenize_sentence = word_tokenize(sentence)\n",
        "\n",
        "print('어간 추출 전 :', tokenize_sentence)\n",
        "print('어간 추출 후 :', [stemmer.stem(word) for word in tokenize_sentence])\n"
      ],
      "metadata": {
        "colab": {
          "base_uri": "https://localhost:8080/"
        },
        "id": "gw-se_3ld3Kq",
        "outputId": "d511beaa-f9ed-46b8-95c3-d7ebaa92b4f7"
      },
      "execution_count": 11,
      "outputs": [
        {
          "output_type": "stream",
          "name": "stdout",
          "text": [
            "어간 추출 전 : ['This', 'was', 'not', 'the', 'map', 'we', 'found', 'in', 'Billy', 'Bones', \"'s\", 'chest', ',', 'but', 'an', 'accurate', 'copy', ',', 'complete', 'in', 'all', 'things', '--', 'names', 'and', 'heights', 'and', 'soundings', '--', 'with', 'the', 'single', 'exception', 'of', 'the', 'red', 'crosses', 'and', 'the', 'written', 'notes', '.']\n",
            "어간 추출 후 : ['thi', 'wa', 'not', 'the', 'map', 'we', 'found', 'in', 'billi', 'bone', \"'s\", 'chest', ',', 'but', 'an', 'accur', 'copi', ',', 'complet', 'in', 'all', 'thing', '--', 'name', 'and', 'height', 'and', 'sound', '--', 'with', 'the', 'singl', 'except', 'of', 'the', 'red', 'cross', 'and', 'the', 'written', 'note', '.']\n"
          ]
        }
      ]
    },
    {
      "cell_type": "code",
      "source": [
        "nltk.download('punkt')"
      ],
      "metadata": {
        "colab": {
          "base_uri": "https://localhost:8080/"
        },
        "id": "FvgKcG8iO2qt",
        "outputId": "383ecf85-ab95-4801-a1b6-29703bc4921b"
      },
      "execution_count": 12,
      "outputs": [
        {
          "output_type": "stream",
          "name": "stderr",
          "text": [
            "[nltk_data] Downloading package punkt to /root/nltk_data...\n",
            "[nltk_data]   Package punkt is already up-to-date!\n"
          ]
        },
        {
          "output_type": "execute_result",
          "data": {
            "text/plain": [
              "True"
            ]
          },
          "metadata": {},
          "execution_count": 12
        }
      ]
    },
    {
      "cell_type": "markdown",
      "source": [
        "포터 알고리즘(Porter Algorithm)와 랭커스터 스태머(Lancaster Stemmer)"
      ],
      "metadata": {
        "id": "qsCXuxu8jin5"
      }
    },
    {
      "cell_type": "code",
      "source": [
        "from nltk.stem import PorterStemmer\n",
        "from nltk.stem import LancasterStemmer\n",
        "\n",
        "porter_stemmer = PorterStemmer()\n",
        "lancaster_stemmer = LancasterStemmer()\n",
        "\n",
        "words = ['policy', 'doing', 'organization', 'have', 'going', 'love', 'lives', 'fly', 'dies', 'watched', 'has', 'starting']\n",
        "print('어간 추출 전 :', words)\n",
        "print('포터 스테머의 어간 추출 후:',[porter_stemmer.stem(w) for w in words])\n",
        "print('랭커스터 스테머의 어간 추출 후:',[lancaster_stemmer.stem(w) for w in words])"
      ],
      "metadata": {
        "colab": {
          "base_uri": "https://localhost:8080/"
        },
        "id": "nLjxhrHBjiPM",
        "outputId": "ab29054f-8be0-4c3d-ae86-cdc1d0d80cae"
      },
      "execution_count": 13,
      "outputs": [
        {
          "output_type": "stream",
          "name": "stdout",
          "text": [
            "어간 추출 전 : ['policy', 'doing', 'organization', 'have', 'going', 'love', 'lives', 'fly', 'dies', 'watched', 'has', 'starting']\n",
            "포터 스테머의 어간 추출 후: ['polici', 'do', 'organ', 'have', 'go', 'love', 'live', 'fli', 'die', 'watch', 'ha', 'start']\n",
            "랭커스터 스테머의 어간 추출 후: ['policy', 'doing', 'org', 'hav', 'going', 'lov', 'liv', 'fly', 'die', 'watch', 'has', 'start']\n"
          ]
        }
      ]
    },
    {
      "cell_type": "markdown",
      "source": [
        "# 불용어"
      ],
      "metadata": {
        "id": "-2ajyNkKkvkU"
      }
    },
    {
      "cell_type": "code",
      "source": [
        "from nltk.corpus import stopwords\n",
        "from nltk.tokenize import word_tokenize \n",
        "from konlpy.tag import Okt"
      ],
      "metadata": {
        "id": "mMSw8eOWeqGo"
      },
      "execution_count": 17,
      "outputs": []
    },
    {
      "cell_type": "code",
      "source": [
        "stop_words_list = stopwords.words('english')\n",
        "print('불용어 개수 :', len(stop_words_list))\n",
        "print('불용어 10개 출력 :',stop_words_list[:10])"
      ],
      "metadata": {
        "colab": {
          "base_uri": "https://localhost:8080/"
        },
        "id": "NtSPCaBsnHXU",
        "outputId": "9a9f58d7-aebd-4b7e-b031-1cdda5d353be"
      },
      "execution_count": 20,
      "outputs": [
        {
          "output_type": "stream",
          "name": "stdout",
          "text": [
            "불용어 개수 : 179\n",
            "불용어 10개 출력 : ['i', 'me', 'my', 'myself', 'we', 'our', 'ours', 'ourselves', 'you', \"you're\"]\n"
          ]
        }
      ]
    },
    {
      "cell_type": "code",
      "source": [
        "example = \"Family is not an important thing. It's everything\"\n",
        "stop_words = set(stopwords.words('english'))\n",
        "\n",
        "word_tokens = word_tokenize(example)\n",
        "\n",
        "result = []\n",
        "for word in word_tokens:\n",
        "  if word not in stop_words:\n",
        "    result.append(word)\n",
        "            \n",
        "print('불용어 제거 전 :',word_tokens) \n",
        "print('불용어 제거 후 :', result)"
      ],
      "metadata": {
        "colab": {
          "base_uri": "https://localhost:8080/"
        },
        "id": "vd_Y7rscnYXM",
        "outputId": "6e6802a8-bee5-490e-837b-a01bd4f44cc3"
      },
      "execution_count": 21,
      "outputs": [
        {
          "output_type": "stream",
          "name": "stdout",
          "text": [
            "불용어 제거 전 : ['Family', 'is', 'not', 'an', 'important', 'thing', '.', 'It', \"'s\", 'everything']\n",
            "불용어 제거 후 : ['Family', 'important', 'thing', '.', 'It', \"'s\", 'everything']\n"
          ]
        }
      ]
    },
    {
      "cell_type": "markdown",
      "source": [
        "## 한국어에서 불용어 제거하기"
      ],
      "metadata": {
        "id": "3shxSik7o-fB"
      }
    },
    {
      "cell_type": "code",
      "source": [
        "# 사용자가 정의한 불용어 사전으로 불용어 제거\n",
        "okt = Okt()\n",
        "\n",
        "example = '집에가고 싶어하는 건 모든 직장인들이 다 그런걸까? 재택근무를 하면 정말 좋을 것 같지만 늘어질 것 같아!'\n",
        "stop_word = '집에가 지마 베이베! 모든 다'\n",
        "\n",
        "stop_words = set(stop_word.split(' '))\n",
        "word_tokens = okt.morphs(example)\n",
        "\n",
        "result = [word for word in word_tokens if not word in stop_words]\n",
        "\n",
        "print('불용어 제거 전 : ', word_tokens)\n",
        "print('불용어 제거 후 : ', result)"
      ],
      "metadata": {
        "colab": {
          "base_uri": "https://localhost:8080/"
        },
        "id": "zyJBjvxnok7u",
        "outputId": "5efebfdf-0a51-40cf-9a74-4c25116670c7"
      },
      "execution_count": 22,
      "outputs": [
        {
          "output_type": "stream",
          "name": "stdout",
          "text": [
            "불용어 제거 전 :  ['집', '에가', '고', '싶어하는', '건', '모든', '직장인', '들', '이', '다', '그런', '걸까', '?', '재택근무', '를', '하면', '정말', '좋을', '것', '같지만', '늘어질', '것', '같아', '!']\n",
            "불용어 제거 후 :  ['집', '에가', '고', '싶어하는', '건', '직장인', '들', '이', '그런', '걸까', '?', '재택근무', '를', '하면', '정말', '좋을', '것', '같지만', '늘어질', '것', '같아', '!']\n"
          ]
        }
      ]
    },
    {
      "cell_type": "markdown",
      "source": [
        "한국어 불용어 리스트 사이트 :  https://www.ranks.nl/stopwords/korean "
      ],
      "metadata": {
        "id": "LMEgMm6lrNXV"
      }
    },
    {
      "cell_type": "markdown",
      "source": [
        "# 정규 표현식"
      ],
      "metadata": {
        "id": "b9Qu8gLOPmU8"
      }
    },
    {
      "cell_type": "code",
      "source": [
        "import re\n"
      ],
      "metadata": {
        "id": "ZH0CbbGYq259"
      },
      "execution_count": 23,
      "outputs": []
    },
    {
      "cell_type": "code",
      "source": [
        "# .기호 - 1개의 임의의 문자를 의미\n",
        "r = re.compile('a.b') # a*b\n",
        "r.search('abc') #a*b가 아니라서 아무것도 출력 x"
      ],
      "metadata": {
        "id": "J8uW-B8VQs7y"
      },
      "execution_count": 25,
      "outputs": []
    },
    {
      "cell_type": "code",
      "source": [
        "# ?기호 - ?앞의 문자가 존재할 수도 있고 존재하지 않을 수도 있는 경우\n",
        "r = re.compile('ab?c') #abc or ac\n",
        "print(r.search('ac')) #출력\n",
        "r.search('abb') #아무것도 출력 x"
      ],
      "metadata": {
        "colab": {
          "base_uri": "https://localhost:8080/"
        },
        "id": "F7L42WGZQ829",
        "outputId": "acca8a16-0a9d-4cb1-ec66-4bb32087707e"
      },
      "execution_count": 29,
      "outputs": [
        {
          "output_type": "stream",
          "name": "stdout",
          "text": [
            "<re.Match object; span=(0, 2), match='ac'>\n"
          ]
        }
      ]
    },
    {
      "cell_type": "code",
      "source": [
        "# *기호 - *바로 앞의 문자가 0개 이상일 경우\n",
        "r = re.compile('abc*d') #abd, abcd, abccd, abccccccccccd\n",
        "print(r.search('abd'))\n",
        "print(r.search('abcccccccccccd'))"
      ],
      "metadata": {
        "colab": {
          "base_uri": "https://localhost:8080/"
        },
        "id": "gjMihie2RZKv",
        "outputId": "5a4a7abd-818e-4d8a-a424-0a473b91b154"
      },
      "execution_count": 32,
      "outputs": [
        {
          "output_type": "stream",
          "name": "stdout",
          "text": [
            "<re.Match object; span=(0, 3), match='abd'>\n",
            "<re.Match object; span=(0, 14), match='abcccccccccccd'>\n"
          ]
        }
      ]
    },
    {
      "cell_type": "code",
      "source": [
        "# +기호 - *과 유사하나 문자가 최소 1개 이상\n",
        "r = re.compile('ab+cd') #abcd, abbbbbbbbcd\n",
        "r.search('acd') #출력 x\n",
        "r.search('abbbbbbcd')"
      ],
      "metadata": {
        "colab": {
          "base_uri": "https://localhost:8080/"
        },
        "id": "H7re38LQSHij",
        "outputId": "a0bb8e2c-f6b7-4093-d482-17750ac9c027"
      },
      "execution_count": 33,
      "outputs": [
        {
          "output_type": "execute_result",
          "data": {
            "text/plain": [
              "<re.Match object; span=(0, 9), match='abbbbbbcd'>"
            ]
          },
          "metadata": {},
          "execution_count": 33
        }
      ]
    },
    {
      "cell_type": "code",
      "source": [
        "# ^기호 - 시작되는 문자열 지정\n",
        "r = re.compile('^ddc') #ddc, ddcas, ddcasdf\n",
        "r.search('dd') # 출력 x\n",
        "r.search('ddcasdg')"
      ],
      "metadata": {
        "colab": {
          "base_uri": "https://localhost:8080/"
        },
        "id": "9hfsqJZRSj11",
        "outputId": "366e5c7c-9db5-41e5-feae-7b0c4dd678ba"
      },
      "execution_count": 36,
      "outputs": [
        {
          "output_type": "execute_result",
          "data": {
            "text/plain": [
              "<re.Match object; span=(0, 3), match='ddc'>"
            ]
          },
          "metadata": {},
          "execution_count": 36
        }
      ]
    },
    {
      "cell_type": "code",
      "source": [
        "# {숫자}기호 - 문자에 이 기호를 붙이면 해당 문자를 숫자만큼 반복한 것을 나타냄\n",
        "r = re.compile('ab{3}cd') # abbbcd\n",
        "print(r.search('abbbcd'))\n",
        "print(r.search('abcd'))"
      ],
      "metadata": {
        "colab": {
          "base_uri": "https://localhost:8080/"
        },
        "id": "nzjFAec7S5nE",
        "outputId": "13a61a2c-c9bd-4c6a-ce5a-93e1fe544f7a"
      },
      "execution_count": 42,
      "outputs": [
        {
          "output_type": "stream",
          "name": "stdout",
          "text": [
            "<re.Match object; span=(0, 6), match='abbbcd'>\n",
            "None\n"
          ]
        }
      ]
    },
    {
      "cell_type": "code",
      "source": [
        "# {숫자1, 숫자2} 기호 - 문자에 해당 기호를 붙이면, 해당 문자를 숫자1 이상 숫자2 이하만큼 반복\n",
        "r = re.compile('acb{3,6}d') # acbbbd, acbbbbd, acbbbbd, acbbbbbbd, acbbbbbbd\n",
        "print(r.search('acbbd'))\n",
        "print(r.search('acbbbbbbd'))"
      ],
      "metadata": {
        "colab": {
          "base_uri": "https://localhost:8080/"
        },
        "id": "8wVDlTV-aFG4",
        "outputId": "7283b341-700c-46e4-a101-7bab6b069fd1"
      },
      "execution_count": 44,
      "outputs": [
        {
          "output_type": "stream",
          "name": "stdout",
          "text": [
            "None\n",
            "<re.Match object; span=(0, 9), match='acbbbbbbd'>\n"
          ]
        }
      ]
    },
    {
      "cell_type": "code",
      "source": [
        "# {숫자,} 기호 - 문자에 해당 기호를 붙이면 해당 문자를 숫자 이상 만큼 반복\n",
        "r = re.compile('abc{3,}d') # abcccd, abccccd, ....\n",
        "print(r.search('abccccd'))\n",
        "print(r.search('abccd'))"
      ],
      "metadata": {
        "colab": {
          "base_uri": "https://localhost:8080/"
        },
        "id": "StPVfimna2Hn",
        "outputId": "c9215e0c-1773-4bbe-c749-7d336f9f9285"
      },
      "execution_count": 45,
      "outputs": [
        {
          "output_type": "stream",
          "name": "stdout",
          "text": [
            "<re.Match object; span=(0, 7), match='abccccd'>\n",
            "None\n"
          ]
        }
      ]
    },
    {
      "cell_type": "code",
      "source": [
        "# [ ] 기호 - [ ]안에 문자들을 넣으면 그 문자들 중 한 개의 문자와 매치\n",
        "# [a-zA-Z]는 알파벳 전부를 의미하며, [0-9]는 숫자 전부를 의미\n",
        "r = re.compile('[a,c,f]')\n",
        "print(r.search('abcd'))\n",
        "print(r.search('ad'))\n",
        "print(r.search('ej'))"
      ],
      "metadata": {
        "colab": {
          "base_uri": "https://localhost:8080/"
        },
        "id": "mJFCvd9HbSVo",
        "outputId": "7f2d372a-fd8d-4343-d54d-0ae1b9cd7735"
      },
      "execution_count": 47,
      "outputs": [
        {
          "output_type": "stream",
          "name": "stdout",
          "text": [
            "<re.Match object; span=(0, 1), match='a'>\n",
            "<re.Match object; span=(0, 1), match='a'>\n",
            "None\n"
          ]
        }
      ]
    },
    {
      "cell_type": "code",
      "source": [
        "# 소문자\n",
        "r = re.compile('[a-z]')\n",
        "r.search('AbCdEf')"
      ],
      "metadata": {
        "colab": {
          "base_uri": "https://localhost:8080/"
        },
        "id": "eld4daRsb4WM",
        "outputId": "02258b82-1d7a-4c86-b193-4495cc014910"
      },
      "execution_count": 48,
      "outputs": [
        {
          "output_type": "execute_result",
          "data": {
            "text/plain": [
              "<re.Match object; span=(1, 2), match='b'>"
            ]
          },
          "metadata": {},
          "execution_count": 48
        }
      ]
    },
    {
      "cell_type": "code",
      "source": [
        "# [^문자] 기호 - ^기호 뒤에 붙은 문자들을 제외한 모든 문자를 매치하는 역할\n",
        "r = re.compile('[^1-9]')\n",
        "print(r.search('a1b2c3'))\n",
        "print(r.search('1234'))\n",
        "print(r.search('123m45n'))"
      ],
      "metadata": {
        "colab": {
          "base_uri": "https://localhost:8080/"
        },
        "id": "x_nQ6-hmcPjs",
        "outputId": "59618104-2c3b-49b5-887d-333e4eaca79d"
      },
      "execution_count": 50,
      "outputs": [
        {
          "output_type": "stream",
          "name": "stdout",
          "text": [
            "<re.Match object; span=(0, 1), match='a'>\n",
            "None\n",
            "<re.Match object; span=(3, 4), match='m'>\n"
          ]
        }
      ]
    },
    {
      "cell_type": "code",
      "source": [
        ""
      ],
      "metadata": {
        "id": "Z8eWBYlYcmH5"
      },
      "execution_count": null,
      "outputs": []
    }
  ]
}