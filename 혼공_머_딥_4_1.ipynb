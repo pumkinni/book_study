{
  "nbformat": 4,
  "nbformat_minor": 0,
  "metadata": {
    "colab": {
      "name": "혼공_머.딥_4-1.ipynb",
      "provenance": [],
      "collapsed_sections": [],
      "authorship_tag": "ABX9TyONfW+QYuXkQTN4I6YBRssu",
      "include_colab_link": true
    },
    "kernelspec": {
      "name": "python3",
      "display_name": "Python 3"
    },
    "language_info": {
      "name": "python"
    }
  },
  "cells": [
    {
      "cell_type": "markdown",
      "metadata": {
        "id": "view-in-github",
        "colab_type": "text"
      },
      "source": [
        "<a href=\"https://colab.research.google.com/github/pumkinni/book_study/blob/master/%ED%98%BC%EA%B3%B5_%EB%A8%B8_%EB%94%A5_4_1.ipynb\" target=\"_parent\"><img src=\"https://colab.research.google.com/assets/colab-badge.svg\" alt=\"Open In Colab\"/></a>"
      ]
    },
    {
      "cell_type": "markdown",
      "source": [
        "# 로지스틱 회귀(분류 모델)\n",
        "> 로지스틱 회귀 알고리즘을 배우고 이진 분류 문제에서 클래스 확률을 예측\n",
        "\n",
        "> 소프트맥스 함수(여러개의 선형 방정식의 출력 값을 0~1사이로 압축하고 전체 합이 1이 되도록 만듬)"
      ],
      "metadata": {
        "id": "nn5eDIT6rxtn"
      }
    },
    {
      "cell_type": "markdown",
      "source": [
        "- 이진분류\n",
        "> 하나의 선형 방정식을 훈련 후 출력값을 **시그모이드 함수**에 통과시켜 0~1 사이의 값을 만듬\n",
        "\n",
        "- 다중분류\n",
        "> 클래스 개수만큼 방정식을 훈련 후 출력 값을 **소프트맥스 함수**를 통과시켜 전체 클래스에 대한 합이 항상 1이 되로록 만듬(각 클래스에 대한 확률)"
      ],
      "metadata": {
        "id": "7stVP1qmrrin"
      }
    },
    {
      "cell_type": "code",
      "execution_count": null,
      "metadata": {
        "colab": {
          "base_uri": "https://localhost:8080/",
          "height": 206
        },
        "id": "fU7k2XlkrvQy",
        "outputId": "5b61e9d6-67f0-4681-f946-6845912f3e67"
      },
      "outputs": [
        {
          "output_type": "execute_result",
          "data": {
            "text/plain": [
              "  Species  Weight  Length  Diagonal   Height   Width\n",
              "0   Bream   242.0    25.4      30.0  11.5200  4.0200\n",
              "1   Bream   290.0    26.3      31.2  12.4800  4.3056\n",
              "2   Bream   340.0    26.5      31.1  12.3778  4.6961\n",
              "3   Bream   363.0    29.0      33.5  12.7300  4.4555\n",
              "4   Bream   430.0    29.0      34.0  12.4440  5.1340"
            ],
            "text/html": [
              "\n",
              "  <div id=\"df-42d705af-cbe4-4dc7-9b5e-ddd1d502ab93\">\n",
              "    <div class=\"colab-df-container\">\n",
              "      <div>\n",
              "<style scoped>\n",
              "    .dataframe tbody tr th:only-of-type {\n",
              "        vertical-align: middle;\n",
              "    }\n",
              "\n",
              "    .dataframe tbody tr th {\n",
              "        vertical-align: top;\n",
              "    }\n",
              "\n",
              "    .dataframe thead th {\n",
              "        text-align: right;\n",
              "    }\n",
              "</style>\n",
              "<table border=\"1\" class=\"dataframe\">\n",
              "  <thead>\n",
              "    <tr style=\"text-align: right;\">\n",
              "      <th></th>\n",
              "      <th>Species</th>\n",
              "      <th>Weight</th>\n",
              "      <th>Length</th>\n",
              "      <th>Diagonal</th>\n",
              "      <th>Height</th>\n",
              "      <th>Width</th>\n",
              "    </tr>\n",
              "  </thead>\n",
              "  <tbody>\n",
              "    <tr>\n",
              "      <th>0</th>\n",
              "      <td>Bream</td>\n",
              "      <td>242.0</td>\n",
              "      <td>25.4</td>\n",
              "      <td>30.0</td>\n",
              "      <td>11.5200</td>\n",
              "      <td>4.0200</td>\n",
              "    </tr>\n",
              "    <tr>\n",
              "      <th>1</th>\n",
              "      <td>Bream</td>\n",
              "      <td>290.0</td>\n",
              "      <td>26.3</td>\n",
              "      <td>31.2</td>\n",
              "      <td>12.4800</td>\n",
              "      <td>4.3056</td>\n",
              "    </tr>\n",
              "    <tr>\n",
              "      <th>2</th>\n",
              "      <td>Bream</td>\n",
              "      <td>340.0</td>\n",
              "      <td>26.5</td>\n",
              "      <td>31.1</td>\n",
              "      <td>12.3778</td>\n",
              "      <td>4.6961</td>\n",
              "    </tr>\n",
              "    <tr>\n",
              "      <th>3</th>\n",
              "      <td>Bream</td>\n",
              "      <td>363.0</td>\n",
              "      <td>29.0</td>\n",
              "      <td>33.5</td>\n",
              "      <td>12.7300</td>\n",
              "      <td>4.4555</td>\n",
              "    </tr>\n",
              "    <tr>\n",
              "      <th>4</th>\n",
              "      <td>Bream</td>\n",
              "      <td>430.0</td>\n",
              "      <td>29.0</td>\n",
              "      <td>34.0</td>\n",
              "      <td>12.4440</td>\n",
              "      <td>5.1340</td>\n",
              "    </tr>\n",
              "  </tbody>\n",
              "</table>\n",
              "</div>\n",
              "      <button class=\"colab-df-convert\" onclick=\"convertToInteractive('df-42d705af-cbe4-4dc7-9b5e-ddd1d502ab93')\"\n",
              "              title=\"Convert this dataframe to an interactive table.\"\n",
              "              style=\"display:none;\">\n",
              "        \n",
              "  <svg xmlns=\"http://www.w3.org/2000/svg\" height=\"24px\"viewBox=\"0 0 24 24\"\n",
              "       width=\"24px\">\n",
              "    <path d=\"M0 0h24v24H0V0z\" fill=\"none\"/>\n",
              "    <path d=\"M18.56 5.44l.94 2.06.94-2.06 2.06-.94-2.06-.94-.94-2.06-.94 2.06-2.06.94zm-11 1L8.5 8.5l.94-2.06 2.06-.94-2.06-.94L8.5 2.5l-.94 2.06-2.06.94zm10 10l.94 2.06.94-2.06 2.06-.94-2.06-.94-.94-2.06-.94 2.06-2.06.94z\"/><path d=\"M17.41 7.96l-1.37-1.37c-.4-.4-.92-.59-1.43-.59-.52 0-1.04.2-1.43.59L10.3 9.45l-7.72 7.72c-.78.78-.78 2.05 0 2.83L4 21.41c.39.39.9.59 1.41.59.51 0 1.02-.2 1.41-.59l7.78-7.78 2.81-2.81c.8-.78.8-2.07 0-2.86zM5.41 20L4 18.59l7.72-7.72 1.47 1.35L5.41 20z\"/>\n",
              "  </svg>\n",
              "      </button>\n",
              "      \n",
              "  <style>\n",
              "    .colab-df-container {\n",
              "      display:flex;\n",
              "      flex-wrap:wrap;\n",
              "      gap: 12px;\n",
              "    }\n",
              "\n",
              "    .colab-df-convert {\n",
              "      background-color: #E8F0FE;\n",
              "      border: none;\n",
              "      border-radius: 50%;\n",
              "      cursor: pointer;\n",
              "      display: none;\n",
              "      fill: #1967D2;\n",
              "      height: 32px;\n",
              "      padding: 0 0 0 0;\n",
              "      width: 32px;\n",
              "    }\n",
              "\n",
              "    .colab-df-convert:hover {\n",
              "      background-color: #E2EBFA;\n",
              "      box-shadow: 0px 1px 2px rgba(60, 64, 67, 0.3), 0px 1px 3px 1px rgba(60, 64, 67, 0.15);\n",
              "      fill: #174EA6;\n",
              "    }\n",
              "\n",
              "    [theme=dark] .colab-df-convert {\n",
              "      background-color: #3B4455;\n",
              "      fill: #D2E3FC;\n",
              "    }\n",
              "\n",
              "    [theme=dark] .colab-df-convert:hover {\n",
              "      background-color: #434B5C;\n",
              "      box-shadow: 0px 1px 3px 1px rgba(0, 0, 0, 0.15);\n",
              "      filter: drop-shadow(0px 1px 2px rgba(0, 0, 0, 0.3));\n",
              "      fill: #FFFFFF;\n",
              "    }\n",
              "  </style>\n",
              "\n",
              "      <script>\n",
              "        const buttonEl =\n",
              "          document.querySelector('#df-42d705af-cbe4-4dc7-9b5e-ddd1d502ab93 button.colab-df-convert');\n",
              "        buttonEl.style.display =\n",
              "          google.colab.kernel.accessAllowed ? 'block' : 'none';\n",
              "\n",
              "        async function convertToInteractive(key) {\n",
              "          const element = document.querySelector('#df-42d705af-cbe4-4dc7-9b5e-ddd1d502ab93');\n",
              "          const dataTable =\n",
              "            await google.colab.kernel.invokeFunction('convertToInteractive',\n",
              "                                                     [key], {});\n",
              "          if (!dataTable) return;\n",
              "\n",
              "          const docLinkHtml = 'Like what you see? Visit the ' +\n",
              "            '<a target=\"_blank\" href=https://colab.research.google.com/notebooks/data_table.ipynb>data table notebook</a>'\n",
              "            + ' to learn more about interactive tables.';\n",
              "          element.innerHTML = '';\n",
              "          dataTable['output_type'] = 'display_data';\n",
              "          await google.colab.output.renderOutput(dataTable, element);\n",
              "          const docLink = document.createElement('div');\n",
              "          docLink.innerHTML = docLinkHtml;\n",
              "          element.appendChild(docLink);\n",
              "        }\n",
              "      </script>\n",
              "    </div>\n",
              "  </div>\n",
              "  "
            ]
          },
          "metadata": {},
          "execution_count": 2
        }
      ],
      "source": [
        "# 데이터 정리\n",
        "import pandas as pd\n",
        "fish = pd.read_csv('https://bit.ly/fish_csv')\n",
        "fish.head()"
      ]
    },
    {
      "cell_type": "code",
      "source": [
        "# 타겟 데이터 확인\n",
        "print(pd.unique(fish['Species']))"
      ],
      "metadata": {
        "colab": {
          "base_uri": "https://localhost:8080/"
        },
        "id": "68skNlxjs3SX",
        "outputId": "ff66cd59-fe8b-4e85-f45d-5216b0668f61"
      },
      "execution_count": null,
      "outputs": [
        {
          "output_type": "stream",
          "name": "stdout",
          "text": [
            "['Bream' 'Roach' 'Whitefish' 'Parkki' 'Perch' 'Pike' 'Smelt']\n"
          ]
        }
      ]
    },
    {
      "cell_type": "code",
      "source": [
        "# 입력 데이터\n",
        "fish_input = fish[['Weight',\t'Length',\t 'Diagonal', \t'Height', \t'Width']].to_numpy()"
      ],
      "metadata": {
        "id": "KWhp1rDstJ0q"
      },
      "execution_count": null,
      "outputs": []
    },
    {
      "cell_type": "code",
      "source": [
        "fish_input[:5]"
      ],
      "metadata": {
        "colab": {
          "base_uri": "https://localhost:8080/"
        },
        "id": "tkjvtxLqtaAY",
        "outputId": "da864ea6-91cd-4a1f-aa49-3921af1b1561"
      },
      "execution_count": null,
      "outputs": [
        {
          "output_type": "execute_result",
          "data": {
            "text/plain": [
              "array([[242.    ,  25.4   ,  30.    ,  11.52  ,   4.02  ],\n",
              "       [290.    ,  26.3   ,  31.2   ,  12.48  ,   4.3056],\n",
              "       [340.    ,  26.5   ,  31.1   ,  12.3778,   4.6961],\n",
              "       [363.    ,  29.    ,  33.5   ,  12.73  ,   4.4555],\n",
              "       [430.    ,  29.    ,  34.    ,  12.444 ,   5.134 ]])"
            ]
          },
          "metadata": {},
          "execution_count": 5
        }
      ]
    },
    {
      "cell_type": "code",
      "source": [
        "# 타겟 데이터\n",
        "fish_target = fish['Species'].to_numpy()"
      ],
      "metadata": {
        "id": "4OeJMFpqtgwY"
      },
      "execution_count": null,
      "outputs": []
    },
    {
      "cell_type": "code",
      "source": [
        "# 테스트 데이터와 훈련 데이터 구분\n",
        "from sklearn.model_selection import train_test_split\n",
        "train_input, test_input, train_target, test_target = train_test_split(fish_input, fish_target, random_state = 42)\n",
        "train_input.shape, test_input.shape, train_target.shape, test_target.shape"
      ],
      "metadata": {
        "colab": {
          "base_uri": "https://localhost:8080/"
        },
        "id": "l2E-Q7IktsyI",
        "outputId": "0a4f4239-f656-4a9d-cb9e-6553f00653a3"
      },
      "execution_count": null,
      "outputs": [
        {
          "output_type": "execute_result",
          "data": {
            "text/plain": [
              "((119, 5), (40, 5), (119,), (40,))"
            ]
          },
          "metadata": {},
          "execution_count": 7
        }
      ]
    },
    {
      "cell_type": "code",
      "source": [
        "# 표준화 전처리\n",
        "from sklearn.preprocessing import StandardScaler\n",
        "ss = StandardScaler()\n",
        "ss.fit(train_input)\n",
        "train_scaled = ss.transform(train_input)\n",
        "test_scaled = ss.transform(test_input)"
      ],
      "metadata": {
        "id": "mUgC61h2ult-"
      },
      "execution_count": null,
      "outputs": []
    },
    {
      "cell_type": "markdown",
      "source": [
        "k-최근접 이윳 분류기의 확률 예측"
      ],
      "metadata": {
        "id": "YWhtWGR_yDo0"
      }
    },
    {
      "cell_type": "code",
      "source": [
        "# k-최근접 이웃 분류기로 훈련 후 정확도 확인\n",
        "from sklearn.neighbors import KNeighborsClassifier\n",
        "kn = KNeighborsClassifier(n_neighbors = 3)\n",
        "kn.fit(train_scaled, train_target)\n",
        "kn.score(train_scaled, train_target), kn.score(test_scaled, test_target)"
      ],
      "metadata": {
        "colab": {
          "base_uri": "https://localhost:8080/"
        },
        "id": "c5TzuFkHvpWI",
        "outputId": "ded31772-a30c-407f-92cd-e3bce225a1fc"
      },
      "execution_count": null,
      "outputs": [
        {
          "output_type": "execute_result",
          "data": {
            "text/plain": [
              "(0.8907563025210085, 0.85)"
            ]
          },
          "metadata": {},
          "execution_count": 9
        }
      ]
    },
    {
      "cell_type": "code",
      "source": [
        "# 각 클래스에 대한 확률 확인\n",
        "import numpy as np\n",
        "proba = kn.predict_proba(test_scaled[:5])\n",
        "np.round(proba, decimals = 4)# 소숫점 4번째 자리까지 표기"
      ],
      "metadata": {
        "colab": {
          "base_uri": "https://localhost:8080/"
        },
        "id": "z6cCH5cFwpq1",
        "outputId": "60988a02-d211-4ead-93cf-89c57dbfb1ef"
      },
      "execution_count": null,
      "outputs": [
        {
          "output_type": "execute_result",
          "data": {
            "text/plain": [
              "array([[0.    , 0.    , 1.    , 0.    , 0.    , 0.    , 0.    ],\n",
              "       [0.    , 0.    , 0.    , 0.    , 0.    , 1.    , 0.    ],\n",
              "       [0.    , 0.    , 0.    , 1.    , 0.    , 0.    , 0.    ],\n",
              "       [0.    , 0.    , 0.6667, 0.    , 0.3333, 0.    , 0.    ],\n",
              "       [0.    , 0.    , 0.6667, 0.    , 0.3333, 0.    , 0.    ]])"
            ]
          },
          "metadata": {},
          "execution_count": 10
        }
      ]
    },
    {
      "cell_type": "code",
      "source": [
        "distance, indexes = kn.kneighbors(test_scaled[3:4])\n",
        "train_target[indexes]"
      ],
      "metadata": {
        "colab": {
          "base_uri": "https://localhost:8080/"
        },
        "id": "AlYD8SSxaib7",
        "outputId": "6d418950-1351-4b38-ec4f-a4292fb6c9b6"
      },
      "execution_count": null,
      "outputs": [
        {
          "output_type": "execute_result",
          "data": {
            "text/plain": [
              "array([['Roach', 'Perch', 'Perch']], dtype=object)"
            ]
          },
          "metadata": {},
          "execution_count": 11
        }
      ]
    },
    {
      "cell_type": "markdown",
      "source": [
        "### 로지스틱 회귀\n",
        "> 이름은 회귀이지만 분류모델"
      ],
      "metadata": {
        "id": "6dFoS6YEcFTx"
      }
    },
    {
      "cell_type": "code",
      "source": [
        "# 시그모이드 함수 만들기\n",
        "import numpy as np\n",
        "import matplotlib.pyplot as plt\n",
        "z = np.arange(-5, 5)\n",
        "phi = 1 / (1 + np.exp(-z))\n",
        "plt.plot(z, phi)\n",
        "plt.xlabel('z')\n",
        "plt.ylabel('phi')\n",
        "plt.show()"
      ],
      "metadata": {
        "colab": {
          "base_uri": "https://localhost:8080/",
          "height": 279
        },
        "id": "ktnUVK0Qb2sq",
        "outputId": "a27e3c69-083b-4f0e-9867-e5a1e519f5ab"
      },
      "execution_count": null,
      "outputs": [
        {
          "output_type": "display_data",
          "data": {
            "text/plain": [
              "<Figure size 432x288 with 1 Axes>"
            ],
            "image/png": "[encoded data removed]"
          },
          "metadata": {
            "needs_background": "light"
          }
        }
      ]
    },
    {
      "cell_type": "markdown",
      "source": [
        "로지스틱 회귀로 이진 분류 진행하기"
      ],
      "metadata": {
        "id": "isrGcvtMyuNN"
      }
    },
    {
      "cell_type": "code",
      "source": [
        "# 도미와 빙어에 대한 데이터만 추출\n",
        "bream_smelt_indexes = (train_target == 'Bream') | (train_target == 'Smelt')\n",
        "train_bream_smelt = train_scaled[bream_smelt_indexes]\n",
        "target_bream_smelt = train_target[bream_smelt_indexes]\n",
        "train_bream_smelt.shape, target_bream_smelt.shape"
      ],
      "metadata": {
        "colab": {
          "base_uri": "https://localhost:8080/"
        },
        "id": "Q0_LqzhMdTgC",
        "outputId": "f6ddf095-6d1f-4c45-fde0-53a897037b26"
      },
      "execution_count": null,
      "outputs": [
        {
          "output_type": "execute_result",
          "data": {
            "text/plain": [
              "((33, 5), (33,))"
            ]
          },
          "metadata": {},
          "execution_count": 16
        }
      ]
    },
    {
      "cell_type": "code",
      "source": [
        "# 로지스틱 회귀를 사용하여 훈련\n",
        "from sklearn.linear_model import LogisticRegression\n",
        "lr = LogisticRegression()\n",
        "lr.fit(train_bream_smelt, target_bream_smelt)"
      ],
      "metadata": {
        "colab": {
          "base_uri": "https://localhost:8080/"
        },
        "id": "dJQ6wWRxfWQw",
        "outputId": "f8d15a41-d6c9-4aa6-da0e-860334516057"
      },
      "execution_count": null,
      "outputs": [
        {
          "output_type": "execute_result",
          "data": {
            "text/plain": [
              "LogisticRegression()"
            ]
          },
          "metadata": {},
          "execution_count": 17
        }
      ]
    },
    {
      "cell_type": "code",
      "source": [
        "# 5개의 훈련 값 예측\n",
        "lr.predict(train_bream_smelt[:5])"
      ],
      "metadata": {
        "colab": {
          "base_uri": "https://localhost:8080/"
        },
        "id": "qoFKmqS4gWef",
        "outputId": "d1d02c78-f926-4745-e042-1507580b4a23"
      },
      "execution_count": null,
      "outputs": [
        {
          "output_type": "execute_result",
          "data": {
            "text/plain": [
              "array(['Bream', 'Smelt', 'Bream', 'Bream', 'Bream'], dtype=object)"
            ]
          },
          "metadata": {},
          "execution_count": 18
        }
      ]
    },
    {
      "cell_type": "code",
      "source": [
        "# 5개의 샘플 예측확률 출력\n",
        "lr.predict_proba(train_bream_smelt[:5])"
      ],
      "metadata": {
        "colab": {
          "base_uri": "https://localhost:8080/"
        },
        "id": "_yvQUcSbhzad",
        "outputId": "59aa7c7e-e93c-4566-9185-543e32de80f3"
      },
      "execution_count": null,
      "outputs": [
        {
          "output_type": "execute_result",
          "data": {
            "text/plain": [
              "array([[0.99759855, 0.00240145],\n",
              "       [0.02735183, 0.97264817],\n",
              "       [0.99486072, 0.00513928],\n",
              "       [0.98584202, 0.01415798],\n",
              "       [0.99767269, 0.00232731]])"
            ]
          },
          "metadata": {},
          "execution_count": 19
        }
      ]
    },
    {
      "cell_type": "code",
      "source": [
        "# 클래스 순서 확인\n",
        "lr.classes_"
      ],
      "metadata": {
        "colab": {
          "base_uri": "https://localhost:8080/"
        },
        "id": "75_vzV70iVZ6",
        "outputId": "1d43866e-fd1b-4e22-bf52-7ee63325bc0b"
      },
      "execution_count": null,
      "outputs": [
        {
          "output_type": "execute_result",
          "data": {
            "text/plain": [
              "array(['Bream', 'Smelt'], dtype=object)"
            ]
          },
          "metadata": {},
          "execution_count": 21
        }
      ]
    },
    {
      "cell_type": "code",
      "source": [
        "# 계수확인\n",
        "lr.coef_, lr.intercept_"
      ],
      "metadata": {
        "colab": {
          "base_uri": "https://localhost:8080/"
        },
        "id": "XH1lUyP5ib_d",
        "outputId": "3ea606f7-92a6-444c-dfc4-6e6f8b967f1c"
      },
      "execution_count": null,
      "outputs": [
        {
          "output_type": "execute_result",
          "data": {
            "text/plain": [
              "(array([[-0.4037798 , -0.57620209, -0.66280298, -1.01290277, -0.73168947]]),\n",
              " array([-2.16155132]))"
            ]
          },
          "metadata": {},
          "execution_count": 22
        }
      ]
    },
    {
      "cell_type": "code",
      "source": [
        "# z값 구하기\n",
        "decisions = lr.decision_function(train_bream_smelt[:5])"
      ],
      "metadata": {
        "id": "y0FG6rkPirs4"
      },
      "execution_count": null,
      "outputs": []
    },
    {
      "cell_type": "code",
      "source": [
        "# 시그모이드 함수(expit())\n",
        "# predict_proba()를 통해 얻은 1열의 값과 같음\n",
        "from scipy.special import expit\n",
        "expit(decisions)"
      ],
      "metadata": {
        "colab": {
          "base_uri": "https://localhost:8080/"
        },
        "id": "Zch47tSai_qo",
        "outputId": "cb45519f-0756-4d21-9ec0-a6f237b6ea52"
      },
      "execution_count": null,
      "outputs": [
        {
          "output_type": "execute_result",
          "data": {
            "text/plain": [
              "array([0.00240145, 0.97264817, 0.00513928, 0.01415798, 0.00232731])"
            ]
          },
          "metadata": {},
          "execution_count": 26
        }
      ]
    },
    {
      "cell_type": "markdown",
      "source": [
        "로지스틱 회귀로 다중 분류 수행하기"
      ],
      "metadata": {
        "id": "63mJYxZazaEs"
      }
    },
    {
      "cell_type": "code",
      "source": [
        "# 로지스틱 회귀로 훈련 후 정확도 확인\n",
        "lr = LogisticRegression(C = 20, max_iter = 1000) # 규제를 제어하는 매개변수C (작을수록 규제가 커짐 / 기본값은 1)\n",
        "lr.fit(train_scaled, train_target)\n",
        "lr.score(train_scaled, train_target), lr.score(test_scaled, test_target)"
      ],
      "metadata": {
        "colab": {
          "base_uri": "https://localhost:8080/"
        },
        "id": "ZmKRALryjZEq",
        "outputId": "fbdccd5f-a7e1-4f27-b0a3-22d096a66ec5"
      },
      "execution_count": null,
      "outputs": [
        {
          "output_type": "execute_result",
          "data": {
            "text/plain": [
              "(0.9327731092436975, 0.925)"
            ]
          },
          "metadata": {},
          "execution_count": 28
        }
      ]
    },
    {
      "cell_type": "code",
      "source": [
        "# 5개 테스트 샘플의 정답 예측\n",
        "lr.predict(test_scaled[:5])"
      ],
      "metadata": {
        "colab": {
          "base_uri": "https://localhost:8080/"
        },
        "id": "Vyq0-G39obH3",
        "outputId": "22e81b2d-d4cf-4193-a2ad-2496f8c5e4a2"
      },
      "execution_count": null,
      "outputs": [
        {
          "output_type": "execute_result",
          "data": {
            "text/plain": [
              "array(['Perch', 'Smelt', 'Pike', 'Roach', 'Perch'], dtype=object)"
            ]
          },
          "metadata": {},
          "execution_count": 29
        }
      ]
    },
    {
      "cell_type": "code",
      "source": [
        "# 5개 샘플의 예측확률 추출\n",
        "proba = lr.predict_proba(test_scaled[:5])\n",
        "np.round(proba, decimals = 3)"
      ],
      "metadata": {
        "colab": {
          "base_uri": "https://localhost:8080/"
        },
        "id": "yiH1vBstoigX",
        "outputId": "c1cb5197-d03e-46ee-ac4d-67e5535772d4"
      },
      "execution_count": null,
      "outputs": [
        {
          "output_type": "execute_result",
          "data": {
            "text/plain": [
              "array([[0.   , 0.014, 0.841, 0.   , 0.136, 0.007, 0.003],\n",
              "       [0.   , 0.003, 0.044, 0.   , 0.007, 0.946, 0.   ],\n",
              "       [0.   , 0.   , 0.034, 0.935, 0.015, 0.016, 0.   ],\n",
              "       [0.011, 0.034, 0.306, 0.007, 0.567, 0.   , 0.076],\n",
              "       [0.   , 0.   , 0.904, 0.002, 0.089, 0.002, 0.001]])"
            ]
          },
          "metadata": {},
          "execution_count": 30
        }
      ]
    },
    {
      "cell_type": "code",
      "source": [
        "lr.classes_"
      ],
      "metadata": {
        "colab": {
          "base_uri": "https://localhost:8080/"
        },
        "id": "Ts2LZU8ko4CY",
        "outputId": "203f49d2-c861-4972-a302-001d0e7425d1"
      },
      "execution_count": null,
      "outputs": [
        {
          "output_type": "execute_result",
          "data": {
            "text/plain": [
              "array(['Bream', 'Parkki', 'Perch', 'Pike', 'Roach', 'Smelt', 'Whitefish'],\n",
              "      dtype=object)"
            ]
          },
          "metadata": {},
          "execution_count": 31
        }
      ]
    },
    {
      "cell_type": "code",
      "source": [
        "# 5개의 특성과 7개의 클래스(클래스 마다 z값을 계산 = 7개의 z값)\n",
        "lr.coef_.shape, lr.intercept_.shape"
      ],
      "metadata": {
        "colab": {
          "base_uri": "https://localhost:8080/"
        },
        "id": "Y3iAdcrjo-nE",
        "outputId": "39d35fe6-63b0-4552-a611-f9c7c43dc5b0"
      },
      "execution_count": null,
      "outputs": [
        {
          "output_type": "execute_result",
          "data": {
            "text/plain": [
              "((7, 5), (7,))"
            ]
          },
          "metadata": {},
          "execution_count": 32
        }
      ]
    },
    {
      "cell_type": "markdown",
      "source": [
        "소프트맥스 함수(여러개의 선형 방정식의 출력 값을 0~1사이로 압축하고 전체 합이 1이 되도록 만듬)"
      ],
      "metadata": {
        "id": "M3d1X53aqbqg"
      }
    },
    {
      "cell_type": "code",
      "source": [
        "# z1 ~ z7까지 구한 후 소프트맥스 함수를 이용하여 확률로 바꾸어 보기\n",
        "decision = lr.decision_function(test_scaled[:5])\n",
        "np.round(decision, decimals = 2)"
      ],
      "metadata": {
        "colab": {
          "base_uri": "https://localhost:8080/"
        },
        "id": "zgh7gLm1pJho",
        "outputId": "20f2157a-b84b-4fe9-e1b5-16ab5058fd4a"
      },
      "execution_count": null,
      "outputs": [
        {
          "output_type": "execute_result",
          "data": {
            "text/plain": [
              "array([[ -6.5 ,   1.03,   5.16,  -2.73,   3.34,   0.33,  -0.63],\n",
              "       [-10.86,   1.93,   4.77,  -2.4 ,   2.98,   7.84,  -4.26],\n",
              "       [ -4.34,  -6.23,   3.17,   6.49,   2.36,   2.42,  -3.87],\n",
              "       [ -0.68,   0.45,   2.65,  -1.19,   3.26,  -5.75,   1.26],\n",
              "       [ -6.4 ,  -1.99,   5.82,  -0.11,   3.5 ,  -0.11,  -0.71]])"
            ]
          },
          "metadata": {},
          "execution_count": 33
        }
      ]
    },
    {
      "cell_type": "code",
      "source": [
        "from scipy.special import softmax\n",
        "proba = softmax(decision, axis = 1)\n",
        "np.round(proba, decimals = 3)"
      ],
      "metadata": {
        "colab": {
          "base_uri": "https://localhost:8080/"
        },
        "id": "EVZkwydOq5aa",
        "outputId": "5d858e5f-65cf-4ef9-d3a3-c7235beba084"
      },
      "execution_count": null,
      "outputs": [
        {
          "output_type": "execute_result",
          "data": {
            "text/plain": [
              "array([[0.   , 0.014, 0.841, 0.   , 0.136, 0.007, 0.003],\n",
              "       [0.   , 0.003, 0.044, 0.   , 0.007, 0.946, 0.   ],\n",
              "       [0.   , 0.   , 0.034, 0.935, 0.015, 0.016, 0.   ],\n",
              "       [0.011, 0.034, 0.306, 0.007, 0.567, 0.   , 0.076],\n",
              "       [0.   , 0.   , 0.904, 0.002, 0.089, 0.002, 0.001]])"
            ]
          },
          "metadata": {},
          "execution_count": 34
        }
      ]
    },
    {
      "cell_type": "code",
      "source": [
        ""
      ],
      "metadata": {
        "id": "n9ZeZePdrM1M"
      },
      "execution_count": null,
      "outputs": []
    }
  ]
}