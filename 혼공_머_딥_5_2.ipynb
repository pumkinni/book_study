{
  "nbformat": 4,
  "nbformat_minor": 0,
  "metadata": {
    "colab": {
      "name": "혼공_머.딥_5-2.ipynb",
      "provenance": [],
      "collapsed_sections": [],
      "authorship_tag": "ABX9TyOg8sdPL2rBAXgf3dpa4kzD",
      "include_colab_link": true
    },
    "kernelspec": {
      "name": "python3",
      "display_name": "Python 3"
    },
    "language_info": {
      "name": "python"
    }
  },
  "cells": [
    {
      "cell_type": "markdown",
      "metadata": {
        "id": "view-in-github",
        "colab_type": "text"
      },
      "source": [
        "<a href=\"https://colab.research.google.com/github/pumkinni/book_study/blob/master/%ED%98%BC%EA%B3%B5_%EB%A8%B8_%EB%94%A5_5_2.ipynb\" target=\"_parent\"><img src=\"https://colab.research.google.com/assets/colab-badge.svg\" alt=\"Open In Colab\"/></a>"
      ]
    },
    {
      "cell_type": "markdown",
      "source": [
        "# 교차 검증과 그리드 서치\n",
        "> 검증 세트가 필요한 이유를 이해하고 교차 검증에 대해 배움\n",
        "\n",
        "> 그리드 서치와 랜덤 서치를 이용해 최적의 성능을 내는 하이퍼파라미터를 찾음"
      ],
      "metadata": {
        "id": "NwB_564QeuLU"
      }
    },
    {
      "cell_type": "markdown",
      "source": [
        "#### 검증 세트\n",
        "- 테스트 세트를 사용하지 않기 위해 훈련 세트를 나눈 데이터\n",
        "\n",
        "- ex) 훈련세트(60%), 검증세트(20%), 테스트세트(20%)"
      ],
      "metadata": {
        "id": "MTgUUE_5fhBf"
      }
    },
    {
      "cell_type": "markdown",
      "source": [
        "#### 훈련 방법\n",
        "1. 훈련 세트에서 모델 훈련 후 검증 세트로 모델 평가\n",
        "2. 테스트하고 싶은 매개변수를 바꿔가며 가장 좋은 모델 선택\n",
        "3. 이 매개변수를 사용해 전체 훈련 데이터(훈련 세트 + 검증 세트)에서 모델을 다시 훈련\n",
        "4. 테스트 세트에서 최종 점수 평가"
      ],
      "metadata": {
        "id": "PJOSPIVhgRL1"
      }
    },
    {
      "cell_type": "code",
      "execution_count": null,
      "metadata": {
        "id": "dq9WtTOveBHl"
      },
      "outputs": [],
      "source": [
        "# 데이터 불러오기\n",
        "import pandas as pd\n",
        "wine = pd.read_csv('https://bit.ly/wine_data')"
      ]
    },
    {
      "cell_type": "code",
      "source": [
        "# 입력 데이터와 정답 데이터 분리\n",
        "data = wine[['alcohol', 'sugar', 'pH']].to_numpy()\n",
        "target = wine['class'].to_numpy()"
      ],
      "metadata": {
        "id": "I5i_20VRhOQO"
      },
      "execution_count": null,
      "outputs": []
    },
    {
      "cell_type": "code",
      "source": [
        "wine.head()\n",
        "data, target"
      ],
      "metadata": {
        "colab": {
          "base_uri": "https://localhost:8080/"
        },
        "id": "c6Lm_ZohiYfA",
        "outputId": "5605f163-5add-4b2a-9131-6e95ed243b07"
      },
      "execution_count": null,
      "outputs": [
        {
          "output_type": "execute_result",
          "data": {
            "text/plain": [
              "(array([[ 9.4 ,  1.9 ,  3.51],\n",
              "        [ 9.8 ,  2.6 ,  3.2 ],\n",
              "        [ 9.8 ,  2.3 ,  3.26],\n",
              "        ...,\n",
              "        [ 9.4 ,  1.2 ,  2.99],\n",
              "        [12.8 ,  1.1 ,  3.34],\n",
              "        [11.8 ,  0.8 ,  3.26]]), array([0., 0., 0., ..., 1., 1., 1.]))"
            ]
          },
          "metadata": {},
          "execution_count": 8
        }
      ]
    },
    {
      "cell_type": "code",
      "source": [
        "# 테스트 데이터와 훈련 데이터 분리\n",
        "from sklearn.model_selection import train_test_split\n",
        "train_input, test_input, train_target, test_target = train_test_split(data, target, test_size = 0.2, random_state = 42)"
      ],
      "metadata": {
        "id": "1vs6jIfGhjma"
      },
      "execution_count": null,
      "outputs": []
    },
    {
      "cell_type": "code",
      "source": [
        "# 훈련데이터를 훈련데이터와 검증데이터로 분리\n",
        "sub_input, val_input, sub_target, val_target = train_test_split(train_input, train_target, test_size = 0.2, random_state= 42)\n",
        "sub_input.shape, val_input.shape"
      ],
      "metadata": {
        "colab": {
          "base_uri": "https://localhost:8080/"
        },
        "id": "pcF1XaZ8h9g_",
        "outputId": "46cc431a-5184-42f9-ff31-cad61de09c06"
      },
      "execution_count": null,
      "outputs": [
        {
          "output_type": "execute_result",
          "data": {
            "text/plain": [
              "((4157, 3), (1040, 3))"
            ]
          },
          "metadata": {},
          "execution_count": 10
        }
      ]
    },
    {
      "cell_type": "code",
      "source": [
        "# 결정트리분류로 훈련 후 정확도 확인\n",
        "from sklearn.tree import DecisionTreeClassifier\n",
        "dt = DecisionTreeClassifier(random_state= 42)\n",
        "dt.fit(sub_input, sub_target)\n",
        "dt.score(sub_input, sub_target), dt.score(val_input, val_target)"
      ],
      "metadata": {
        "colab": {
          "base_uri": "https://localhost:8080/"
        },
        "id": "A9TXEwrYp4NU",
        "outputId": "f54d8746-bc60-49d3-f55a-f8f9ae2d368c"
      },
      "execution_count": null,
      "outputs": [
        {
          "output_type": "execute_result",
          "data": {
            "text/plain": [
              "(0.9971133028626413, 0.864423076923077)"
            ]
          },
          "metadata": {},
          "execution_count": 18
        }
      ]
    },
    {
      "cell_type": "markdown",
      "source": [
        "#### 교차검증\n",
        "- 검증 세트를 떼어 내어 평가하는 과정을 여러 번 반복\n",
        "\n",
        "- k-폴드 교차 검증 : 훈련 세트를 k 부분으로 나눠서 교차 검증 을 수행하는 것\n",
        "  >  ex) 3-폴드 교차 검증\n",
        "      훈련, 훈련, 검증\n",
        "      훈련, 검증, 훈련  ---> 검증 점수 평균\n",
        "      검증, 훈련, 훈련\n",
        "-교차 검증 함수 : cross_validate(모델 객체, 훈련_input, 훈련_target)\n",
        "  > fit_time(모델을 훈련하는 시간), score_time(모델을 검증하는 시간), test_score(검증 폴드의 점수) 키를 가진 딕셔너리를 반환\n",
        "\n",
        "  > 기본 5-폴드 교차 검증"
      ],
      "metadata": {
        "id": "Hfv0v6fdq2a9"
      }
    },
    {
      "cell_type": "code",
      "source": [
        "# 교차검증\n",
        "from sklearn.model_selection import cross_validate\n",
        "scores = cross_validate(dt, train_input, train_target)\n",
        "scores"
      ],
      "metadata": {
        "colab": {
          "base_uri": "https://localhost:8080/"
        },
        "id": "L66vv5OnqdkL",
        "outputId": "f48218a8-bed4-4be4-ca62-7f38da097545"
      },
      "execution_count": null,
      "outputs": [
        {
          "output_type": "execute_result",
          "data": {
            "text/plain": [
              "{'fit_time': array([0.01081634, 0.01015735, 0.00819206, 0.00762248, 0.00727725]),\n",
              " 'score_time': array([0.00145531, 0.00154018, 0.00090623, 0.00086522, 0.00077367]),\n",
              " 'test_score': array([0.86923077, 0.84615385, 0.87680462, 0.84889317, 0.83541867])}"
            ]
          },
          "metadata": {},
          "execution_count": 19
        }
      ]
    },
    {
      "cell_type": "code",
      "source": [
        "# 테스트 스코어의 평균값 확인\n",
        "import numpy as np\n",
        "print(np.mean(scores['test_score']))"
      ],
      "metadata": {
        "colab": {
          "base_uri": "https://localhost:8080/"
        },
        "id": "lwif0TPWupKi",
        "outputId": "e865a9da-c307-414f-ebed-3127e22e7d2a"
      },
      "execution_count": null,
      "outputs": [
        {
          "output_type": "stream",
          "name": "stdout",
          "text": [
            "0.855300214703487\n"
          ]
        }
      ]
    },
    {
      "cell_type": "code",
      "source": [
        "# 교차 검즘시 훈련세트를 섞을려면 분할기를 지정\n",
        "# 사이킷런의 분할기는 교차 검증 시 폴드를 어떻게 나눌지 결정\n",
        "# 회귀 모델 : KFold, 분류 모델 : StratifiedKFold\n",
        "from sklearn.model_selection import StratifiedKFold\n",
        "scores = cross_validate(dt, train_input, train_target, cv = StratifiedKFold())\n",
        "np.mean(scores['test_score'])"
      ],
      "metadata": {
        "colab": {
          "base_uri": "https://localhost:8080/"
        },
        "id": "EaS6CeybyzEs",
        "outputId": "917478f4-59c4-48e6-f9e9-caf24eb7c883"
      },
      "execution_count": null,
      "outputs": [
        {
          "output_type": "execute_result",
          "data": {
            "text/plain": [
              "0.855300214703487"
            ]
          },
          "metadata": {},
          "execution_count": 21
        }
      ]
    },
    {
      "cell_type": "code",
      "source": [
        "# 훈련세트를 섞은 후 10-폴드 교차 검증을 수행\n",
        "splitter = StratifiedKFold(n_splits = 10, shuffle = True, random_state = 42)\n",
        "scores = cross_validate(dt, train_input, train_target, cv = splitter)\n",
        "np.mean(scores['test_score'])"
      ],
      "metadata": {
        "colab": {
          "base_uri": "https://localhost:8080/"
        },
        "id": "PkYdluhpuyqQ",
        "outputId": "772bca7e-8c08-468a-ea76-f94267a8b4ef"
      },
      "execution_count": null,
      "outputs": [
        {
          "output_type": "execute_result",
          "data": {
            "text/plain": [
              "0.8574181117533719"
            ]
          },
          "metadata": {},
          "execution_count": 22
        }
      ]
    },
    {
      "cell_type": "markdown",
      "source": [
        "#### 하이퍼파라미터 튜닝\n",
        "- 그리드 서치(GridSearchCV) : 하이퍼파라미터 탐색과 교차 검증을 한 번에 수행\n"
      ],
      "metadata": {
        "id": "KRNuvALi0oeQ"
      }
    },
    {
      "cell_type": "code",
      "source": [
        "# 탐색할 매개변수 지정(min_impurity_decrease(불순도 감소 최소량) 매개변수의 최적값 찾기)\n",
        "from sklearn.model_selection import GridSearchCV\n",
        "params = {'min_impurity_decrease' : [0.0001, 0.0002, 0.0003, 0.0004, 0.0005]}"
      ],
      "metadata": {
        "id": "zVky6nsF0Ege"
      },
      "execution_count": null,
      "outputs": []
    },
    {
      "cell_type": "code",
      "source": [
        "# 그리드 서치 객체 생성\n",
        "gs = GridSearchCV(DecisionTreeClassifier(random_state = 42), params, n_jobs = -1)\n",
        "# n_jobs : '병렬 실행에 사용할 CPU 코어 수 지정\n",
        "#'기본값 = 1'(-1 : 시스템에 있는 모든 코어를 사용)"
      ],
      "metadata": {
        "id": "9NIrtjHW3nOF"
      },
      "execution_count": null,
      "outputs": []
    },
    {
      "cell_type": "code",
      "source": [
        "# 그리드 서치는 훈련이 끝나면 25개의 모델 중에서 검증 점수가 가장 높은 모델의 매개변수 조합으로 \n",
        "# 전체 훈련 세트에서 자동으로 다시 모델을 훈련 후 gs객체의 best_estimator_ 속성에 저장\n",
        "gs.fit(train_input, train_target)"
      ],
      "metadata": {
        "colab": {
          "base_uri": "https://localhost:8080/"
        },
        "id": "nr6ib3iP4EoX",
        "outputId": "a1261225-9482-4e70-afab-c27126c491bf"
      },
      "execution_count": null,
      "outputs": [
        {
          "output_type": "execute_result",
          "data": {
            "text/plain": [
              "GridSearchCV(estimator=DecisionTreeClassifier(random_state=42), n_jobs=-1,\n",
              "             param_grid={'min_impurity_decrease': [0.0001, 0.0002, 0.0003,\n",
              "                                                   0.0004, 0.0005]})"
            ]
          },
          "metadata": {},
          "execution_count": 25
        }
      ]
    },
    {
      "cell_type": "code",
      "source": [
        "dt = gs.best_estimator_\n",
        "dt.score(train_input, train_target), dt.score(test_input, test_target)"
      ],
      "metadata": {
        "colab": {
          "base_uri": "https://localhost:8080/",
          "height": 194
        },
        "id": "jfb5Fp7u4JA_",
        "outputId": "844e512f-07bd-4cb9-956a-6b55253aa434"
      },
      "execution_count": null,
      "outputs": [
        {
          "output_type": "error",
          "ename": "NameError",
          "evalue": "ignored",
          "traceback": [
            "\u001b[0;31m---------------------------------------------------------------------------\u001b[0m",
            "\u001b[0;31mNameError\u001b[0m                                 Traceback (most recent call last)",
            "\u001b[0;32m<ipython-input-1-351253cc2542>\u001b[0m in \u001b[0;36m<module>\u001b[0;34m()\u001b[0m\n\u001b[0;32m----> 1\u001b[0;31m \u001b[0mdt\u001b[0m \u001b[0;34m=\u001b[0m \u001b[0mgs\u001b[0m\u001b[0;34m.\u001b[0m\u001b[0mbest_estimator_\u001b[0m\u001b[0;34m\u001b[0m\u001b[0;34m\u001b[0m\u001b[0m\n\u001b[0m\u001b[1;32m      2\u001b[0m \u001b[0mdt\u001b[0m\u001b[0;34m.\u001b[0m\u001b[0mscore\u001b[0m\u001b[0;34m(\u001b[0m\u001b[0mtrain_input\u001b[0m\u001b[0;34m,\u001b[0m \u001b[0mtrain_target\u001b[0m\u001b[0;34m)\u001b[0m\u001b[0;34m,\u001b[0m \u001b[0mdt\u001b[0m\u001b[0;34m.\u001b[0m\u001b[0mscore\u001b[0m\u001b[0;34m(\u001b[0m\u001b[0mtest_input\u001b[0m\u001b[0;34m,\u001b[0m \u001b[0mtest_target\u001b[0m\u001b[0;34m)\u001b[0m\u001b[0;34m\u001b[0m\u001b[0;34m\u001b[0m\u001b[0m\n",
            "\u001b[0;31mNameError\u001b[0m: name 'gs' is not defined"
          ]
        }
      ]
    },
    {
      "cell_type": "code",
      "source": [
        "# 그리드 서치로 찾은 최적의 매개변수는 best_params_ 속성에 저장\n",
        "gs.best_params_"
      ],
      "metadata": {
        "colab": {
          "base_uri": "https://localhost:8080/"
        },
        "id": "X_3f-0314z7s",
        "outputId": "bf12ac6d-9691-4eee-f617-648fd421dc54"
      },
      "execution_count": null,
      "outputs": [
        {
          "output_type": "execute_result",
          "data": {
            "text/plain": [
              "{'min_impurity_decrease': 0.0001}"
            ]
          },
          "metadata": {},
          "execution_count": 28
        }
      ]
    },
    {
      "cell_type": "code",
      "source": [
        "# 각 매개변수에서 수행한 교차 검증의 평균 점수는 cv_results_ 속성의 'mean_test_score'에 저장\n",
        "gs.cv_results_['mean_test_score']"
      ],
      "metadata": {
        "colab": {
          "base_uri": "https://localhost:8080/"
        },
        "id": "LW2TAUer5GkI",
        "outputId": "2810fe54-017f-4cc4-c550-25eb121ed8c3"
      },
      "execution_count": null,
      "outputs": [
        {
          "output_type": "execute_result",
          "data": {
            "text/plain": [
              "array([0.86819297, 0.86453617, 0.86492226, 0.86780891, 0.86761605])"
            ]
          },
          "metadata": {},
          "execution_count": 30
        }
      ]
    },
    {
      "cell_type": "code",
      "source": [
        "best_index = np.argmax(gs.cv_results_['mean_test_score'])\n",
        "gs.cv_results_['params'][best_index]"
      ],
      "metadata": {
        "colab": {
          "base_uri": "https://localhost:8080/"
        },
        "id": "Ei0sSdM75ZV-",
        "outputId": "677490f4-17f8-42c7-b04e-7c9b224c37e4"
      },
      "execution_count": null,
      "outputs": [
        {
          "output_type": "execute_result",
          "data": {
            "text/plain": [
              "{'min_impurity_decrease': 0.0001}"
            ]
          },
          "metadata": {},
          "execution_count": 33
        }
      ]
    },
    {
      "cell_type": "markdown",
      "source": [
        "더 복잡한 매개변수 조합"
      ],
      "metadata": {
        "id": "NmBRTRmRIgaf"
      }
    },
    {
      "cell_type": "code",
      "source": [
        "# 탐색할 매개변수 지정\n",
        "# min_umpurity_decrease(노드를 분할하기 위한 불순도 감소 최소량 지정), max_depth(트리의 깊이), min_samples_split(노드를 나누기 위한 최소 샘플 수)\n",
        "params = {'min_impurity_decrease' : np.arange(0.0001, 0.001, 0.0001),\n",
        "          'max_depth' : range(5, 20, 1),\n",
        "          'min_samples_split' : range(2, 100, 10)\n",
        "          }"
      ],
      "metadata": {
        "id": "Uwa32AGGAzFJ"
      },
      "execution_count": null,
      "outputs": []
    },
    {
      "cell_type": "code",
      "source": [
        "gs = GridSearchCV(DecisionTreeClassifier(random_state = 42), params, n_jobs = -1)\n",
        "gs.fit(train_input, train_target)"
      ],
      "metadata": {
        "colab": {
          "base_uri": "https://localhost:8080/"
        },
        "id": "AfdEZromOEaV",
        "outputId": "19231886-f892-4885-d4dd-40b3053393a0"
      },
      "execution_count": null,
      "outputs": [
        {
          "output_type": "execute_result",
          "data": {
            "text/plain": [
              "GridSearchCV(estimator=DecisionTreeClassifier(random_state=42), n_jobs=-1,\n",
              "             param_grid={'max_depth': range(5, 20),\n",
              "                         'min_impurity_decrease': array([0.0001, 0.0002, 0.0003, 0.0004, 0.0005, 0.0006, 0.0007, 0.0008,\n",
              "       0.0009]),\n",
              "                         'min_samples_split': range(2, 100, 10)})"
            ]
          },
          "metadata": {},
          "execution_count": 35
        }
      ]
    },
    {
      "cell_type": "code",
      "source": [
        "# 최상의 매개변수 조합 확인\n",
        "gs.best_params_"
      ],
      "metadata": {
        "colab": {
          "base_uri": "https://localhost:8080/"
        },
        "id": "hkgmwhJzOVaE",
        "outputId": "399c09df-1dc2-4872-d88b-8588511a5091"
      },
      "execution_count": null,
      "outputs": [
        {
          "output_type": "execute_result",
          "data": {
            "text/plain": [
              "{'max_depth': 14, 'min_impurity_decrease': 0.0004, 'min_samples_split': 12}"
            ]
          },
          "metadata": {},
          "execution_count": 36
        }
      ]
    },
    {
      "cell_type": "code",
      "source": [
        "# 최상의 교차 점수 확인\n",
        "np.max(gs.cv_results_['mean_test_score'])"
      ],
      "metadata": {
        "colab": {
          "base_uri": "https://localhost:8080/"
        },
        "id": "Re7rdOODOg9w",
        "outputId": "3f54c68c-25c6-4fea-ff55-e2518d220b79"
      },
      "execution_count": null,
      "outputs": [
        {
          "output_type": "execute_result",
          "data": {
            "text/plain": [
              "0.8683865773302731"
            ]
          },
          "metadata": {},
          "execution_count": 37
        }
      ]
    },
    {
      "cell_type": "markdown",
      "source": [
        "#### 랜덤 서치\n",
        "> 매개변수의 값이 수치일 때 값의 범위나 간격을 미리 정하기 어려울 때 사용\n",
        "\n",
        "> 매개변수 값의 목록을 전달하는 것이 아니라 매개변수를 샘플링 할 수 있는 확률 분포 객체를 전달"
      ],
      "metadata": {
        "id": "1S4NICpeO-eW"
      }
    },
    {
      "cell_type": "code",
      "source": [
        "# 싸이파이(scipy) - 적분, 보간, 선형대수, 확률 등을 포함한 수치 계산 전용 라이브러리\n",
        "from scipy.stats import uniform, randint"
      ],
      "metadata": {
        "id": "QiKb8FfmOysj"
      },
      "execution_count": null,
      "outputs": []
    },
    {
      "cell_type": "code",
      "source": [
        "# randint : 랜덤하게 정수값 뽑기\n",
        "rgen = randint(0, 10)\n",
        "rgen.rvs(10)"
      ],
      "metadata": {
        "colab": {
          "base_uri": "https://localhost:8080/"
        },
        "id": "yJoB1eIDQbam",
        "outputId": "ec7523fa-3eff-4804-94ea-d7c47c09951d"
      },
      "execution_count": null,
      "outputs": [
        {
          "output_type": "execute_result",
          "data": {
            "text/plain": [
              "array([0, 0, 2, 5, 5, 9, 7, 2, 1, 0])"
            ]
          },
          "metadata": {},
          "execution_count": 39
        }
      ]
    },
    {
      "cell_type": "code",
      "source": [
        "np.unique(rgen.rvs(1000), return_counts= True)"
      ],
      "metadata": {
        "colab": {
          "base_uri": "https://localhost:8080/"
        },
        "id": "E3dDIfBxQg7p",
        "outputId": "004f0eb6-c1b9-48e9-f2b2-ad33130f160e"
      },
      "execution_count": null,
      "outputs": [
        {
          "output_type": "execute_result",
          "data": {
            "text/plain": [
              "(array([0, 1, 2, 3, 4, 5, 6, 7, 8, 9]),\n",
              " array([102, 116,  89,  99,  92,  93, 104,  95, 103, 107]))"
            ]
          },
          "metadata": {},
          "execution_count": 40
        }
      ]
    },
    {
      "cell_type": "code",
      "source": [
        "# uniform : 실숫값 뽑기\n",
        "ugen = uniform(0,1)\n",
        "ugen.rvs(10)"
      ],
      "metadata": {
        "colab": {
          "base_uri": "https://localhost:8080/"
        },
        "id": "pOFURdg6QyeG",
        "outputId": "8007f7f4-7575-411e-cdf9-9402bded6bc4"
      },
      "execution_count": null,
      "outputs": [
        {
          "output_type": "execute_result",
          "data": {
            "text/plain": [
              "array([0.52688575, 0.39582782, 0.50311582, 0.64521245, 0.37452119,\n",
              "       0.70081294, 0.46143909, 0.22448065, 0.20023845, 0.01764448])"
            ]
          },
          "metadata": {},
          "execution_count": 41
        }
      ]
    },
    {
      "cell_type": "code",
      "source": [
        "# 탐색할 매개변수 범위 지정\n",
        "params = {'min_impurity_decrease' : uniform(0.0001, 0.001),\n",
        "          'max_depth' : randint(20, 50),\n",
        "          'min_samples_split' : randint(2, 25),\n",
        "          'min_samples_leaf' : randint(1, 25) # 리프 노드가 되기 위한 최소 샘플의 개수\n",
        "          }"
      ],
      "metadata": {
        "id": "ruX5IB3TRMg2"
      },
      "execution_count": null,
      "outputs": []
    },
    {
      "cell_type": "code",
      "source": [
        "from sklearn.model_selection import RandomizedSearchCV\n",
        "gs = RandomizedSearchCV(DecisionTreeClassifier(random_state = 42), params, n_iter = 100, n_jobs = -1, random_state=42) # n_ier = \"샘플링 횟수\"\n",
        "gs.fit(train_input, train_target)"
      ],
      "metadata": {
        "colab": {
          "base_uri": "https://localhost:8080/"
        },
        "id": "H2vKsG5QSNX6",
        "outputId": "e78e17a7-c924-4f09-9858-f6132b1fe138"
      },
      "execution_count": null,
      "outputs": [
        {
          "output_type": "stream",
          "name": "stderr",
          "text": [
            "/usr/local/lib/python3.7/dist-packages/sklearn/model_selection/_validation.py:372: FitFailedWarning: \n",
            "35 fits failed out of a total of 500.\n",
            "The score on these train-test partitions for these parameters will be set to nan.\n",
            "If these failures are not expected, you can try to debug them by setting error_score='raise'.\n",
            "\n",
            "Below are more details about the failures:\n",
            "--------------------------------------------------------------------------------\n",
            "35 fits failed with the following error:\n",
            "Traceback (most recent call last):\n",
            "  File \"/usr/local/lib/python3.7/dist-packages/sklearn/model_selection/_validation.py\", line 680, in _fit_and_score\n",
            "    estimator.fit(X_train, y_train, **fit_params)\n",
            "  File \"/usr/local/lib/python3.7/dist-packages/sklearn/tree/_classes.py\", line 942, in fit\n",
            "    X_idx_sorted=X_idx_sorted,\n",
            "  File \"/usr/local/lib/python3.7/dist-packages/sklearn/tree/_classes.py\", line 254, in fit\n",
            "    % self.min_samples_split\n",
            "ValueError: min_samples_split must be an integer greater than 1 or a float in (0.0, 1.0]; got the integer 1\n",
            "\n",
            "  warnings.warn(some_fits_failed_message, FitFailedWarning)\n",
            "/usr/local/lib/python3.7/dist-packages/sklearn/model_selection/_search.py:972: UserWarning: One or more of the test scores are non-finite: [0.86511513 0.86261235 0.86838528 0.86607796 0.86376731        nan\n",
            " 0.86280503 0.86280484 0.86357592 0.86357555 0.86280503 0.8626142\n",
            " 0.86472977 0.86954283 0.86203543 0.86761827 0.86222884 0.86473033\n",
            " 0.86877082 0.86184423 0.86165174 0.86511494 0.8626142  0.86203543\n",
            " 0.86511476 0.86607722 0.86222773 0.86684682        nan 0.86338436\n",
            " 0.8629977  0.86242171 0.86184478 0.86165211 0.86049808 0.86530706\n",
            " 0.86280521 0.8681952  0.86203524 0.86318983 0.86780947        nan\n",
            " 0.86126694 0.86934867        nan 0.86530743 0.86434497 0.86415303\n",
            " 0.86838602 0.86530688 0.86145813        nan 0.8618446  0.86145961\n",
            " 0.86338454 0.86530632 0.86242152 0.8645382  0.86203543 0.86376916\n",
            " 0.86473051 0.86184275 0.86338454 0.86242004 0.86107481 0.86203654\n",
            " 0.86184478 0.86434552 0.86184478 0.86299696 0.86242023 0.86338417\n",
            " 0.86338269        nan 0.86415303 0.86665433 0.86261253 0.86222884\n",
            " 0.86858111 0.86472903        nan 0.86261457 0.86742448 0.86434497\n",
            " 0.86684682 0.86184423 0.86107481 0.8689648  0.86338362 0.86242171\n",
            " 0.8674243  0.86222773 0.86242004 0.86415414 0.86261401 0.86723366\n",
            " 0.86626971 0.86646165 0.86376749 0.86242226]\n",
            "  category=UserWarning,\n"
          ]
        },
        {
          "output_type": "execute_result",
          "data": {
            "text/plain": [
              "RandomizedSearchCV(estimator=DecisionTreeClassifier(random_state=42),\n",
              "                   n_iter=100, n_jobs=-1,\n",
              "                   param_distributions={'max_depth': <scipy.stats._distn_infrastructure.rv_frozen object at 0x7f5c9488d710>,\n",
              "                                        'min_impurity_decrease': <scipy.stats._distn_infrastructure.rv_frozen object at 0x7f5c9488d390>,\n",
              "                                        'min_samples_leaf': <scipy.stats._distn_infrastructure.rv_frozen object at 0x7f5c93e93c10>,\n",
              "                                        'min_samples_split': <scipy.stats._distn_infrastructure.rv_frozen object at 0x7f5c9492d4d0>},\n",
              "                   random_state=42)"
            ]
          },
          "metadata": {},
          "execution_count": 48
        }
      ]
    },
    {
      "cell_type": "code",
      "source": [
        "gs.best_params_"
      ],
      "metadata": {
        "colab": {
          "base_uri": "https://localhost:8080/"
        },
        "id": "zgnuJGWfSzpq",
        "outputId": "0273c161-e84d-46da-f4d9-490651eaf0a6"
      },
      "execution_count": null,
      "outputs": [
        {
          "output_type": "execute_result",
          "data": {
            "text/plain": [
              "{'max_depth': 39,\n",
              " 'min_impurity_decrease': 0.00034102546602601173,\n",
              " 'min_samples_leaf': 7,\n",
              " 'min_samples_split': 12}"
            ]
          },
          "metadata": {},
          "execution_count": 49
        }
      ]
    },
    {
      "cell_type": "code",
      "source": [
        "gs.cv_results_['mean_test_score']"
      ],
      "metadata": {
        "colab": {
          "base_uri": "https://localhost:8080/"
        },
        "id": "r5ZLs6lsTFP1",
        "outputId": "cf976216-90a5-4a12-e86c-6d2bce0e5b58"
      },
      "execution_count": null,
      "outputs": [
        {
          "output_type": "execute_result",
          "data": {
            "text/plain": [
              "array([0.86511513, 0.86261235, 0.86838528, 0.86607796, 0.86376731,\n",
              "              nan, 0.86280503, 0.86280484, 0.86357592, 0.86357555,\n",
              "       0.86280503, 0.8626142 , 0.86472977, 0.86954283, 0.86203543,\n",
              "       0.86761827, 0.86222884, 0.86473033, 0.86877082, 0.86184423,\n",
              "       0.86165174, 0.86511494, 0.8626142 , 0.86203543, 0.86511476,\n",
              "       0.86607722, 0.86222773, 0.86684682,        nan, 0.86338436,\n",
              "       0.8629977 , 0.86242171, 0.86184478, 0.86165211, 0.86049808,\n",
              "       0.86530706, 0.86280521, 0.8681952 , 0.86203524, 0.86318983,\n",
              "       0.86780947,        nan, 0.86126694, 0.86934867,        nan,\n",
              "       0.86530743, 0.86434497, 0.86415303, 0.86838602, 0.86530688,\n",
              "       0.86145813,        nan, 0.8618446 , 0.86145961, 0.86338454,\n",
              "       0.86530632, 0.86242152, 0.8645382 , 0.86203543, 0.86376916,\n",
              "       0.86473051, 0.86184275, 0.86338454, 0.86242004, 0.86107481,\n",
              "       0.86203654, 0.86184478, 0.86434552, 0.86184478, 0.86299696,\n",
              "       0.86242023, 0.86338417, 0.86338269,        nan, 0.86415303,\n",
              "       0.86665433, 0.86261253, 0.86222884, 0.86858111, 0.86472903,\n",
              "              nan, 0.86261457, 0.86742448, 0.86434497, 0.86684682,\n",
              "       0.86184423, 0.86107481, 0.8689648 , 0.86338362, 0.86242171,\n",
              "       0.8674243 , 0.86222773, 0.86242004, 0.86415414, 0.86261401,\n",
              "       0.86723366, 0.86626971, 0.86646165, 0.86376749, 0.86242226])"
            ]
          },
          "metadata": {},
          "execution_count": 51
        }
      ]
    },
    {
      "cell_type": "code",
      "source": [
        "dt = gs.best_estimator_\n",
        "dt.score(test_input, test_target)"
      ],
      "metadata": {
        "colab": {
          "base_uri": "https://localhost:8080/"
        },
        "id": "UKttx3anTO3U",
        "outputId": "090c2891-c34a-4ac4-d133-c478ecce7f47"
      },
      "execution_count": null,
      "outputs": [
        {
          "output_type": "execute_result",
          "data": {
            "text/plain": [
              "0.86"
            ]
          },
          "metadata": {},
          "execution_count": 52
        }
      ]
    },
    {
      "cell_type": "code",
      "source": [
        ""
      ],
      "metadata": {
        "id": "jT1r28VfUT-4"
      },
      "execution_count": null,
      "outputs": []
    }
  ]
}