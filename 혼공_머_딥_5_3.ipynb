{
  "nbformat": 4,
  "nbformat_minor": 0,
  "metadata": {
    "colab": {
      "name": "혼공_머.딥_5-3.ipynb",
      "provenance": [],
      "collapsed_sections": [],
      "authorship_tag": "ABX9TyMMx/8etwSP+PIn29opqVQH",
      "include_colab_link": true
    },
    "kernelspec": {
      "name": "python3",
      "display_name": "Python 3"
    },
    "language_info": {
      "name": "python"
    }
  },
  "cells": [
    {
      "cell_type": "markdown",
      "metadata": {
        "id": "view-in-github",
        "colab_type": "text"
      },
      "source": [
        "<a href=\"https://colab.research.google.com/github/pumkinni/book_study/blob/master/%ED%98%BC%EA%B3%B5_%EB%A8%B8_%EB%94%A5_5_3.ipynb\" target=\"_parent\"><img src=\"https://colab.research.google.com/assets/colab-badge.svg\" alt=\"Open In Colab\"/></a>"
      ]
    },
    {
      "cell_type": "markdown",
      "source": [
        "# 트리의 앙상블\n",
        "> 앙상블 학습이 무엇인지 이해하고 다양한 앙상블 학습 알고리즘을 실습을 통해 배웁니다.\n",
        "\n",
        "> 종류\n",
        "- 랜덤 포레스트 : 부트스트랩 샘플 사용, 대표 앙상블 학습 알고리즘\n",
        "- 엑스트라 트리 : 결정 트리의 노들르 랜덤하게 분할\n",
        "- 그레이디언트 부스팅 : 이진 트리의 손실을 보완하는 식으로 얕은 결정 트리를 연속하여 추가함\n",
        "- 히스토그램 기반 그레이티언트 부스팅 : 훈련 데이터를 256개 정수 구간으로 나누어 빠르고 높은 성능을 냄"
      ],
      "metadata": {
        "id": "h9PjwXUFrVdb"
      }
    },
    {
      "cell_type": "markdown",
      "source": [
        "#### 정형 데이터와 비정형 데이터\n",
        "- 정형 데이터\n",
        "> 어떤 구조로 되어있어 CSV나 데이터베이스, 혹은 엑셀에 저장하기 쉬운 데이터\n",
        "\n",
        "  > EX) 길이, 높이, 무게\n",
        "  > 가장 뛰어난 성과를 내는 알고리즘 : 앙상블 학습\n",
        "- 비정형 데이터\n",
        "> 데이터베이스나 엑셀로 표현하기 어려운 데이터\n",
        "  \n",
        "  >EX) 텍스트 데이터(책의 글), 사진, 디지털 음악\n",
        "  \n",
        "  > 잘 맞는 알고리즘 : 신경망 알고리즘"
      ],
      "metadata": {
        "id": "z1_7FZQprr6D"
      }
    },
    {
      "cell_type": "markdown",
      "source": [
        "#### 랜덤 포레스트\n",
        "- 앙상블 학습의 대표 주자\n",
        "- 결정 트리를 랜덤하게 만들어 결정트리의 숲을 만든 후 각 결정 트리의 예측을 사용해 최종 예측을 만듬\n",
        "- 부트스트랩 샘플 : 입력한 훈련 데이터에서 랜덤하게 샘플을 추출하여 만든 훈련 데이터(데이터 세트에서 중복을 허용하여 데이터를 샘플링)\n",
        "- RandomForestClassifier은 기본적으로 전체 특성 개수의 제곱근만큼의 특성을 랜덤하게 선택하여 사용\n",
        "- RandomForestRegressor은 전체 특성을 사용\n",
        "-기본적으로 100개의 결정 트리를 이런 방식으로 훈련 후\n",
        "- 분류일 경우각 트리의 클래스별 확률을 평균하여 가장 높은 확률을 가진 클래스를 예측으로 삼음\n",
        "- 회귀의 경우 단순히 각 트리의 예측을 평균"
      ],
      "metadata": {
        "id": "xRni-S0zuJLI"
      }
    },
    {
      "cell_type": "markdown",
      "source": [
        "#### 분류와 회귀 다시 살펴보기\n",
        "- 분류 : 샘플을 몇 개의 클래스 중 하나로 분류하는 문제\n",
        "- 회귀 : 임의의 어떤 숫자를 예측하는 문제"
      ],
      "metadata": {
        "id": "gC5lrawOzPwM"
      }
    },
    {
      "cell_type": "code",
      "execution_count": null,
      "metadata": {
        "id": "9DvwRS8PrS4u"
      },
      "outputs": [],
      "source": [
        "# 데이터 불러오기\n",
        "import pandas as pd\n",
        "import numpy as np\n",
        "wine = pd.read_csv('https://bit.ly/wine_data')\n",
        "data = wine[['alcohol', 'sugar', 'pH']].to_numpy()\n",
        "target = wine['class'].to_numpy()"
      ]
    },
    {
      "cell_type": "code",
      "source": [
        "# 테스트 데이터와 훈련 데이터 구분\n",
        "from sklearn.model_selection import train_test_split\n",
        "train_input, test_input, train_target, test_target = train_test_split(data, target, test_size  = 0.2, random_state = 42)"
      ],
      "metadata": {
        "id": "Vbs8ljSdreTw"
      },
      "execution_count": null,
      "outputs": []
    },
    {
      "cell_type": "code",
      "source": [
        "from pandas.core.common import random_state\n",
        "# 교차검증\n",
        "from sklearn.model_selection import cross_validate\n",
        "from sklearn.ensemble import RandomForestClassifier\n",
        "rf = RandomForestClassifier(n_jobs = -1, random_state = 42)\n",
        "scores = cross_validate(rf, train_input, train_target, return_train_score = True, n_jobs = -1)\n",
        "np.mean(scores['train_score']), np.mean(scores['test_score'])"
      ],
      "metadata": {
        "colab": {
          "base_uri": "https://localhost:8080/"
        },
        "id": "CjOB2lGv0kdP",
        "outputId": "0765ded3-19ae-48ad-f823-78fe8ee4fc55"
      },
      "execution_count": null,
      "outputs": [
        {
          "output_type": "execute_result",
          "data": {
            "text/plain": [
              "(0.9973541965122431, 0.8905151032797809)"
            ]
          },
          "metadata": {},
          "execution_count": 4
        }
      ]
    },
    {
      "cell_type": "code",
      "source": [
        "# 결정트리와 비교했을 때 당도의 특성 중요도가 줄었다. -> 특성의 일부를 랜덤하게 선택하여 훈련했기 때문 -> 과대적합을 줄이고 일반화 성능이 높아졌다.\n",
        "rf.fit(train_input, train_target)\n",
        "rf.feature_importances_"
      ],
      "metadata": {
        "colab": {
          "base_uri": "https://localhost:8080/"
        },
        "id": "P5fIuwXH2Oor",
        "outputId": "e7e39ea3-3b14-42c0-b131-54d8fc23d18d"
      },
      "execution_count": null,
      "outputs": [
        {
          "output_type": "execute_result",
          "data": {
            "text/plain": [
              "array([0.23167441, 0.50039841, 0.26792718])"
            ]
          },
          "metadata": {},
          "execution_count": 6
        }
      ]
    },
    {
      "cell_type": "code",
      "source": [
        "# OOB(out of bag) 샘플을 사용하여 결정트리 평가 (검증 세트 역할)\n",
        "rf = RandomForestClassifier(oob_score = True, n_jobs = -1, random_state = 42)\n",
        "rf.fit(train_input, train_target)\n",
        "rf.oob_score_"
      ],
      "metadata": {
        "colab": {
          "base_uri": "https://localhost:8080/"
        },
        "id": "VTNjyxaA7Mc8",
        "outputId": "7b1de805-1f58-4d33-f854-5c746ad4d8d2"
      },
      "execution_count": null,
      "outputs": [
        {
          "output_type": "execute_result",
          "data": {
            "text/plain": [
              "0.8934000384837406"
            ]
          },
          "metadata": {},
          "execution_count": 10
        }
      ]
    },
    {
      "cell_type": "markdown",
      "source": [
        "#### 엑스트라 트리\n",
        "- 기본적으로 100개의 결정 트리를 훈련\n",
        "- 전체 특성 중에 일부 특성을 랜덤하게 선택하여 노드를 분할하는 데 사용\n",
        "- 부트스트랩 샘플을 사용하지 않음(결정트리를 만들 때 전체 훈련 세트를 사용)\n",
        "- 특성을 무작위로 분할하여 성능은 낮아지지만 과대적합을 막고 검증 세트의 점수를 높인다."
      ],
      "metadata": {
        "id": "MBM_pRDM8bPv"
      }
    },
    {
      "cell_type": "code",
      "source": [
        "from sklearn.ensemble import ExtraTreesClassifier\n",
        "et = ExtraTreesClassifier(n_jobs = -1, random_state = 42)\n",
        "scores = cross_validate(et, train_input, train_target, return_train_score=True, n_jobs = -1)\n",
        "np.mean(scores['train_score']), np.mean(scores['test_score'])"
      ],
      "metadata": {
        "colab": {
          "base_uri": "https://localhost:8080/"
        },
        "id": "9OFViWjm8L-o",
        "outputId": "47ce6204-4113-44ea-a485-3e532135db44"
      },
      "execution_count": null,
      "outputs": [
        {
          "output_type": "execute_result",
          "data": {
            "text/plain": [
              "(0.9974503966084433, 0.8887848893166506)"
            ]
          },
          "metadata": {},
          "execution_count": 12
        }
      ]
    },
    {
      "cell_type": "code",
      "source": [
        "# 특성 중요도 확인\n",
        "et.fit(train_input, train_target)\n",
        "et.feature_importances_"
      ],
      "metadata": {
        "colab": {
          "base_uri": "https://localhost:8080/"
        },
        "id": "WTCEZJKN-D9J",
        "outputId": "866d091f-1604-4e90-d72d-a83eac246d90"
      },
      "execution_count": null,
      "outputs": [
        {
          "output_type": "execute_result",
          "data": {
            "text/plain": [
              "array([0.20183568, 0.52242907, 0.27573525])"
            ]
          },
          "metadata": {},
          "execution_count": 13
        }
      ]
    },
    {
      "cell_type": "markdown",
      "source": [
        "#### 그레이디언트 부스팅\n",
        "- 깊이가 얕은 결정 트리를 사용하여 이전 트리의 오차를 보완하는 방식으로 앙상블 하는 방법\n",
        "-GradientBoostingClassifier는 기본적으로 깊이가 3인 결정 트리를 100개 사용\n",
        "-과대적합에 강하고 일반적으로 높은 일반화 성능\n",
        "-경사 하강법을 사용하여 트리를 앙상블에 추가(결정 트리를 계속 추가하며 가장 낮을 곳을 찾아 이동)\n",
        "- 분류 : 로지스틱 손실 함수, 회귀 : 평균 제곱 오차 함수"
      ],
      "metadata": {
        "id": "AZD5kpSK-jc-"
      }
    },
    {
      "cell_type": "code",
      "source": [
        "from sklearn.ensemble import GradientBoostingClassifier\n",
        "gb = GradientBoostingClassifier(random_state = 42)\n",
        "scores = cross_validate(gb, train_input, train_target, return_train_score= True, n_jobs = -1)\n",
        "np.mean(scores['train_score']), np.mean(scores['test_score'])"
      ],
      "metadata": {
        "colab": {
          "base_uri": "https://localhost:8080/"
        },
        "id": "nq2ejTMV-flt",
        "outputId": "137c2623-a125-49d2-935c-60e773c23b1b"
      },
      "execution_count": null,
      "outputs": [
        {
          "output_type": "execute_result",
          "data": {
            "text/plain": [
              "(0.8881086892152563, 0.8720430147331015)"
            ]
          },
          "metadata": {},
          "execution_count": 15
        }
      ]
    },
    {
      "cell_type": "code",
      "source": [
        "# 학습률, 트리 개수 증가\n",
        "gb = GradientBoostingClassifier(n_estimators=500, learning_rate=0.2, random_state = 42)\n",
        "scores = cross_validate(gb, train_input, train_target, return_train_score = True, n_jobs = -1)\n",
        "np.mean(scores['train_score']), np.mean(scores['test_score'])"
      ],
      "metadata": {
        "colab": {
          "base_uri": "https://localhost:8080/"
        },
        "id": "7Re9sHuGAMTz",
        "outputId": "e930f3c7-1cd1-4f3b-fca3-ad90c19f500d"
      },
      "execution_count": null,
      "outputs": [
        {
          "output_type": "execute_result",
          "data": {
            "text/plain": [
              "(0.9464595437171814, 0.8780082549788999)"
            ]
          },
          "metadata": {},
          "execution_count": 16
        }
      ]
    },
    {
      "cell_type": "code",
      "source": [
        "# 특성 중요도(랜덤 포레스트보다 당도에 더 집중)\n",
        "gb.fit(train_input, train_target)\n",
        "gb.feature_importances_"
      ],
      "metadata": {
        "colab": {
          "base_uri": "https://localhost:8080/"
        },
        "id": "v2Lt-FBOA7un",
        "outputId": "c97be4bf-d714-45c5-e416-bf679936a092"
      },
      "execution_count": null,
      "outputs": [
        {
          "output_type": "execute_result",
          "data": {
            "text/plain": [
              "array([0.15872278, 0.68010884, 0.16116839])"
            ]
          },
          "metadata": {},
          "execution_count": 17
        }
      ]
    },
    {
      "cell_type": "markdown",
      "source": [
        "#### 히스토그램 기반 그레이디언트 부스팅\n",
        "- 정형데이터 머신러닝 알고리즘 중 가장 인기가 높음\n",
        "- 입력 특성을 256개의 구간으로 나누고 하나를 누락된 값을 위해 사용(누락된 특성이 있어도 전처리 불필요)\n",
        "- HistGradientBoostingClassifier은 max_iter(부스팅 반복 횟수 지정)로 트리의 개수를 지정"
      ],
      "metadata": {
        "id": "WuE3Fn6KBq08"
      }
    },
    {
      "cell_type": "code",
      "source": [
        "from sklearn.ensemble import HistGradientBoostingClassifier\n",
        "hgb = HistGradientBoostingClassifier(random_state = 42)\n",
        "scores = cross_validate(hgb, train_input, train_target, return_train_score=True)\n",
        "np.mean(scores['train_score']), np.mean(scores['test_score'])"
      ],
      "metadata": {
        "colab": {
          "base_uri": "https://localhost:8080/"
        },
        "id": "o3gmlZeaBJzl",
        "outputId": "95427ee4-5c43-482e-cbb3-e30d467029a6"
      },
      "execution_count": null,
      "outputs": [
        {
          "output_type": "execute_result",
          "data": {
            "text/plain": [
              "(0.9321723946453317, 0.8801241948619236)"
            ]
          },
          "metadata": {},
          "execution_count": 19
        }
      ]
    },
    {
      "cell_type": "code",
      "source": [
        "# permutation_imortance() - 특성을 하나씩 랜덤하게 섞어서 모델의 성능이 변화하는지 관찰하여 어떤 특성이 중요한지 계산\n",
        "# 특성 중요도(importances), 중요도 평균(importances_mean), 중요도 표준 편차(importances_std)를 담고 있음\n",
        "# n_repeats - 랜덤하게 섞을 횟수를 지정\n",
        "from sklearn.inspection import permutation_importance\n",
        "hgb.fit(train_input, train_target)\n",
        "result = permutation_importance(hgb, train_input, train_target, n_repeats = 10, random_state = 42, n_jobs = -1)\n",
        "result.importances_mean"
      ],
      "metadata": {
        "colab": {
          "base_uri": "https://localhost:8080/"
        },
        "id": "mcyv7y-xC_QG",
        "outputId": "b2a50234-2f28-46d9-d368-707e56e24cef"
      },
      "execution_count": null,
      "outputs": [
        {
          "output_type": "execute_result",
          "data": {
            "text/plain": [
              "array([0.08876275, 0.23438522, 0.08027708])"
            ]
          },
          "metadata": {},
          "execution_count": 25
        }
      ]
    },
    {
      "cell_type": "code",
      "source": [
        "# 테스트 세트에서 특성 중요도 확인\n",
        "result = permutation_importance(hgb, test_input, test_target, n_repeats = 10, random_state = 42, n_jobs = -1)\n",
        "result.importances_mean"
      ],
      "metadata": {
        "colab": {
          "base_uri": "https://localhost:8080/"
        },
        "id": "AZ93xDHhEk0Z",
        "outputId": "54026c5a-0008-4da1-8c5a-08e4f554a860"
      },
      "execution_count": null,
      "outputs": [
        {
          "output_type": "execute_result",
          "data": {
            "text/plain": [
              "array([0.05969231, 0.20238462, 0.049     ])"
            ]
          },
          "metadata": {},
          "execution_count": 26
        }
      ]
    },
    {
      "cell_type": "code",
      "source": [
        "hgb.score(test_input, test_target)"
      ],
      "metadata": {
        "colab": {
          "base_uri": "https://localhost:8080/"
        },
        "id": "Q-GG41BZFZgc",
        "outputId": "67371d2c-cc04-4f80-9e17-ab88abc5eb4d"
      },
      "execution_count": null,
      "outputs": [
        {
          "output_type": "execute_result",
          "data": {
            "text/plain": [
              "0.8723076923076923"
            ]
          },
          "metadata": {},
          "execution_count": 27
        }
      ]
    },
    {
      "cell_type": "markdown",
      "source": [
        "#### 히스토그램 기반 그레이디언트 부스팅 알고리즘을 구현한 라이브러리\n",
        "- XGBoost\n",
        "- LightGBM"
      ],
      "metadata": {
        "id": "PHyDqqT0GFl3"
      }
    },
    {
      "cell_type": "code",
      "source": [
        "from xgboost import XGBClassifier\n",
        "xgb = XGBClassifier(tree_method = 'hist', random_state = 42)\n",
        "scores = cross_validate(xgb, train_input, train_target, return_train_score=True)\n",
        "np.mean(scores['train_score']), np.mean(scores['test_score'])"
      ],
      "metadata": {
        "colab": {
          "base_uri": "https://localhost:8080/"
        },
        "id": "_chcHn1gF0Ry",
        "outputId": "c1d83641-a14d-435a-c38b-63ce1372f625"
      },
      "execution_count": null,
      "outputs": [
        {
          "output_type": "execute_result",
          "data": {
            "text/plain": [
              "(0.8824322471423747, 0.8726214185237284)"
            ]
          },
          "metadata": {},
          "execution_count": 29
        }
      ]
    },
    {
      "cell_type": "code",
      "source": [
        "from lightgbm import LGBMClassifier\n",
        "lgb = LGBMClassifier(random_state = 42)\n",
        "scores = cross_validate(lgb, train_input, train_target, return_train_score=True, n_jobs = -1)\n",
        "np.mean(scores['train_score']), np.mean(scores['test_score'])"
      ],
      "metadata": {
        "colab": {
          "base_uri": "https://localhost:8080/"
        },
        "id": "ZT-ATtRSG0Cw",
        "outputId": "5c8a5471-4089-4e86-8999-3004fa02c0e7"
      },
      "execution_count": null,
      "outputs": [
        {
          "output_type": "execute_result",
          "data": {
            "text/plain": [
              "(0.9338079582727165, 0.8789710890649293)"
            ]
          },
          "metadata": {},
          "execution_count": 30
        }
      ]
    }
  ]
}