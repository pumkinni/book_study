{
  "nbformat": 4,
  "nbformat_minor": 0,
  "metadata": {
    "colab": {
      "name": "혼공_머.딥_7-2.ipynb",
      "provenance": [],
      "authorship_tag": "ABX9TyPkExuCBQC5oCcONRP7OxWd",
      "include_colab_link": true
    },
    "kernelspec": {
      "name": "python3",
      "display_name": "Python 3"
    },
    "language_info": {
      "name": "python"
    }
  },
  "cells": [
    {
      "cell_type": "markdown",
      "metadata": {
        "id": "view-in-github",
        "colab_type": "text"
      },
      "source": [
        "<a href=\"https://colab.research.google.com/github/pumkinni/book_study/blob/master/%ED%98%BC%EA%B3%B5_%EB%A8%B8_%EB%94%A5_7_2.ipynb\" target=\"_parent\"><img src=\"https://colab.research.google.com/assets/colab-badge.svg\" alt=\"Open In Colab\"/></a>"
      ]
    },
    {
      "cell_type": "markdown",
      "source": [
        "# 심층 신경망\n",
        "> 인공 신경망에 층을 여러 개 추가하여 패션 MNIST 데이터셋을 분류하면서 케라스로 심층 신경망을 만드는 방법을 자세히 배우기"
      ],
      "metadata": {
        "id": "qIkqc7DzcUfW"
      }
    },
    {
      "cell_type": "markdown",
      "source": [
        "#### 2개의 층\n",
        "- 은닉층 : 입력층과 출력충 사이에 있는 모든 층\n",
        "- 출력층에 적용하는 활성화 함수 \n",
        "  > 이진 분류 : 시그모이드 함수\n",
        "  \n",
        "  > 다중 분류 : 소프트맥스 함수\n",
        "\n",
        "  > 은닉층의 활성화 함수는 비교적 자유로음(대표적 : 시그모이드 함수, 볼 렐루 함수)"
      ],
      "metadata": {
        "id": "eZoiUrn1c2cB"
      }
    },
    {
      "cell_type": "code",
      "execution_count": null,
      "metadata": {
        "colab": {
          "base_uri": "https://localhost:8080/"
        },
        "id": "1HlOoc75cFMs",
        "outputId": "414053bf-3fad-4c13-ef77-ea95d46c0f1f"
      },
      "outputs": [
        {
          "output_type": "stream",
          "name": "stdout",
          "text": [
            "Downloading data from https://storage.googleapis.com/tensorflow/tf-keras-datasets/train-labels-idx1-ubyte.gz\n",
            "32768/29515 [=================================] - 0s 0us/step\n",
            "40960/29515 [=========================================] - 0s 0us/step\n",
            "Downloading data from https://storage.googleapis.com/tensorflow/tf-keras-datasets/train-images-idx3-ubyte.gz\n",
            "26427392/26421880 [==============================] - 0s 0us/step\n",
            "26435584/26421880 [==============================] - 0s 0us/step\n",
            "Downloading data from https://storage.googleapis.com/tensorflow/tf-keras-datasets/t10k-labels-idx1-ubyte.gz\n",
            "16384/5148 [===============================================================================================] - 0s 0us/step\n",
            "Downloading data from https://storage.googleapis.com/tensorflow/tf-keras-datasets/t10k-images-idx3-ubyte.gz\n",
            "4423680/4422102 [==============================] - 0s 0us/step\n",
            "4431872/4422102 [==============================] - 0s 0us/step\n"
          ]
        }
      ],
      "source": [
        "# 데이터 불러오기\n",
        "from tensorflow import keras\n",
        "(train_input, train_target), (test_input, test_target) = keras.datasets.fashion_mnist.load_data()"
      ]
    },
    {
      "cell_type": "code",
      "source": [
        "# 데이터 구분하기\n",
        "from sklearn.model_selection import train_test_split\n",
        "import numpy as np\n",
        "train_scaled = train_input / 255\n",
        "train_scaled = train_scaled.reshape(-1, 28*28)\n",
        "train_scaled, val_scaled, train_target, val_target = train_test_split(train_scaled, train_target, test_size = 0.2, random_state=42)"
      ],
      "metadata": {
        "id": "KkgtZRV1eGTW"
      },
      "execution_count": null,
      "outputs": []
    },
    {
      "cell_type": "code",
      "source": [
        "# dense1(은닉층), dense2(출력층) 생성\n",
        "dense1 = keras.layers.Dense(100, activation = 'sigmoid', input_shape = (784,0))\n",
        "dense2 = keras.layers.Dense(10, activation = 'softmax')"
      ],
      "metadata": {
        "id": "bb4Lv7GXfJpg"
      },
      "execution_count": null,
      "outputs": []
    },
    {
      "cell_type": "markdown",
      "source": [
        "#### 심층 신경망 만들기"
      ],
      "metadata": {
        "id": "P49YtNpnqPSW"
      }
    },
    {
      "cell_type": "code",
      "source": [
        "model = keras.Sequential([dense1, dense2])"
      ],
      "metadata": {
        "id": "FyX_8NTXqOsR"
      },
      "execution_count": null,
      "outputs": []
    },
    {
      "cell_type": "code",
      "source": [
        "# 층에 대한 정보 얻기\n",
        "model.summary()"
      ],
      "metadata": {
        "colab": {
          "base_uri": "https://localhost:8080/"
        },
        "id": "0e6PkDfgqh5E",
        "outputId": "dd081071-ca6b-4c60-81ac-245a0fd9f4d9"
      },
      "execution_count": null,
      "outputs": [
        {
          "output_type": "stream",
          "name": "stdout",
          "text": [
            "Model: \"sequential\"\n",
            "_________________________________________________________________\n",
            " Layer (type)                Output Shape              Param #   \n",
            "=================================================================\n",
            " dense (Dense)               (None, 784, 100)          100       \n",
            "                                                                 \n",
            " dense_1 (Dense)             (None, 784, 10)           1010      \n",
            "                                                                 \n",
            "=================================================================\n",
            "Total params: 1,110\n",
            "Trainable params: 1,110\n",
            "Non-trainable params: 0\n",
            "_________________________________________________________________\n"
          ]
        }
      ]
    },
    {
      "cell_type": "markdown",
      "source": [
        "#### 층을 추가하는 다른 방법\n",
        "- Sequential 클래스의 생성자 안에 바로 Dense 클래스의 객체 만들기"
      ],
      "metadata": {
        "id": "VHVX99XWrx2Y"
      }
    },
    {
      "cell_type": "code",
      "source": [
        "model = keras.Sequential([keras.layers.Dense(100, activation='sigmoid', input_shape=(784,), name = 'hidden'), \\\n",
        "                          keras.layers.Dense(10, activation='softmax', name = 'output')], name = '패션 MINIST 모델')\n"
      ],
      "metadata": {
        "id": "nGH53j84qnE6"
      },
      "execution_count": null,
      "outputs": []
    },
    {
      "cell_type": "code",
      "source": [
        "model.summary()"
      ],
      "metadata": {
        "colab": {
          "base_uri": "https://localhost:8080/"
        },
        "id": "YuYfy6v9sg72",
        "outputId": "a251ccf4-6ca7-4b9d-85bc-4bf47b1646ec"
      },
      "execution_count": null,
      "outputs": [
        {
          "output_type": "stream",
          "name": "stdout",
          "text": [
            "Model: \"패션 MINIST 모델\"\n",
            "_________________________________________________________________\n",
            " Layer (type)                Output Shape              Param #   \n",
            "=================================================================\n",
            " hidden (Dense)              (None, 100)               78500     \n",
            "                                                                 \n",
            " output (Dense)              (None, 10)                1010      \n",
            "                                                                 \n",
            "=================================================================\n",
            "Total params: 79,510\n",
            "Trainable params: 79,510\n",
            "Non-trainable params: 0\n",
            "_________________________________________________________________\n"
          ]
        }
      ]
    },
    {
      "cell_type": "code",
      "source": [
        "# add를 사용하여 추가하기\n",
        "model = keras.Sequential()\n",
        "model.add(keras.layers.Dense(100, activation='sigmoid', input_shape=(784,), name = 'hidden'))\n",
        "model.add(keras.layers.Dense(10, activation= 'softmax', name = 'output'))"
      ],
      "metadata": {
        "id": "nxD_oan4sxn3"
      },
      "execution_count": null,
      "outputs": []
    },
    {
      "cell_type": "code",
      "source": [
        "model.summary()"
      ],
      "metadata": {
        "colab": {
          "base_uri": "https://localhost:8080/"
        },
        "id": "ZOG1f2S7tcKr",
        "outputId": "c3c6ea42-d328-4c3f-d8f8-8c5076da685d"
      },
      "execution_count": null,
      "outputs": [
        {
          "output_type": "stream",
          "name": "stdout",
          "text": [
            "Model: \"sequential_1\"\n",
            "_________________________________________________________________\n",
            " Layer (type)                Output Shape              Param #   \n",
            "=================================================================\n",
            " hidden (Dense)              (None, 100)               78500     \n",
            "                                                                 \n",
            " output (Dense)              (None, 10)                1010      \n",
            "                                                                 \n",
            "=================================================================\n",
            "Total params: 79,510\n",
            "Trainable params: 79,510\n",
            "Non-trainable params: 0\n",
            "_________________________________________________________________\n"
          ]
        }
      ]
    },
    {
      "cell_type": "code",
      "source": [
        "# 모델 훈련\n",
        "model.compile(loss='sparse_categorical_crossentropy', metrics = 'accuracy')\n",
        "model.fit(train_scaled, train_target, epochs = 5)"
      ],
      "metadata": {
        "colab": {
          "base_uri": "https://localhost:8080/"
        },
        "id": "RZsphw2CteXi",
        "outputId": "c7233a10-c1c2-488b-e047-b3237a91c228"
      },
      "execution_count": null,
      "outputs": [
        {
          "output_type": "stream",
          "name": "stdout",
          "text": [
            "Epoch 1/5\n",
            "1500/1500 [==============================] - 4s 2ms/step - loss: 0.5652 - accuracy: 0.8079\n",
            "Epoch 2/5\n",
            "1500/1500 [==============================] - 3s 2ms/step - loss: 0.4076 - accuracy: 0.8529\n",
            "Epoch 3/5\n",
            "1500/1500 [==============================] - 3s 2ms/step - loss: 0.3728 - accuracy: 0.8670\n",
            "Epoch 4/5\n",
            "1500/1500 [==============================] - 3s 2ms/step - loss: 0.3509 - accuracy: 0.8737\n",
            "Epoch 5/5\n",
            "1500/1500 [==============================] - 3s 2ms/step - loss: 0.3343 - accuracy: 0.8790\n"
          ]
        },
        {
          "output_type": "execute_result",
          "data": {
            "text/plain": [
              "<keras.callbacks.History at 0x7f38b3f9b910>"
            ]
          },
          "metadata": {},
          "execution_count": 10
        }
      ]
    },
    {
      "cell_type": "markdown",
      "source": [
        "#### 렐루 함수\n",
        "- 이미지 분류 문제에서 높은 성능을 낼 수 있는 활성화 함수(심층 신경망에서 뛰어남)\n",
        "- max(0,z)로 쓸 수 있음(z가 0보다 크면 z를 출력하고 z가 0보다 작으면 0을 출력)"
      ],
      "metadata": {
        "id": "pUGYmYgru7YJ"
      }
    },
    {
      "cell_type": "code",
      "source": [
        "# Flatten 클래스 : 배치 차원을 제외하고 나머지 입력 차원을 모두 일렬로 펼치는 역할 -> 입력 데이터를 1차원을 줄일 필요가 없다\n",
        "# 입력에 곱해지는 가중치나 절편은 없다.(인공 신경망의 성능을 위해 기여하는 바는 없다)\n",
        "# 입력층 바로 뒤에 추가\n",
        "model = keras.Sequential()\n",
        "model.add(keras.layers.Flatten(input_shape = (28, 28)))\n",
        "model.add(keras.layers.Dense(100, activation='relu'))\n",
        "model.add(keras.layers.Dense(10, activation='softmax'))\n",
        "# 입력 데이터에 대한 전처리 과정을 가능한 모델에 포함시키는 것이 케라스 API 철학 중 하나"
      ],
      "metadata": {
        "id": "1waRXyq_uG3w"
      },
      "execution_count": null,
      "outputs": []
    },
    {
      "cell_type": "code",
      "source": [
        "model.summary()"
      ],
      "metadata": {
        "colab": {
          "base_uri": "https://localhost:8080/"
        },
        "id": "QKpCq3ThynbG",
        "outputId": "df091da4-db1a-4396-b59c-68c383a857f6"
      },
      "execution_count": null,
      "outputs": [
        {
          "output_type": "stream",
          "name": "stdout",
          "text": [
            "Model: \"sequential_2\"\n",
            "_________________________________________________________________\n",
            " Layer (type)                Output Shape              Param #   \n",
            "=================================================================\n",
            " flatten (Flatten)           (None, 784)               0         \n",
            "                                                                 \n",
            " dense_2 (Dense)             (None, 100)               78500     \n",
            "                                                                 \n",
            " dense_3 (Dense)             (None, 10)                1010      \n",
            "                                                                 \n",
            "=================================================================\n",
            "Total params: 79,510\n",
            "Trainable params: 79,510\n",
            "Non-trainable params: 0\n",
            "_________________________________________________________________\n"
          ]
        }
      ]
    },
    {
      "cell_type": "code",
      "source": [
        "# 훈련데이터를 다시 준비해서 학습 시키기\n",
        "(train_input, train_target), (test_input, test_target) = keras.datasets.fashion_mnist.load_data()\n",
        "train_scaled = train_input / 255\n",
        "train_scaled, val_scaled, train_target, val_target = train_test_split(train_scaled, train_target, random_state=42)"
      ],
      "metadata": {
        "id": "bwwbhD3jytjf"
      },
      "execution_count": null,
      "outputs": []
    },
    {
      "cell_type": "code",
      "source": [
        "model.compile(loss = 'sparse_categorical_crossentropy', metrics='accuracy')\n",
        "model.fit(train_scaled, train_target, epochs=5)"
      ],
      "metadata": {
        "colab": {
          "base_uri": "https://localhost:8080/"
        },
        "id": "iZtIwRK5zyT3",
        "outputId": "0679f8a7-d63d-49d9-9dba-b3fb99f8f644"
      },
      "execution_count": null,
      "outputs": [
        {
          "output_type": "stream",
          "name": "stdout",
          "text": [
            "Epoch 1/5\n",
            "1407/1407 [==============================] - 5s 3ms/step - loss: 0.5369 - accuracy: 0.8091\n",
            "Epoch 2/5\n",
            "1407/1407 [==============================] - 4s 3ms/step - loss: 0.3982 - accuracy: 0.8564\n",
            "Epoch 3/5\n",
            "1407/1407 [==============================] - 4s 3ms/step - loss: 0.3583 - accuracy: 0.8719\n",
            "Epoch 4/5\n",
            "1407/1407 [==============================] - 4s 3ms/step - loss: 0.3353 - accuracy: 0.8793\n",
            "Epoch 5/5\n",
            "1407/1407 [==============================] - 5s 3ms/step - loss: 0.3215 - accuracy: 0.8864\n"
          ]
        },
        {
          "output_type": "execute_result",
          "data": {
            "text/plain": [
              "<keras.callbacks.History at 0x7f38b80df550>"
            ]
          },
          "metadata": {},
          "execution_count": 14
        }
      ]
    },
    {
      "cell_type": "code",
      "source": [
        "model.evaluate(val_scaled, val_target)"
      ],
      "metadata": {
        "colab": {
          "base_uri": "https://localhost:8080/"
        },
        "id": "S6ctN_kR0I2h",
        "outputId": "51cef793-d9d7-4138-dc0d-6f693ae94301"
      },
      "execution_count": null,
      "outputs": [
        {
          "output_type": "stream",
          "name": "stdout",
          "text": [
            "469/469 [==============================] - 1s 2ms/step - loss: 0.3687 - accuracy: 0.8708\n"
          ]
        },
        {
          "output_type": "execute_result",
          "data": {
            "text/plain": [
              "[0.36867979168891907, 0.8708000183105469]"
            ]
          },
          "metadata": {},
          "execution_count": 15
        }
      ]
    },
    {
      "cell_type": "markdown",
      "source": [
        "#### 옵티마이저\n",
        "- 다양한 종류의 경사 하강법 알고리즘\n",
        "- 확률적 경사 하강법(SDG)\n",
        "      model.compile(optimizer='sgd', loss='sparse_categorical_crossentropy', metrics = 'accuracy')\n",
        "      #클래스로 구현      \n",
        "      sgd = keras.optimizers.SGD()\n",
        "      model.compile(optimizer = sgd, loss = 'sparse_categorical_crossentropy', metrics = 'accuracy)\n",
        "      # 학습률 지정하여 사용 \n",
        "      sgd = keras.optimizers.SGD(learning_rate = 0.1)\n",
        "\n",
        "- 기본 경사 하강법 옵티마이저\n",
        "> momentum 매개변수를 0보다 큰 값으로 지정하면 그레이디언트를 가속도처럼 사용하는 모멘텀 최적화를 사용(보통 0.9이상 지정)\n",
        "\n",
        "  > nesterov 매개변수를 True로 바꾸면 네스테로프 모멘텀 최적화(네스트로프 가속 경사)를 사용\n",
        "\n",
        "      sgd = keras.optimizers.SGD(momentum = 0.9, nesterov = True)\n",
        "- 적응적 학습률 : 모델이 최적점에 가까이 갈수록 학습률을 낮추어 안정적으로 최적점에 수렴할 가능성이 높아짐\n",
        "> 대표적인 옵티마이저 : Adagrad, RMSprop (클래스 객체를 만들어 사용)\n",
        "      # Adagrad\n",
        "      adagrad = keras.optimizers.Adagrad()\n",
        "      model.compile(optimizer = adagrad, loss = 'sparse_categorical_crossentropy', metrics = 'accuracy')\n",
        "      # RMSprop\n",
        "      rmsprop = keras.optimizers.RMSprop()\n",
        "      model.compile(optimizer = rmsprop, loss = 'sparse_categorical_crossentropy', metrics = 'accuracy')\n",
        "\n",
        "- 모멘텀 최적화와 RMSprop의 장점을 접목한 것이 Adam"
      ],
      "metadata": {
        "id": "TD19-SYS0tg4"
      }
    },
    {
      "cell_type": "code",
      "source": [
        "model = keras.Sequential()\n",
        "model.add(keras.layers.Flatten(input_shape = (28,28)))\n",
        "model.add(keras.layers.Dense(100, activation='relu'))\n",
        "model.add(keras.layers.Dense(10, activation='softmax'))"
      ],
      "metadata": {
        "id": "oW24vyhS0R1j"
      },
      "execution_count": null,
      "outputs": []
    },
    {
      "cell_type": "code",
      "source": [
        "# adam 옵티마이저로 실행해보기\n",
        "model.compile(optimizer='adam', loss = 'sparse_categorical_crossentropy', metrics = 'accuracy')\n",
        "model.fit(train_scaled, train_target, epochs = 5)"
      ],
      "metadata": {
        "colab": {
          "base_uri": "https://localhost:8080/"
        },
        "id": "TRfrlXSOA72G",
        "outputId": "d0a6854a-5d29-4fc7-ee1b-03041d966c95"
      },
      "execution_count": null,
      "outputs": [
        {
          "output_type": "stream",
          "name": "stdout",
          "text": [
            "Epoch 1/5\n",
            "1407/1407 [==============================] - 4s 3ms/step - loss: 0.5334 - accuracy: 0.8140\n",
            "Epoch 2/5\n",
            "1407/1407 [==============================] - 4s 3ms/step - loss: 0.3997 - accuracy: 0.8578\n",
            "Epoch 3/5\n",
            "1407/1407 [==============================] - 3s 2ms/step - loss: 0.3580 - accuracy: 0.8693\n",
            "Epoch 4/5\n",
            "1407/1407 [==============================] - 3s 2ms/step - loss: 0.3270 - accuracy: 0.8810\n",
            "Epoch 5/5\n",
            "1407/1407 [==============================] - 3s 2ms/step - loss: 0.3095 - accuracy: 0.8866\n"
          ]
        },
        {
          "output_type": "execute_result",
          "data": {
            "text/plain": [
              "<keras.callbacks.History at 0x7f38b3cc0050>"
            ]
          },
          "metadata": {},
          "execution_count": 17
        }
      ]
    },
    {
      "cell_type": "code",
      "source": [
        "model.evaluate(val_scaled, val_target)"
      ],
      "metadata": {
        "colab": {
          "base_uri": "https://localhost:8080/"
        },
        "id": "5P9PwBiOBOo5",
        "outputId": "e4744693-d170-4072-c45c-86a7c065a237"
      },
      "execution_count": null,
      "outputs": [
        {
          "output_type": "stream",
          "name": "stdout",
          "text": [
            "469/469 [==============================] - 1s 2ms/step - loss: 0.3417 - accuracy: 0.8777\n"
          ]
        },
        {
          "output_type": "execute_result",
          "data": {
            "text/plain": [
              "[0.34171390533447266, 0.8777333498001099]"
            ]
          },
          "metadata": {},
          "execution_count": 18
        }
      ]
    }
  ]
}