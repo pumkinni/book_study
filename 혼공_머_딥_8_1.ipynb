{
  "nbformat": 4,
  "nbformat_minor": 0,
  "metadata": {
    "colab": {
      "name": "혼공_머.딥.8-1.ipynb",
      "provenance": [],
      "authorship_tag": "ABX9TyP3c03EAZloHa72RioYs1Wh",
      "include_colab_link": true
    },
    "kernelspec": {
      "name": "python3",
      "display_name": "Python 3"
    },
    "language_info": {
      "name": "python"
    }
  },
  "cells": [
    {
      "cell_type": "markdown",
      "metadata": {
        "id": "view-in-github",
        "colab_type": "text"
      },
      "source": [
        "<a href=\"https://colab.research.google.com/github/pumkinni/book_study/blob/master/%ED%98%BC%EA%B3%B5_%EB%A8%B8_%EB%94%A5_8_1.ipynb\" target=\"_parent\"><img src=\"https://colab.research.google.com/assets/colab-badge.svg\" alt=\"Open In Colab\"/></a>"
      ]
    },
    {
      "cell_type": "markdown",
      "source": [
        "# 합성곱 신경망의 구성 요소\n",
        "> 합성곱 신경망을 구성하는 기본 개념과 동작 원리를 배우고 간단한 합성곱, 폴링 계산 방법을 익히기"
      ],
      "metadata": {
        "id": "idZ2z3vd_c_s"
      }
    },
    {
      "cell_type": "markdown",
      "source": [
        "#### 합성곱\n",
        "- 입력 데이터에 마법의 도장을 찍어서 유용한 특성만 드러나게 하는 것\n",
        "-합성곱 신경망에서는 완전 연결 신경망과 달리 뉴런을 필터 또는 커널이라고 부름(뉴런 = 필터 = 커널) \n",
        "- 커널은 입력에 곱하는 가중치, 필터는 뉴런 개술르 표현할 때 사용\n",
        "-1차원이 아니라 2차원 입력에도 사용할 수 있음\n",
        "-특성맵 : 합성곱 계산을 통해 얻은 출력\n",
        "- 합성곱 신경망 : 1개 이상의 합성곱 층을 쓴 인공 신경망"
      ],
      "metadata": {
        "id": "s4Uk7W11AFIq"
      }
    },
    {
      "cell_type": "markdown",
      "source": [
        "# 케라스 합성곱 층\n"
      ],
      "metadata": {
        "id": "5y7HOPNSDnXj"
      }
    },
    {
      "cell_type": "code",
      "execution_count": null,
      "metadata": {
        "id": "tLlblzLfxkwE",
        "colab": {
          "base_uri": "https://localhost:8080/"
        },
        "outputId": "b2d919a9-9791-4469-ed9a-1302333b77ae"
      },
      "outputs": [
        {
          "output_type": "execute_result",
          "data": {
            "text/plain": [
              "<keras.layers.convolutional.Conv2D at 0x7faa9998ef10>"
            ]
          },
          "metadata": {},
          "execution_count": 1
        }
      ],
      "source": [
        "from tensorflow import keras\n",
        "keras.layers.Conv2D(10, kernel_size = (3,3), activation = 'relu') # 필터의 개수, 커널의 크기, 활성화 함수지정"
      ]
    },
    {
      "cell_type": "markdown",
      "source": [
        "#### 패딩과 스트라이드\n",
        "- 패딩 : 입력 배열의 주위를 가상의 원소로 채우는 것(0으로 채움)\n",
        "> 세임패딩 : 입력과 특성 맵의 크기를 동일하게 만들기 위해 입력 주위에 0으로 패딩 하는 것\n",
        "  \n",
        "  > 밸리드 패딩 : 패딩 없이 순순한 입력 배열에서만 합성곱을 하여 특성맵을 만드는 경우\n",
        "- 스트라이드 : 합성곱 연산시 이동하는 칸의 크기(기본 : 1)"
      ],
      "metadata": {
        "id": "VIB7GR38Ef1r"
      }
    },
    {
      "cell_type": "code",
      "source": [
        "keras.layers.Conv2D(10, kernel_size = (3, 3), activation = 'relu', padding = 'same', strides = 1)"
      ],
      "metadata": {
        "colab": {
          "base_uri": "https://localhost:8080/"
        },
        "id": "wPp695GrES7i",
        "outputId": "0f010908-b3fb-4b5d-a601-8947b28de989"
      },
      "execution_count": null,
      "outputs": [
        {
          "output_type": "execute_result",
          "data": {
            "text/plain": [
              "<keras.layers.convolutional.Conv2D at 0x7faa92c98f90>"
            ]
          },
          "metadata": {},
          "execution_count": 2
        }
      ]
    },
    {
      "cell_type": "markdown",
      "source": [
        "#### 폴링\n",
        "- 합성곱 층에서 만든 특성 맵의 가로세로 크기를 줄이는 역할(특성맵의 개수는 줄이지 X)\n",
        "-풀링도 합성곱처럼 입력 위를 지나가면서 도장을 찍음\n",
        "- 최대 폴링 : 도장을 찍은 영역에서 가장 큰 값을 고르기\n",
        "      keras.layers.MaxPooling2D(2)\n",
        "      keras.layers.MaxPooling2D(2, strides = 2, padding = 'valid')\n",
        "- 평균 폴링 : 도작을 찍은 영역에서 평균값을 고르기\n",
        "      keras.layers.AveragePooling2D(2, strides = 2, padding = 'valid')\n",
        "- 풀링에서는 겹치지 않고 이동(가중치가 없고 풀링 크기와 스트라이드가 동일, 패딩도 없음)\n",
        "- 평균 풀링은 특성 맵에 있는 중요한 정보를 평균하여 희석시킬 수 있기 때문에 최대풀링을 많이 사용"
      ],
      "metadata": {
        "id": "A9mNRfgUImFL"
      }
    },
    {
      "cell_type": "markdown",
      "source": [
        "#### 합성곱 신경망의 전체 구조\n",
        "-입력 -> 합성곱 층(세임 패딩) -> 풀링층 -> 밀집층"
      ],
      "metadata": {
        "id": "bWh-PXnKLCy-"
      }
    },
    {
      "cell_type": "markdown",
      "source": [
        "컬러 이미지를 사용한 합성곱\n",
        "- 컬러 이미지 = 3차원(너비, 높이, 깊이) => 필터의 커널 크기도 3차원(3, 3, 3)\n",
        "- (4, 4, 5)크기의 입력과 (3, 3, 5) 크기 커널의 합성 곱\n",
        "> 필터 개수가 10개라면 크기가 (2, 2, 10)인 특성맵이 만들어짐\n",
        "\n",
        "  >합성곱 신경망은 너비와 높이는 점점 줄어들고 깊이는 점점 깊어진다."
      ],
      "metadata": {
        "id": "Vz2zLZhiMERC"
      }
    },
    {
      "cell_type": "code",
      "source": [
        ""
      ],
      "metadata": {
        "id": "SFQDG4IMJ6a0"
      },
      "execution_count": null,
      "outputs": []
    }
  ]
}