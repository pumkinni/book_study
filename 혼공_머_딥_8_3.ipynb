{
  "nbformat": 4,
  "nbformat_minor": 0,
  "metadata": {
    "colab": {
      "name": "혼공_머.딥.8-3.ipynb",
      "provenance": [],
      "authorship_tag": "ABX9TyM053nxLX9VI3bY84YTBxcC",
      "include_colab_link": true
    },
    "kernelspec": {
      "name": "python3",
      "display_name": "Python 3"
    },
    "language_info": {
      "name": "python"
    }
  },
  "cells": [
    {
      "cell_type": "markdown",
      "metadata": {
        "id": "view-in-github",
        "colab_type": "text"
      },
      "source": [
        "<a href=\"https://colab.research.google.com/github/pumkinni/book_study/blob/master/%ED%98%BC%EA%B3%B5_%EB%A8%B8_%EB%94%A5_8_3.ipynb\" target=\"_parent\"><img src=\"https://colab.research.google.com/assets/colab-badge.svg\" alt=\"Open In Colab\"/></a>"
      ]
    },
    {
      "cell_type": "markdown",
      "source": [
        "# 합성곱 신경망의 시각화\n",
        "> 합성곱 층의 가중치와 특성 맵을 시각화하여 신경망이 이미지에서 어떤 것을 학습하는지 이해해보기"
      ],
      "metadata": {
        "id": "7jJpN-Q633hX"
      }
    },
    {
      "cell_type": "markdown",
      "source": [
        "#### 가중치 시각화"
      ],
      "metadata": {
        "id": "UznIa7ZL5Yp-"
      }
    },
    {
      "cell_type": "code",
      "execution_count": null,
      "metadata": {
        "id": "Obct6F5-313p"
      },
      "outputs": [],
      "source": [
        "# 어떤 가중치를 학습했는지 확인하기 위해 체크포인트 파일 읽어들이기\n",
        "from tensorflow import keras\n",
        "model = keras.models.load_model('best-cnn-model.h5')"
      ]
    },
    {
      "cell_type": "code",
      "source": [
        "# 모델에 추가한 층 확인\n",
        "model.layers"
      ],
      "metadata": {
        "colab": {
          "base_uri": "https://localhost:8080/"
        },
        "id": "6zlAVNRR590S",
        "outputId": "233b88a0-b902-4e31-c99e-20905a9ceba9"
      },
      "execution_count": null,
      "outputs": [
        {
          "output_type": "execute_result",
          "data": {
            "text/plain": [
              "[<keras.layers.convolutional.Conv2D at 0x7f53471d7450>,\n",
              " <keras.layers.pooling.MaxPooling2D at 0x7f5347221c50>,\n",
              " <keras.layers.convolutional.Conv2D at 0x7f534729c890>,\n",
              " <keras.layers.pooling.MaxPooling2D at 0x7f53471d7f90>,\n",
              " <keras.layers.core.flatten.Flatten at 0x7f534b304510>,\n",
              " <keras.layers.core.dense.Dense at 0x7f53471566d0>,\n",
              " <keras.layers.core.dense.Dense at 0x7f53471d7a50>]"
            ]
          },
          "metadata": {},
          "execution_count": 5
        }
      ]
    },
    {
      "cell_type": "code",
      "source": [
        "# 합성곱 층의 가중치 조사(가중치, 절편)\n",
        "conv = model.layers[0]\n",
        "conv.weights[0].shape, conv.weights[1].shape"
      ],
      "metadata": {
        "colab": {
          "base_uri": "https://localhost:8080/"
        },
        "id": "IfPmoHUu6_pS",
        "outputId": "ddf5d5e9-b310-470e-b2d0-e0425c7ad5e7"
      },
      "execution_count": null,
      "outputs": [
        {
          "output_type": "execute_result",
          "data": {
            "text/plain": [
              "(TensorShape([3, 3, 1, 32]), TensorShape([32]))"
            ]
          },
          "metadata": {},
          "execution_count": 6
        }
      ]
    },
    {
      "cell_type": "code",
      "source": [
        "# 가중치 배열의 평균과 표준편차\n",
        "conv_weights = conv.weights[0].numpy()\n",
        "conv_weights.mean(), conv_weights.std()"
      ],
      "metadata": {
        "colab": {
          "base_uri": "https://localhost:8080/"
        },
        "id": "7DRuhVwq77V7",
        "outputId": "9c660b4a-de5c-4c75-993f-78542d07482a"
      },
      "execution_count": null,
      "outputs": [
        {
          "output_type": "execute_result",
          "data": {
            "text/plain": [
              "(-0.025231464, 0.23826611)"
            ]
          },
          "metadata": {},
          "execution_count": 7
        }
      ]
    },
    {
      "cell_type": "code",
      "source": [
        "import matplotlib.pyplot as plt\n",
        "plt.hist(conv_weights.reshape(-1,1))\n",
        "plt.xlabel('weight')\n",
        "plt.ylabel('count')\n",
        "plt.show()\n",
        "conv_weights.reshape(-1,1).shape"
      ],
      "metadata": {
        "colab": {
          "base_uri": "https://localhost:8080/",
          "height": 297
        },
        "id": "pRBlV32s8n2t",
        "outputId": "ec49a6d7-5390-47e7-fe88-bc60ced878d0"
      },
      "execution_count": null,
      "outputs": [
        {
          "output_type": "display_data",
          "data": {
            "text/plain": [
              "<Figure size 432x288 with 1 Axes>"
            ],
            "image/png": "[encoded data removed]"
          },
          "metadata": {
            "needs_background": "light"
          }
        },
        {
          "output_type": "execute_result",
          "data": {
            "text/plain": [
              "(288, 1)"
            ]
          },
          "metadata": {},
          "execution_count": 8
        }
      ]
    },
    {
      "cell_type": "code",
      "source": [
        "# 커널을 16개씩 두줄에 출력\n",
        "fig,axs = plt.subplots(2, 16, figsize = (15, 2))\n",
        "for i in range(2):\n",
        "  for j in range(16):\n",
        "    axs[i, j].imshow(conv_weights[:,:,0,i*16 + j], vmin = -0.5, vmax= 0.5)\n",
        "    axs[i, j].axis('off')\n",
        "plt.show()"
      ],
      "metadata": {
        "colab": {
          "base_uri": "https://localhost:8080/",
          "height": 134
        },
        "id": "R6gX0Rsl9mA9",
        "outputId": "53212eb9-67f8-4e2c-a47d-bb5274792411"
      },
      "execution_count": null,
      "outputs": [
        {
          "output_type": "display_data",
          "data": {
            "text/plain": [
              "<Figure size 1080x144 with 32 Axes>"
            ],
            "image/png": "[encoded data removed]"
          },
          "metadata": {
            "needs_background": "light"
          }
        }
      ]
    },
    {
      "cell_type": "code",
      "source": [
        "# 훈련하지 않은 빈 합성곱 신경망\n",
        "no_training_model = keras.Sequential()\n",
        "no_training_model.add(keras.layers.Conv2D(32, kernel_size=3, activation='relu', padding = 'same', input_shape=(28, 28, 1)))"
      ],
      "metadata": {
        "id": "n9msYoWf-qCj"
      },
      "execution_count": null,
      "outputs": []
    },
    {
      "cell_type": "code",
      "source": [
        "no_training_conv = no_training_model.layers[0]\n",
        "no_training_conv.weights[0].shape"
      ],
      "metadata": {
        "colab": {
          "base_uri": "https://localhost:8080/"
        },
        "id": "kaHZyAqV_miQ",
        "outputId": "2bd39723-4c01-4310-fcea-ce5bc3b0bb52"
      },
      "execution_count": null,
      "outputs": [
        {
          "output_type": "execute_result",
          "data": {
            "text/plain": [
              "TensorShape([3, 3, 1, 32])"
            ]
          },
          "metadata": {},
          "execution_count": 11
        }
      ]
    },
    {
      "cell_type": "code",
      "source": [
        "no_training_weights = no_training_conv.weights[0].numpy()\n",
        "no_training_weights.mean(), no_training_weights.std()"
      ],
      "metadata": {
        "colab": {
          "base_uri": "https://localhost:8080/"
        },
        "id": "AKA6NKm3_zBm",
        "outputId": "05ba73a9-98c1-4a7a-a9df-e4c5e6b7e2a6"
      },
      "execution_count": null,
      "outputs": [
        {
          "output_type": "execute_result",
          "data": {
            "text/plain": [
              "(-0.004883916, 0.08085965)"
            ]
          },
          "metadata": {},
          "execution_count": 12
        }
      ]
    },
    {
      "cell_type": "code",
      "source": [
        "no_training_weights.shape"
      ],
      "metadata": {
        "colab": {
          "base_uri": "https://localhost:8080/"
        },
        "id": "v-uTzxFMUTrp",
        "outputId": "add7167b-e017-4eca-b37d-a931eff327be"
      },
      "execution_count": null,
      "outputs": [
        {
          "output_type": "execute_result",
          "data": {
            "text/plain": [
              "(3, 3, 1, 32)"
            ]
          },
          "metadata": {},
          "execution_count": 17
        }
      ]
    },
    {
      "cell_type": "code",
      "source": [
        "# 가중치 배열을 히스토그램으로 표현\n",
        "# 텐서플로가 신경망의 가중치를 처음 초기화할 때 균등 분포에서 랜덤하게 값을 선택하기 때문에 ~\n",
        "# 대부분의 가중치가 -0.15 ~ 0.15 사이에 있고 비교적 고른 분포를 보임\n",
        "plt.hist(no_training_weights.reshape(-1,1))\n",
        "plt.xlabel('weight')\n",
        "plt.ylabel('count')\n",
        "plt.show()"
      ],
      "metadata": {
        "colab": {
          "base_uri": "https://localhost:8080/",
          "height": 279
        },
        "id": "L8KotRgsAI1U",
        "outputId": "d71b8d9a-f797-4466-b75f-dc13c12668dc"
      },
      "execution_count": null,
      "outputs": [
        {
          "output_type": "display_data",
          "data": {
            "text/plain": [
              "<Figure size 432x288 with 1 Axes>"
            ],
            "image/png": "[encoded data removed]"
          },
          "metadata": {
            "needs_background": "light"
          }
        }
      ]
    },
    {
      "cell_type": "code",
      "source": [
        "# 가중치 값을 그림으로 출력\n",
        "# 훈련 후의 그림과 비교하면 밋밋하다\n",
        "fig, axs = plt.subplots(2, 16, figsize = (15, 2))\n",
        "for i in range(2):\n",
        "  for j in range(16):\n",
        "    axs[i, j].imshow(no_training_weights[:, :, 0, i * 16 + j], vmin = -0.5, vmax = 0.5)\n",
        "    axs[i, j].axis('off')\n",
        "plt.show()\n",
        "# 합성곱 신경망의 학습을 시각화하는 두 번째 방법\n",
        "# 합성곱 층에서 출력된 특성 맵을 그려보는 것"
      ],
      "metadata": {
        "colab": {
          "base_uri": "https://localhost:8080/",
          "height": 134
        },
        "id": "IeeCULLQAXIj",
        "outputId": "cc4ae451-bc48-4ae5-b999-060dd4e0f1db"
      },
      "execution_count": null,
      "outputs": [
        {
          "output_type": "display_data",
          "data": {
            "text/plain": [
              "<Figure size 1080x144 with 32 Axes>"
            ],
            "image/png": "[encoded data removed]"
          },
          "metadata": {
            "needs_background": "light"
          }
        }
      ]
    },
    {
      "cell_type": "markdown",
      "source": [
        "#### 함수형 API\n",
        "- Sequential 클래스는 층을 차례대로 쌓은 모델을 만들 때  사용\n",
        "- 더 복잡한 모델에서는 함수형 API를 사용\n",
        "\n",
        "      \n",
        "\n",
        "- 함수처럼 호출해서 쓰기\n",
        "> inputs 는 InputLayer 클래스의 출력값\n",
        "      inputs = keras.Input(shape=(784,))\n",
        "      dense1 = keras.layers.Dense(100, activation='sigmoid')\n",
        "      dense2 = keras.layers.Dense(10, activation='softmax')\n",
        "      # 입력값 inputs를 Dense 층에 통과시킨 후 출력값 hidden을 만들어 줌\n",
        "      hidden = dense1(inputs)\n",
        "      # 두번째 층 호출 : 첫번째 층의 출력을 입력으로 사용\n",
        "      outputs = dense2(hidden)\n",
        "      # inputs와 outputs을 Model 클래스로 연결\n",
        "      model = keras.Model(inputs, outputs)"
      ],
      "metadata": {
        "id": "13lbp1rRU6Uz"
      }
    },
    {
      "cell_type": "code",
      "source": [
        "# model 객체의 입력\n",
        "print(model.input)"
      ],
      "metadata": {
        "colab": {
          "base_uri": "https://localhost:8080/"
        },
        "id": "dU7dWO2UYMFN",
        "outputId": "ebd9aed4-280d-43e3-da91-f52a0a3d8faf"
      },
      "execution_count": null,
      "outputs": [
        {
          "output_type": "stream",
          "name": "stdout",
          "text": [
            "KerasTensor(type_spec=TensorSpec(shape=(None, 28, 28, 1), dtype=tf.float32, name='conv2d_3_input'), name='conv2d_3_input', description=\"created by layer 'conv2d_3_input'\")\n"
          ]
        }
      ]
    },
    {
      "cell_type": "code",
      "source": [
        "# conv_acti의 predict() 메서드를 호출하면 첫 번째 Conv2D의 출력을 반환함\n",
        "conv_acti = keras.Model(model.input, model.layers[0].output)"
      ],
      "metadata": {
        "id": "iw-_MhdXdq_h"
      },
      "execution_count": null,
      "outputs": []
    },
    {
      "cell_type": "markdown",
      "source": [
        "#### 특성 맵 시각화"
      ],
      "metadata": {
        "id": "MPSUgKeWfH6D"
      }
    },
    {
      "cell_type": "code",
      "source": [
        "(train_input, train_target), (test_input, test_target) = keras.datasets.fashion_mnist.load_data()\n",
        "plt.imshow(train_input[0], cmap='gray_r')\n",
        "plt.show()"
      ],
      "metadata": {
        "colab": {
          "base_uri": "https://localhost:8080/",
          "height": 265
        },
        "id": "WhPOU8BBfGQ3",
        "outputId": "70d942d3-4b72-4f08-9cbe-66237ec44336"
      },
      "execution_count": null,
      "outputs": [
        {
          "output_type": "display_data",
          "data": {
            "text/plain": [
              "<Figure size 432x288 with 1 Axes>"
            ],
            "image/png": "[encoded data removed]"
          },
          "metadata": {
            "needs_background": "light"
          }
        }
      ]
    },
    {
      "cell_type": "code",
      "source": [
        "train_input.shape"
      ],
      "metadata": {
        "colab": {
          "base_uri": "https://localhost:8080/"
        },
        "id": "AafG7e_JflAL",
        "outputId": "cca2f44d-6f62-4664-e1e2-4423fe4b26d7"
      },
      "execution_count": null,
      "outputs": [
        {
          "output_type": "execute_result",
          "data": {
            "text/plain": [
              "(60000, 28, 28)"
            ]
          },
          "metadata": {},
          "execution_count": 23
        }
      ]
    },
    {
      "cell_type": "code",
      "source": [
        "# Conv2D 층이 만드는 특성 맵 출력\n",
        "inputs = train_input[0:1].reshape(-1, 28, 28, 1) / 255\n",
        "feature_maps = conv_acti.predict(inputs)"
      ],
      "metadata": {
        "id": "f--pNCN7f9G9"
      },
      "execution_count": null,
      "outputs": []
    },
    {
      "cell_type": "code",
      "source": [
        "feature_maps.shape"
      ],
      "metadata": {
        "colab": {
          "base_uri": "https://localhost:8080/"
        },
        "id": "VjOGtysRmVS_",
        "outputId": "b8f9d906-dfc1-4fea-b146-e8888e72b7bd"
      },
      "execution_count": null,
      "outputs": [
        {
          "output_type": "execute_result",
          "data": {
            "text/plain": [
              "(1, 28, 28, 32)"
            ]
          },
          "metadata": {},
          "execution_count": 25
        }
      ]
    },
    {
      "cell_type": "code",
      "source": [
        "# 32개의 필터로 인해 입력 이미지에서 강하게 활성화된 부분을 보여줌\n",
        "fig, axs = plt.subplots(4, 8, figsize = (15, 8))\n",
        "for i in range(4):\n",
        "  for j in range(8):\n",
        "    axs[i, j].imshow(feature_maps[0, :, :, i*8 + j])\n",
        "    axs[i, j].axis('off')\n",
        "plt.show()"
      ],
      "metadata": {
        "colab": {
          "base_uri": "https://localhost:8080/",
          "height": 460
        },
        "id": "FpcRVGi1mYfc",
        "outputId": "5eb88537-0505-4b92-9d09-4d30024e1b5e"
      },
      "execution_count": null,
      "outputs": [
        {
          "output_type": "display_data",
          "data": {
            "text/plain": [
              "<Figure size 1080x576 with 32 Axes>"
            ],
            "image/png": "[encoded data removed]"
          },
          "metadata": {
            "needs_background": "light"
          }
        }
      ]
    },
    {
      "cell_type": "code",
      "source": [
        "# 두번째 합성곱 층이 만든 특성 맵 확인\n",
        "# model 객체의 입력과 두 번째 합성곱 층인 model.layers[2]의 출력을 연결한 conv2_acti 모델 만들기\n",
        "conv2_acti = keras.Model(model.input, model.layers[2].output)"
      ],
      "metadata": {
        "id": "Pq7olG4gnNfJ"
      },
      "execution_count": null,
      "outputs": []
    },
    {
      "cell_type": "code",
      "source": [
        "# conv2_acti 모델의 predict() 메서드에 전달\n",
        "inputs = train_input[0:1].reshape(-1, 28, 28, 1) / 255\n",
        "feature_maps = conv2_acti.predict(inputs)"
      ],
      "metadata": {
        "id": "RAgBYjWHoGHh"
      },
      "execution_count": null,
      "outputs": []
    },
    {
      "cell_type": "code",
      "source": [
        "feature_maps.shape"
      ],
      "metadata": {
        "colab": {
          "base_uri": "https://localhost:8080/"
        },
        "id": "yKpPTwCxoeRJ",
        "outputId": "30ab9051-06af-478c-d534-931b710f77fa"
      },
      "execution_count": null,
      "outputs": [
        {
          "output_type": "execute_result",
          "data": {
            "text/plain": [
              "(1, 14, 14, 64)"
            ]
          },
          "metadata": {},
          "execution_count": 29
        }
      ]
    },
    {
      "cell_type": "code",
      "source": [
        "# 64개의 특성 맵을 8개씩 나누어 imshow()함수로 그리기\n",
        "fig, axs = plt.subplots(8, 8, figsize = (12, 12))\n",
        "for i in range(8):\n",
        "  for j in range(8):\n",
        "    axs[i, j].imshow(feature_maps[0, :, :, i * 8 + j])\n",
        "    axs[i, j].axis('off')\n",
        "plt.show()\n",
        "# 앞쪽의 합성곱 신경망은 이미지의 시각적인 정보를 감지\n",
        "# 뒤쪽의 합성곱 층은 앞쪽에서 감지한 시각적인 정보를 바탕으로 추상적인 정보를 학습"
      ],
      "metadata": {
        "colab": {
          "base_uri": "https://localhost:8080/",
          "height": 683
        },
        "id": "pOtREA5eoiCH",
        "outputId": "0d8dea3e-d69a-40f5-b383-f27016cf24f3"
      },
      "execution_count": null,
      "outputs": [
        {
          "output_type": "display_data",
          "data": {
            "text/plain": [
              "<Figure size 864x864 with 64 Axes>"
            ],
            "image/png": "[encoded data removed]"
          },
          "metadata": {
            "needs_background": "light"
          }
        }
      ]
    },
    {
      "cell_type": "code",
      "source": [
        ""
      ],
      "metadata": {
        "id": "wqoEVgfcpGv2"
      },
      "execution_count": null,
      "outputs": []
    }
  ]
}