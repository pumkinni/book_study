{
  "nbformat": 4,
  "nbformat_minor": 0,
  "metadata": {
    "colab": {
      "name": "혼공_머.딥.9-1.ipynb",
      "provenance": [],
      "authorship_tag": "ABX9TyPgjt2zEjK4WcZbn+r6Ube5",
      "include_colab_link": true
    },
    "kernelspec": {
      "name": "python3",
      "display_name": "Python 3"
    },
    "language_info": {
      "name": "python"
    }
  },
  "cells": [
    {
      "cell_type": "markdown",
      "metadata": {
        "id": "view-in-github",
        "colab_type": "text"
      },
      "source": [
        "<a href=\"https://colab.research.google.com/github/pumkinni/book_study/blob/master/%ED%98%BC%EA%B3%B5_%EB%A8%B8_%EB%94%A5_9_1.ipynb\" target=\"_parent\"><img src=\"https://colab.research.google.com/assets/colab-badge.svg\" alt=\"Open In Colab\"/></a>"
      ]
    },
    {
      "cell_type": "markdown",
      "source": [
        "# 순차 데이터와 순환 신경망\n",
        "> 순차 데이터의 특징을 알고 순환 신경망의 개념을 학습"
      ],
      "metadata": {
        "id": "rbMdT4Kmy-iF"
      }
    },
    {
      "cell_type": "markdown",
      "source": [
        "#### 순차 데이터\n",
        "- 텍스트나 시계열 데이터와 같이 순서에 의미가 있는 데이터\n",
        "-ex) 글, 대화, 일자별 날씨, 일자별 판매 실적\n",
        "- 피드포워드 신경망 : 입력 데이터의 흐름이 앞으로만 전달되는 신경망(하나의 샘플을 사용하여 정방향 계산을 수행하고 나면 그 샘플은 버려지고 다음 샘플을 처리할 때 재사용하지 않음)\n"
      ],
      "metadata": {
        "id": "GRy-a5tPSx35"
      }
    },
    {
      "cell_type": "markdown",
      "source": [
        "#### 순환 신경망\n",
        "- 순차 데이터를 처리하기 위해 고안된 순환층을 1개 이상 사용한 신경망\n",
        "- 완전 연결 신경망에 이전 데이터 처리 흐름을 순환하는 고리를 하나 추가한 신경망\n",
        "-타임스텝 : 샘플을 처리하는 한 단계\n",
        "-타임스텝의 샘플을 기억하지만 타입스텝이 오래될수록 순환되는 정보는 희미해짐\n",
        "- 순환신경망에서는 층을 셀이라 부름 여러 개의 뉴런이 있지만 뉴런을 모두 표시하지 않고 하나의 셀로 층을 표현\n",
        "- 은닉상태 : 셀의 출력"
      ],
      "metadata": {
        "id": "m8FLf_NNVOB2"
      }
    },
    {
      "cell_type": "markdown",
      "source": [
        "#### 셀의 가중치와 입출력\n",
        "- 첫 번째 셀은 모든 타임스텝의 은닉 상태를 출력하고, 두 번째 셀은 마지막 타임스텝의 은닉 상태만 출력\n",
        "- 출력층의 구성\n",
        "> 합성곱 신경망과 마찬가지로 마지막에는 밀집층을 두어 클래스를 분류\n",
        "  \n",
        "  > 다중 분류: 출력층에 클래스 개수만큼 뉴런을 두고 소프트맥스 활성화 함수를 사용\n",
        "  \n",
        "  > 이진 분류 : 하나의 뉴런을 두고 시그모이드 활성화 함수를 사용"
      ],
      "metadata": {
        "id": "6h7ELbigYInb"
      }
    },
    {
      "cell_type": "code",
      "execution_count": null,
      "metadata": {
        "id": "RaWS08tXy754"
      },
      "outputs": [],
      "source": [
        " "
      ]
    }
  ]
}