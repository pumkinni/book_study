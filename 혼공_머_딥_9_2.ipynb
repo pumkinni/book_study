{
  "nbformat": 4,
  "nbformat_minor": 0,
  "metadata": {
    "colab": {
      "name": "혼공_머.딥.9-2.ipynb",
      "provenance": [],
      "authorship_tag": "ABX9TyOvlJVc8Bboeo/jJ0j4JZT3",
      "include_colab_link": true
    },
    "kernelspec": {
      "name": "python3",
      "display_name": "Python 3"
    },
    "language_info": {
      "name": "python"
    }
  },
  "cells": [
    {
      "cell_type": "markdown",
      "metadata": {
        "id": "view-in-github",
        "colab_type": "text"
      },
      "source": [
        "<a href=\"https://colab.research.google.com/github/pumkinni/book_study/blob/master/%ED%98%BC%EA%B3%B5_%EB%A8%B8_%EB%94%A5_9_2.ipynb\" target=\"_parent\"><img src=\"https://colab.research.google.com/assets/colab-badge.svg\" alt=\"Open In Colab\"/></a>"
      ]
    },
    {
      "cell_type": "markdown",
      "source": [
        "# 순환 신경망으로 IMDB 리뷰 분류하기\n",
        "> 텐서플로를 사용해 순환 신경망을 만들어 영화 리뷰 데이터셋에 적용해서 리뷰를 긍정과 부정으로 분류하기"
      ],
      "metadata": {
        "id": "DOLdOrHddG45"
      }
    },
    {
      "cell_type": "markdown",
      "source": [
        "#### IMDB 리뷰 데이터셋\n",
        "- 토큰 : 분리된 단어(영어문장은 모두 소문자로 바꾸고 구둣점을 삭제한 다음 공백을 기준으로 분리)\n",
        "- 토큰마다 정수를 할당(0 : 패딩, 1 : 문장의 시작, 2 : 어휘 사전에 없는 토큰)\n",
        "  > 어휘사전 : 훈련세트에서 고유한 단어를 뽑아 만든 목록\n",
        "\n",
        "  > 테스트 세트 안에 어휘 사전에 없는 단어가 있다면 2로 변환하여 신경망 모델에 주입)"
      ],
      "metadata": {
        "id": "zN0SF3j8dqT1"
      }
    },
    {
      "cell_type": "code",
      "execution_count": null,
      "metadata": {
        "colab": {
          "base_uri": "https://localhost:8080/"
        },
        "id": "8wG8eTgadFRz",
        "outputId": "8edb7451-da18-4604-8a47-80f9b8a9c005"
      },
      "outputs": [
        {
          "output_type": "stream",
          "name": "stdout",
          "text": [
            "Downloading data from https://storage.googleapis.com/tensorflow/tf-keras-datasets/imdb.npz\n",
            "17465344/17464789 [==============================] - 0s 0us/step\n",
            "17473536/17464789 [==============================] - 0s 0us/step\n"
          ]
        }
      ],
      "source": [
        "# 전체 데이터셋에서 가장 자주 등장하는 단어 500개 사용\n",
        "from tensorflow.keras.datasets import imdb\n",
        "(train_input, train_target), (test_input, test_target) = imdb.load_data(num_words = 500)"
      ]
    },
    {
      "cell_type": "code",
      "source": [
        "# 개별 리뷰를 담은 파이썬 리스트 객체로 이루어진 넘파이 배열\n",
        "train_input.shape, test_input.shape"
      ],
      "metadata": {
        "colab": {
          "base_uri": "https://localhost:8080/"
        },
        "id": "8ZSl27nhf24J",
        "outputId": "c5430798-7059-46c5-ee7a-b80d65083878"
      },
      "execution_count": null,
      "outputs": [
        {
          "output_type": "execute_result",
          "data": {
            "text/plain": [
              "((25000,), (25000,))"
            ]
          },
          "metadata": {},
          "execution_count": 2
        }
      ]
    },
    {
      "cell_type": "code",
      "source": [
        "print(len(train_input[0])), len(train_input[1])"
      ],
      "metadata": {
        "colab": {
          "base_uri": "https://localhost:8080/"
        },
        "id": "RKRNdWq7gBdk",
        "outputId": "97231ba5-81e0-435d-f3f8-df109d95aef8"
      },
      "execution_count": null,
      "outputs": [
        {
          "output_type": "stream",
          "name": "stdout",
          "text": [
            "218\n"
          ]
        },
        {
          "output_type": "execute_result",
          "data": {
            "text/plain": [
              "(None, 189)"
            ]
          },
          "metadata": {},
          "execution_count": 5
        }
      ]
    },
    {
      "cell_type": "code",
      "source": [
        "train_input[0]"
      ],
      "metadata": {
        "colab": {
          "base_uri": "https://localhost:8080/"
        },
        "id": "Q6bF6a9xgW_w",
        "outputId": "e1619712-ab88-4bd5-d7a8-96d0de509439"
      },
      "execution_count": null,
      "outputs": [
        {
          "output_type": "execute_result",
          "data": {
            "text/plain": [
              "[1,\n",
              " 14,\n",
              " 22,\n",
              " 16,\n",
              " 43,\n",
              " 2,\n",
              " 2,\n",
              " 2,\n",
              " 2,\n",
              " 65,\n",
              " 458,\n",
              " 2,\n",
              " 66,\n",
              " 2,\n",
              " 4,\n",
              " 173,\n",
              " 36,\n",
              " 256,\n",
              " 5,\n",
              " 25,\n",
              " 100,\n",
              " 43,\n",
              " 2,\n",
              " 112,\n",
              " 50,\n",
              " 2,\n",
              " 2,\n",
              " 9,\n",
              " 35,\n",
              " 480,\n",
              " 284,\n",
              " 5,\n",
              " 150,\n",
              " 4,\n",
              " 172,\n",
              " 112,\n",
              " 167,\n",
              " 2,\n",
              " 336,\n",
              " 385,\n",
              " 39,\n",
              " 4,\n",
              " 172,\n",
              " 2,\n",
              " 2,\n",
              " 17,\n",
              " 2,\n",
              " 38,\n",
              " 13,\n",
              " 447,\n",
              " 4,\n",
              " 192,\n",
              " 50,\n",
              " 16,\n",
              " 6,\n",
              " 147,\n",
              " 2,\n",
              " 19,\n",
              " 14,\n",
              " 22,\n",
              " 4,\n",
              " 2,\n",
              " 2,\n",
              " 469,\n",
              " 4,\n",
              " 22,\n",
              " 71,\n",
              " 87,\n",
              " 12,\n",
              " 16,\n",
              " 43,\n",
              " 2,\n",
              " 38,\n",
              " 76,\n",
              " 15,\n",
              " 13,\n",
              " 2,\n",
              " 4,\n",
              " 22,\n",
              " 17,\n",
              " 2,\n",
              " 17,\n",
              " 12,\n",
              " 16,\n",
              " 2,\n",
              " 18,\n",
              " 2,\n",
              " 5,\n",
              " 62,\n",
              " 386,\n",
              " 12,\n",
              " 8,\n",
              " 316,\n",
              " 8,\n",
              " 106,\n",
              " 5,\n",
              " 4,\n",
              " 2,\n",
              " 2,\n",
              " 16,\n",
              " 480,\n",
              " 66,\n",
              " 2,\n",
              " 33,\n",
              " 4,\n",
              " 130,\n",
              " 12,\n",
              " 16,\n",
              " 38,\n",
              " 2,\n",
              " 5,\n",
              " 25,\n",
              " 124,\n",
              " 51,\n",
              " 36,\n",
              " 135,\n",
              " 48,\n",
              " 25,\n",
              " 2,\n",
              " 33,\n",
              " 6,\n",
              " 22,\n",
              " 12,\n",
              " 215,\n",
              " 28,\n",
              " 77,\n",
              " 52,\n",
              " 5,\n",
              " 14,\n",
              " 407,\n",
              " 16,\n",
              " 82,\n",
              " 2,\n",
              " 8,\n",
              " 4,\n",
              " 107,\n",
              " 117,\n",
              " 2,\n",
              " 15,\n",
              " 256,\n",
              " 4,\n",
              " 2,\n",
              " 7,\n",
              " 2,\n",
              " 5,\n",
              " 2,\n",
              " 36,\n",
              " 71,\n",
              " 43,\n",
              " 2,\n",
              " 476,\n",
              " 26,\n",
              " 400,\n",
              " 317,\n",
              " 46,\n",
              " 7,\n",
              " 4,\n",
              " 2,\n",
              " 2,\n",
              " 13,\n",
              " 104,\n",
              " 88,\n",
              " 4,\n",
              " 381,\n",
              " 15,\n",
              " 297,\n",
              " 98,\n",
              " 32,\n",
              " 2,\n",
              " 56,\n",
              " 26,\n",
              " 141,\n",
              " 6,\n",
              " 194,\n",
              " 2,\n",
              " 18,\n",
              " 4,\n",
              " 226,\n",
              " 22,\n",
              " 21,\n",
              " 134,\n",
              " 476,\n",
              " 26,\n",
              " 480,\n",
              " 5,\n",
              " 144,\n",
              " 30,\n",
              " 2,\n",
              " 18,\n",
              " 51,\n",
              " 36,\n",
              " 28,\n",
              " 224,\n",
              " 92,\n",
              " 25,\n",
              " 104,\n",
              " 4,\n",
              " 226,\n",
              " 65,\n",
              " 16,\n",
              " 38,\n",
              " 2,\n",
              " 88,\n",
              " 12,\n",
              " 16,\n",
              " 283,\n",
              " 5,\n",
              " 16,\n",
              " 2,\n",
              " 113,\n",
              " 103,\n",
              " 32,\n",
              " 15,\n",
              " 16,\n",
              " 2,\n",
              " 19,\n",
              " 178,\n",
              " 32]"
            ]
          },
          "metadata": {},
          "execution_count": 6
        }
      ]
    },
    {
      "cell_type": "code",
      "source": [
        "# 리뷰가 긍정(1)인지 부정(0)인지 판단\n",
        "train_target[:20]"
      ],
      "metadata": {
        "colab": {
          "base_uri": "https://localhost:8080/"
        },
        "id": "kgDgpercghWD",
        "outputId": "72728f1e-1847-4dda-f333-b3916437da0a"
      },
      "execution_count": null,
      "outputs": [
        {
          "output_type": "execute_result",
          "data": {
            "text/plain": [
              "array([1, 0, 0, 1, 0, 0, 1, 0, 1, 0, 1, 0, 0, 0, 0, 0, 1, 1, 0, 1])"
            ]
          },
          "metadata": {},
          "execution_count": 7
        }
      ]
    },
    {
      "cell_type": "code",
      "source": [
        "from sklearn.model_selection import train_test_split\n",
        "train_input, val_input, train_target, val_target = train_test_split(train_input, train_target, test_size = 0.2, random_state = 42)"
      ],
      "metadata": {
        "id": "UeB86tnbg0_S"
      },
      "execution_count": null,
      "outputs": []
    },
    {
      "cell_type": "code",
      "source": [
        "# 각 리뷰의 길이를 계산해 넘파이 배열에 담기\n",
        "import numpy as np\n",
        "lengths = np.array([len(x) for x in train_input])"
      ],
      "metadata": {
        "id": "74pB4fRQhP_s"
      },
      "execution_count": null,
      "outputs": []
    },
    {
      "cell_type": "code",
      "source": [
        "# 리뷰 길이의 평균값과 중간값 구해보기(리뷰 길이 데이터는 한쪽에 치우친 분포를 보일 것)\n",
        "np.mean(lengths), np.median(lengths)"
      ],
      "metadata": {
        "colab": {
          "base_uri": "https://localhost:8080/"
        },
        "id": "n-XEmp3rhjbH",
        "outputId": "403e1314-3de2-461a-a0c5-05d72ad148d8"
      },
      "execution_count": null,
      "outputs": [
        {
          "output_type": "execute_result",
          "data": {
            "text/plain": [
              "(239.00925, 178.0)"
            ]
          },
          "metadata": {},
          "execution_count": 10
        }
      ]
    },
    {
      "cell_type": "code",
      "source": [
        "# lengths배열을 히스토그램으로 표현해보기\n",
        "import matplotlib.pyplot as plt\n",
        "plt.hist(lengths)\n",
        "plt.xlabel('lengths')\n",
        "plt.ylabel('frequency')\n",
        "plt.show()"
      ],
      "metadata": {
        "colab": {
          "base_uri": "https://localhost:8080/",
          "height": 279
        },
        "id": "-8G6WfR9hvSZ",
        "outputId": "a6ea576c-b982-4757-f950-51d738d0cc29"
      },
      "execution_count": null,
      "outputs": [
        {
          "output_type": "display_data",
          "data": {
            "text/plain": [
              "<Figure size 432x288 with 1 Axes>"
            ],
            "image/png": "[encoded data removed]"
          },
          "metadata": {
            "needs_background": "light"
          }
        }
      ]
    },
    {
      "cell_type": "code",
      "source": [
        "# 100개의 단어들만 사용, 100보다 짧은 단어들은 패딩하여 100으로 맞추기\n",
        "# pad_sequences() 함수를 시용하여 시퀀스 데이터의 길이를 맞춤\n",
        "from tensorflow.keras.preprocessing.sequence import pad_sequences\n",
        "train_seq = pad_sequences(train_input, maxlen = 100)"
      ],
      "metadata": {
        "id": "W_ngsab5iOcT"
      },
      "execution_count": null,
      "outputs": []
    },
    {
      "cell_type": "code",
      "source": [
        "train_seq.shape"
      ],
      "metadata": {
        "colab": {
          "base_uri": "https://localhost:8080/"
        },
        "id": "0S6XGe4fjWrI",
        "outputId": "ffa6fd16-8782-4a02-bb97-8ed6cd57cc26"
      },
      "execution_count": null,
      "outputs": [
        {
          "output_type": "execute_result",
          "data": {
            "text/plain": [
              "(20000, 100)"
            ]
          },
          "metadata": {},
          "execution_count": 17
        }
      ]
    },
    {
      "cell_type": "code",
      "source": [
        "train_seq[0]"
      ],
      "metadata": {
        "colab": {
          "base_uri": "https://localhost:8080/"
        },
        "id": "vayhreG-jZd7",
        "outputId": "ee02b4d0-83ec-4e2d-8219-774c3f9e20da"
      },
      "execution_count": null,
      "outputs": [
        {
          "output_type": "execute_result",
          "data": {
            "text/plain": [
              "array([ 10,   4,  20,   9,   2, 364, 352,   5,  45,   6,   2,   2,  33,\n",
              "       269,   8,   2, 142,   2,   5,   2,  17,  73,  17, 204,   5,   2,\n",
              "        19,  55,   2,   2,  92,  66, 104,  14,  20,  93,  76,   2, 151,\n",
              "        33,   4,  58,  12, 188,   2, 151,  12, 215,  69, 224, 142,  73,\n",
              "       237,   6,   2,   7,   2,   2, 188,   2, 103,  14,  31,  10,  10,\n",
              "       451,   7,   2,   5,   2,  80,  91,   2,  30,   2,  34,  14,  20,\n",
              "       151,  50,  26, 131,  49,   2,  84,  46,  50,  37,  80,  79,   6,\n",
              "         2,  46,   7,  14,  20,  10,  10, 470, 158], dtype=int32)"
            ]
          },
          "metadata": {},
          "execution_count": 19
        }
      ]
    },
    {
      "cell_type": "code",
      "source": [
        "# pad_sequences() 함수는 기본으로 maxlen 보다 긴 시퀀스 앞 부분을 자름(truncating = 'post' : 뒷부분 자르기)\n",
        "train_input[0][-10:]"
      ],
      "metadata": {
        "colab": {
          "base_uri": "https://localhost:8080/"
        },
        "id": "QmLbnKnpjg7p",
        "outputId": "02bb59c4-b31a-4346-c18d-178923a8f1a7"
      },
      "execution_count": null,
      "outputs": [
        {
          "output_type": "execute_result",
          "data": {
            "text/plain": [
              "[6, 2, 46, 7, 14, 20, 10, 10, 470, 158]"
            ]
          },
          "metadata": {},
          "execution_count": 21
        }
      ]
    },
    {
      "cell_type": "code",
      "source": [
        "# 패딩 토근은 시퀀스 앞부분에 추가, padding = 'post : 샘플의 뒷부분에 패딩 추가\n",
        "train_seq[5]"
      ],
      "metadata": {
        "colab": {
          "base_uri": "https://localhost:8080/"
        },
        "id": "qcOvSNMIjuHk",
        "outputId": "375cd77e-c87b-44ef-e8a1-59333709a484"
      },
      "execution_count": null,
      "outputs": [
        {
          "output_type": "execute_result",
          "data": {
            "text/plain": [
              "array([  0,   0,   0,   0,   1,   2, 195,  19,  49,   2,   2, 190,   4,\n",
              "         2, 352,   2, 183,  10,  10,  13,  82,  79,   4,   2,  36,  71,\n",
              "       269,   8,   2,  25,  19,  49,   7,   4,   2,   2,   2,   2,   2,\n",
              "        10,  10,  48,  25,  40,   2,  11,   2,   2,  40,   2,   2,   5,\n",
              "         4,   2,   2,  95,  14, 238,  56, 129,   2,  10,  10,  21,   2,\n",
              "        94, 364, 352,   2,   2,  11, 190,  24, 484,   2,   7,  94, 205,\n",
              "       405,  10,  10,  87,   2,  34,  49,   2,   7,   2,   2,   2,   2,\n",
              "         2, 290,   2,  46,  48,  64,  18,   4,   2], dtype=int32)"
            ]
          },
          "metadata": {},
          "execution_count": 22
        }
      ]
    },
    {
      "cell_type": "code",
      "source": [
        "# 검증 세트의 길이도 100에 맞추기\n",
        "val_seq = pad_sequences(val_input, maxlen=100)"
      ],
      "metadata": {
        "id": "bA8MyVwhkk_b"
      },
      "execution_count": null,
      "outputs": []
    },
    {
      "cell_type": "markdown",
      "source": [
        "#### 순환 신경망 만들기"
      ],
      "metadata": {
        "id": "UsN22o-0rJXC"
      }
    },
    {
      "cell_type": "code",
      "source": [
        "from tensorflow import keras\n",
        "model = keras.Sequential()\n",
        "model.add(keras.layers.SimpleRNN(8, input_shape = (100, 500)))\n",
        "model.add(keras.layers.Dense(1, activation = 'sigmoid'))"
      ],
      "metadata": {
        "id": "3ZW2QyhClBPK"
      },
      "execution_count": null,
      "outputs": []
    },
    {
      "cell_type": "code",
      "source": [
        "# train_seq를 원-핫 인코딩으로 변환\n",
        "train_oh = keras.utils.to_categorical(train_seq)"
      ],
      "metadata": {
        "id": "1y3AF_yzsKGx"
      },
      "execution_count": null,
      "outputs": []
    },
    {
      "cell_type": "code",
      "source": [
        "print(train_oh.shape)"
      ],
      "metadata": {
        "colab": {
          "base_uri": "https://localhost:8080/"
        },
        "id": "5j14KA4es_yy",
        "outputId": "ea57143b-66e0-4e28-e806-45ce476c6b23"
      },
      "execution_count": null,
      "outputs": [
        {
          "output_type": "stream",
          "name": "stdout",
          "text": [
            "(20000, 100, 500)\n"
          ]
        }
      ]
    },
    {
      "cell_type": "code",
      "source": [
        "train_oh[0][0][:12]"
      ],
      "metadata": {
        "colab": {
          "base_uri": "https://localhost:8080/"
        },
        "id": "lysNOmB8tCLP",
        "outputId": "b96814d0-45cc-4f13-cc5d-b6d98b45cd69"
      },
      "execution_count": null,
      "outputs": [
        {
          "output_type": "execute_result",
          "data": {
            "text/plain": [
              "array([0., 0., 0., 0., 0., 0., 0., 0., 0., 0., 1., 0.], dtype=float32)"
            ]
          },
          "metadata": {},
          "execution_count": 27
        }
      ]
    },
    {
      "cell_type": "code",
      "source": [
        "np.sum(train_oh[0][0])"
      ],
      "metadata": {
        "colab": {
          "base_uri": "https://localhost:8080/"
        },
        "id": "iuB3yecxtT8C",
        "outputId": "e9cda3b7-a05e-4632-c458-39e311a01239"
      },
      "execution_count": null,
      "outputs": [
        {
          "output_type": "execute_result",
          "data": {
            "text/plain": [
              "1.0"
            ]
          },
          "metadata": {},
          "execution_count": 28
        }
      ]
    },
    {
      "cell_type": "code",
      "source": [
        "val_oh = keras.utils.to_categorical(val_seq)"
      ],
      "metadata": {
        "id": "TdDcklpxtZ5x"
      },
      "execution_count": null,
      "outputs": []
    },
    {
      "cell_type": "code",
      "source": [
        "model.summary()"
      ],
      "metadata": {
        "colab": {
          "base_uri": "https://localhost:8080/"
        },
        "id": "ipx4cBmjti6_",
        "outputId": "388d2555-a4b4-46e5-ad20-a82d4c4014a0"
      },
      "execution_count": null,
      "outputs": [
        {
          "output_type": "stream",
          "name": "stdout",
          "text": [
            "Model: \"sequential\"\n",
            "_________________________________________________________________\n",
            " Layer (type)                Output Shape              Param #   \n",
            "=================================================================\n",
            " simple_rnn (SimpleRNN)      (None, 8)                 4072      \n",
            "                                                                 \n",
            " dense (Dense)               (None, 1)                 9         \n",
            "                                                                 \n",
            "=================================================================\n",
            "Total params: 4,081\n",
            "Trainable params: 4,081\n",
            "Non-trainable params: 0\n",
            "_________________________________________________________________\n"
          ]
        }
      ]
    },
    {
      "cell_type": "markdown",
      "source": [
        "#### 순환 신경망 훈련하기"
      ],
      "metadata": {
        "id": "m0dlojULuJdz"
      }
    },
    {
      "cell_type": "code",
      "source": [
        "rmsprop = keras.optimizers.RMSprop(learning_rate=1e-4)\n",
        "model.compile(optimizer=rmsprop, loss = 'binary_crossentropy', metrics = ['accuracy'])\n",
        "checkpoint_cb = keras.callbacks.ModelCheckpoint('best-simplernn-model.h5')\n",
        "early_stopping_cb = keras.callbacks.EarlyStopping(patience = 3, restore_best_weights= True)\n",
        "history = model.fit(train_oh, train_target, epochs = 100, batch_size = 64, validation_data=(val_oh, val_target), callbacks=[checkpoint_cb, early_stopping_cb])"
      ],
      "metadata": {
        "colab": {
          "base_uri": "https://localhost:8080/"
        },
        "id": "Vz7vZkoUtmwO",
        "outputId": "ee0b1c72-2906-406b-ebab-197a397d78ff"
      },
      "execution_count": null,
      "outputs": [
        {
          "output_type": "stream",
          "name": "stdout",
          "text": [
            "Epoch 1/100\n",
            "313/313 [==============================] - 15s 41ms/step - loss: 0.6919 - accuracy: 0.5321 - val_loss: 0.6756 - val_accuracy: 0.5850\n",
            "Epoch 2/100\n",
            "313/313 [==============================] - 12s 39ms/step - loss: 0.6613 - accuracy: 0.6068 - val_loss: 0.6490 - val_accuracy: 0.6306\n",
            "Epoch 3/100\n",
            "313/313 [==============================] - 13s 41ms/step - loss: 0.6333 - accuracy: 0.6550 - val_loss: 0.6241 - val_accuracy: 0.6670\n",
            "Epoch 4/100\n",
            "313/313 [==============================] - 13s 41ms/step - loss: 0.6092 - accuracy: 0.6877 - val_loss: 0.6033 - val_accuracy: 0.6908\n",
            "Epoch 5/100\n",
            "313/313 [==============================] - 23s 74ms/step - loss: 0.5857 - accuracy: 0.7147 - val_loss: 0.5826 - val_accuracy: 0.7134\n",
            "Epoch 6/100\n",
            "313/313 [==============================] - 22s 69ms/step - loss: 0.5651 - accuracy: 0.7346 - val_loss: 0.5663 - val_accuracy: 0.7258\n",
            "Epoch 7/100\n",
            "313/313 [==============================] - 21s 67ms/step - loss: 0.5477 - accuracy: 0.7481 - val_loss: 0.5522 - val_accuracy: 0.7392\n",
            "Epoch 8/100\n",
            "313/313 [==============================] - 14s 44ms/step - loss: 0.5325 - accuracy: 0.7563 - val_loss: 0.5393 - val_accuracy: 0.7490\n",
            "Epoch 9/100\n",
            "313/313 [==============================] - 12s 38ms/step - loss: 0.5188 - accuracy: 0.7666 - val_loss: 0.5257 - val_accuracy: 0.7624\n",
            "Epoch 10/100\n",
            "313/313 [==============================] - 12s 38ms/step - loss: 0.5067 - accuracy: 0.7741 - val_loss: 0.5186 - val_accuracy: 0.7558\n",
            "Epoch 11/100\n",
            "313/313 [==============================] - 14s 44ms/step - loss: 0.4960 - accuracy: 0.7799 - val_loss: 0.5071 - val_accuracy: 0.7656\n",
            "Epoch 12/100\n",
            "313/313 [==============================] - 14s 46ms/step - loss: 0.4864 - accuracy: 0.7862 - val_loss: 0.5002 - val_accuracy: 0.7710\n",
            "Epoch 13/100\n",
            "313/313 [==============================] - 13s 41ms/step - loss: 0.4780 - accuracy: 0.7897 - val_loss: 0.4920 - val_accuracy: 0.7744\n",
            "Epoch 14/100\n",
            "313/313 [==============================] - 13s 42ms/step - loss: 0.4701 - accuracy: 0.7928 - val_loss: 0.4873 - val_accuracy: 0.7738\n",
            "Epoch 15/100\n",
            "313/313 [==============================] - 18s 58ms/step - loss: 0.4637 - accuracy: 0.7950 - val_loss: 0.4815 - val_accuracy: 0.7774\n",
            "Epoch 16/100\n",
            "313/313 [==============================] - 16s 51ms/step - loss: 0.4570 - accuracy: 0.7975 - val_loss: 0.4761 - val_accuracy: 0.7812\n",
            "Epoch 17/100\n",
            "313/313 [==============================] - 19s 60ms/step - loss: 0.4514 - accuracy: 0.8006 - val_loss: 0.4780 - val_accuracy: 0.7812\n",
            "Epoch 18/100\n",
            "313/313 [==============================] - 12s 40ms/step - loss: 0.4462 - accuracy: 0.8018 - val_loss: 0.4688 - val_accuracy: 0.7844\n",
            "Epoch 19/100\n",
            "313/313 [==============================] - 13s 42ms/step - loss: 0.4413 - accuracy: 0.8050 - val_loss: 0.4672 - val_accuracy: 0.7862\n",
            "Epoch 20/100\n",
            "313/313 [==============================] - 15s 47ms/step - loss: 0.4375 - accuracy: 0.8055 - val_loss: 0.4625 - val_accuracy: 0.7884\n",
            "Epoch 21/100\n",
            "313/313 [==============================] - 14s 46ms/step - loss: 0.4335 - accuracy: 0.8087 - val_loss: 0.4640 - val_accuracy: 0.7862\n",
            "Epoch 22/100\n",
            "313/313 [==============================] - 14s 43ms/step - loss: 0.4300 - accuracy: 0.8079 - val_loss: 0.4613 - val_accuracy: 0.7884\n",
            "Epoch 23/100\n",
            "313/313 [==============================] - 12s 40ms/step - loss: 0.4268 - accuracy: 0.8098 - val_loss: 0.4585 - val_accuracy: 0.7884\n",
            "Epoch 24/100\n",
            "313/313 [==============================] - 12s 39ms/step - loss: 0.4248 - accuracy: 0.8093 - val_loss: 0.4613 - val_accuracy: 0.7882\n",
            "Epoch 25/100\n",
            "313/313 [==============================] - 12s 39ms/step - loss: 0.4216 - accuracy: 0.8096 - val_loss: 0.4560 - val_accuracy: 0.7942\n",
            "Epoch 26/100\n",
            "313/313 [==============================] - 12s 40ms/step - loss: 0.4191 - accuracy: 0.8129 - val_loss: 0.4558 - val_accuracy: 0.7890\n",
            "Epoch 27/100\n",
            "313/313 [==============================] - 15s 50ms/step - loss: 0.4165 - accuracy: 0.8127 - val_loss: 0.4561 - val_accuracy: 0.7886\n",
            "Epoch 28/100\n",
            "313/313 [==============================] - 17s 54ms/step - loss: 0.4152 - accuracy: 0.8142 - val_loss: 0.4554 - val_accuracy: 0.7932\n",
            "Epoch 29/100\n",
            "313/313 [==============================] - 18s 58ms/step - loss: 0.4128 - accuracy: 0.8146 - val_loss: 0.4531 - val_accuracy: 0.7882\n",
            "Epoch 30/100\n",
            "313/313 [==============================] - 15s 48ms/step - loss: 0.4111 - accuracy: 0.8152 - val_loss: 0.4543 - val_accuracy: 0.7926\n",
            "Epoch 31/100\n",
            "313/313 [==============================] - 25s 80ms/step - loss: 0.4096 - accuracy: 0.8164 - val_loss: 0.4503 - val_accuracy: 0.7944\n",
            "Epoch 32/100\n",
            "313/313 [==============================] - 16s 52ms/step - loss: 0.4076 - accuracy: 0.8171 - val_loss: 0.4509 - val_accuracy: 0.7930\n",
            "Epoch 33/100\n",
            "313/313 [==============================] - 21s 67ms/step - loss: 0.4065 - accuracy: 0.8175 - val_loss: 0.4532 - val_accuracy: 0.7936\n",
            "Epoch 34/100\n",
            "313/313 [==============================] - 22s 69ms/step - loss: 0.4049 - accuracy: 0.8170 - val_loss: 0.4519 - val_accuracy: 0.7900\n"
          ]
        }
      ]
    },
    {
      "cell_type": "code",
      "source": [
        "plt.plot(history.history['loss'])\n",
        "plt.plot(history.history['val_loss'])\n",
        "plt.xlabel('epoch')\n",
        "plt.ylabel('loss')\n",
        "plt.legend(['train', 'val'])\n",
        "plt.show()"
      ],
      "metadata": {
        "colab": {
          "base_uri": "https://localhost:8080/",
          "height": 279
        },
        "id": "kt_7sn6Cvk6u",
        "outputId": "d2c025e9-5276-4bc4-c3b3-302c2e6e403e"
      },
      "execution_count": null,
      "outputs": [
        {
          "output_type": "display_data",
          "data": {
            "text/plain": [
              "<Figure size 432x288 with 1 Axes>"
            ],
            "image/png": "[encoded data removed]"
          },
          "metadata": {
            "needs_background": "light"
          }
        }
      ]
    },
    {
      "cell_type": "code",
      "source": [
        "# 원-핫 인코딩은 입력 데이터가 엄청 커짐 (500배)\n",
        "train_seq.shape, train_oh.shape"
      ],
      "metadata": {
        "colab": {
          "base_uri": "https://localhost:8080/"
        },
        "id": "e_fiHCF9wBqa",
        "outputId": "3e66fd2b-39d0-4d7a-bf12-b37c5b215481"
      },
      "execution_count": null,
      "outputs": [
        {
          "output_type": "execute_result",
          "data": {
            "text/plain": [
              "((20000, 100), (20000, 100, 500))"
            ]
          },
          "metadata": {},
          "execution_count": 33
        }
      ]
    },
    {
      "cell_type": "markdown",
      "source": [
        "#### 단어 임베딩을 사용하기"
      ],
      "metadata": {
        "id": "HvsB3joAwj9d"
      }
    },
    {
      "cell_type": "code",
      "source": [
        "# Embedding 클래스를 SimpleRNN 층 앞에 추가한 두번째 순환 신경망 만들어 보기\n",
        "model2 = keras.Sequential()\n",
        "model2.add(keras.layers.Embedding(500, 16, input_length = 100)) # 어휘사전 크기, 임베딩 벡터 크기, 입력 시퀀스 길이\n",
        "model2.add(keras.layers.SimpleRNN(8))\n",
        "model2.add(keras.layers.Dense(1, activation = 'sigmoid'))"
      ],
      "metadata": {
        "id": "G4cIAkNcwikC"
      },
      "execution_count": null,
      "outputs": []
    },
    {
      "cell_type": "code",
      "source": [
        "model2.summary()"
      ],
      "metadata": {
        "colab": {
          "base_uri": "https://localhost:8080/"
        },
        "id": "JdqRwxz5x88_",
        "outputId": "3070a7b8-eda5-405d-a8fc-4f1ffe26ef20"
      },
      "execution_count": null,
      "outputs": [
        {
          "output_type": "stream",
          "name": "stdout",
          "text": [
            "Model: \"sequential_4\"\n",
            "_________________________________________________________________\n",
            " Layer (type)                Output Shape              Param #   \n",
            "=================================================================\n",
            " embedding_1 (Embedding)     (None, 100, 16)           8000      \n",
            "                                                                 \n",
            " simple_rnn_2 (SimpleRNN)    (None, 8)                 200       \n",
            "                                                                 \n",
            " dense_2 (Dense)             (None, 1)                 9         \n",
            "                                                                 \n",
            "=================================================================\n",
            "Total params: 8,209\n",
            "Trainable params: 8,209\n",
            "Non-trainable params: 0\n",
            "_________________________________________________________________\n"
          ]
        }
      ]
    },
    {
      "cell_type": "code",
      "source": [
        "rmsprop = keras.optimizers.RMSprop(learning_rate=1e-4)\n",
        "model2.compile(optimizer=rmsprop, loss = 'binary_crossentropy', metrics = ['accuracy'])\n",
        "checkpoint_cb = keras.callbacks.ModelCheckpoint('best-embedding-model.h5')\n",
        "early_stopping_cb = keras.callbacks.EarlyStopping(patience = 3, restore_best_weights= True)\n",
        "history = model2.fit(train_seq, train_target, epochs = 100, batch_size = 64, validation_data=(val_seq, val_target), callbacks=[checkpoint_cb, early_stopping_cb])"
      ],
      "metadata": {
        "colab": {
          "base_uri": "https://localhost:8080/"
        },
        "id": "taxB1HF2yWjv",
        "outputId": "584e1d83-5a98-4239-ef41-abd414111130"
      },
      "execution_count": null,
      "outputs": [
        {
          "output_type": "stream",
          "name": "stdout",
          "text": [
            "Epoch 1/100\n",
            "313/313 [==============================] - 32s 23ms/step - loss: 0.6947 - accuracy: 0.4992 - val_loss: 0.6944 - val_accuracy: 0.5014\n",
            "Epoch 2/100\n",
            "313/313 [==============================] - 7s 22ms/step - loss: 0.6915 - accuracy: 0.5218 - val_loss: 0.6930 - val_accuracy: 0.5084\n",
            "Epoch 3/100\n",
            "313/313 [==============================] - 7s 22ms/step - loss: 0.6886 - accuracy: 0.5483 - val_loss: 0.6917 - val_accuracy: 0.5276\n",
            "Epoch 4/100\n",
            "313/313 [==============================] - 7s 22ms/step - loss: 0.6853 - accuracy: 0.5624 - val_loss: 0.6901 - val_accuracy: 0.5330\n",
            "Epoch 5/100\n",
            "313/313 [==============================] - 7s 22ms/step - loss: 0.6811 - accuracy: 0.5833 - val_loss: 0.6876 - val_accuracy: 0.5406\n",
            "Epoch 6/100\n",
            "313/313 [==============================] - 7s 22ms/step - loss: 0.6746 - accuracy: 0.6011 - val_loss: 0.6820 - val_accuracy: 0.5668\n",
            "Epoch 7/100\n",
            "313/313 [==============================] - 7s 24ms/step - loss: 0.6539 - accuracy: 0.6604 - val_loss: 0.6457 - val_accuracy: 0.6750\n",
            "Epoch 8/100\n",
            "313/313 [==============================] - 10s 32ms/step - loss: 0.6222 - accuracy: 0.7167 - val_loss: 0.6261 - val_accuracy: 0.6974\n",
            "Epoch 9/100\n",
            "313/313 [==============================] - 9s 29ms/step - loss: 0.6020 - accuracy: 0.7369 - val_loss: 0.6076 - val_accuracy: 0.7200\n",
            "Epoch 10/100\n",
            "313/313 [==============================] - 8s 24ms/step - loss: 0.5823 - accuracy: 0.7513 - val_loss: 0.5961 - val_accuracy: 0.7256\n",
            "Epoch 11/100\n",
            "313/313 [==============================] - 7s 23ms/step - loss: 0.5660 - accuracy: 0.7624 - val_loss: 0.5732 - val_accuracy: 0.7464\n",
            "Epoch 12/100\n",
            "313/313 [==============================] - 7s 23ms/step - loss: 0.5472 - accuracy: 0.7722 - val_loss: 0.5590 - val_accuracy: 0.7492\n",
            "Epoch 13/100\n",
            "313/313 [==============================] - 7s 24ms/step - loss: 0.5336 - accuracy: 0.7770 - val_loss: 0.5485 - val_accuracy: 0.7534\n",
            "Epoch 14/100\n",
            "313/313 [==============================] - 7s 23ms/step - loss: 0.5203 - accuracy: 0.7814 - val_loss: 0.5362 - val_accuracy: 0.7638\n",
            "Epoch 15/100\n",
            "313/313 [==============================] - 7s 24ms/step - loss: 0.5070 - accuracy: 0.7869 - val_loss: 0.5252 - val_accuracy: 0.7630\n",
            "Epoch 16/100\n",
            "313/313 [==============================] - 7s 24ms/step - loss: 0.4950 - accuracy: 0.7904 - val_loss: 0.5217 - val_accuracy: 0.7658\n",
            "Epoch 17/100\n",
            "313/313 [==============================] - 8s 25ms/step - loss: 0.4844 - accuracy: 0.7953 - val_loss: 0.5157 - val_accuracy: 0.7632\n",
            "Epoch 18/100\n",
            "313/313 [==============================] - 7s 23ms/step - loss: 0.4756 - accuracy: 0.7978 - val_loss: 0.5064 - val_accuracy: 0.7720\n",
            "Epoch 19/100\n",
            "313/313 [==============================] - 7s 23ms/step - loss: 0.4678 - accuracy: 0.7997 - val_loss: 0.5021 - val_accuracy: 0.7688\n",
            "Epoch 20/100\n",
            "313/313 [==============================] - 7s 22ms/step - loss: 0.4595 - accuracy: 0.8041 - val_loss: 0.4971 - val_accuracy: 0.7712\n",
            "Epoch 21/100\n",
            "313/313 [==============================] - 7s 23ms/step - loss: 0.4525 - accuracy: 0.8080 - val_loss: 0.4972 - val_accuracy: 0.7738\n",
            "Epoch 22/100\n",
            "313/313 [==============================] - 7s 22ms/step - loss: 0.4469 - accuracy: 0.8086 - val_loss: 0.4909 - val_accuracy: 0.7770\n",
            "Epoch 23/100\n",
            "313/313 [==============================] - 7s 23ms/step - loss: 0.4406 - accuracy: 0.8105 - val_loss: 0.4860 - val_accuracy: 0.7782\n",
            "Epoch 24/100\n",
            "313/313 [==============================] - 8s 24ms/step - loss: 0.4358 - accuracy: 0.8142 - val_loss: 0.4822 - val_accuracy: 0.7786\n",
            "Epoch 25/100\n",
            "313/313 [==============================] - 7s 23ms/step - loss: 0.4313 - accuracy: 0.8161 - val_loss: 0.4817 - val_accuracy: 0.7776\n",
            "Epoch 26/100\n",
            "313/313 [==============================] - 8s 24ms/step - loss: 0.4282 - accuracy: 0.8177 - val_loss: 0.4832 - val_accuracy: 0.7778\n",
            "Epoch 27/100\n",
            "313/313 [==============================] - 7s 24ms/step - loss: 0.4236 - accuracy: 0.8196 - val_loss: 0.4732 - val_accuracy: 0.7836\n",
            "Epoch 28/100\n",
            "313/313 [==============================] - 7s 23ms/step - loss: 0.4201 - accuracy: 0.8199 - val_loss: 0.4743 - val_accuracy: 0.7832\n",
            "Epoch 29/100\n",
            "313/313 [==============================] - 7s 22ms/step - loss: 0.4174 - accuracy: 0.8217 - val_loss: 0.4736 - val_accuracy: 0.7818\n",
            "Epoch 30/100\n",
            "313/313 [==============================] - 7s 22ms/step - loss: 0.4140 - accuracy: 0.8236 - val_loss: 0.4712 - val_accuracy: 0.7846\n",
            "Epoch 31/100\n",
            "313/313 [==============================] - 7s 23ms/step - loss: 0.4114 - accuracy: 0.8259 - val_loss: 0.4735 - val_accuracy: 0.7824\n",
            "Epoch 32/100\n",
            "313/313 [==============================] - 7s 24ms/step - loss: 0.4079 - accuracy: 0.8269 - val_loss: 0.4742 - val_accuracy: 0.7850\n",
            "Epoch 33/100\n",
            "313/313 [==============================] - 8s 24ms/step - loss: 0.4059 - accuracy: 0.8275 - val_loss: 0.4710 - val_accuracy: 0.7860\n",
            "Epoch 34/100\n",
            "313/313 [==============================] - 7s 23ms/step - loss: 0.4037 - accuracy: 0.8280 - val_loss: 0.4697 - val_accuracy: 0.7880\n",
            "Epoch 35/100\n",
            "313/313 [==============================] - 7s 23ms/step - loss: 0.4001 - accuracy: 0.8324 - val_loss: 0.4709 - val_accuracy: 0.7866\n",
            "Epoch 36/100\n",
            "313/313 [==============================] - 7s 22ms/step - loss: 0.3983 - accuracy: 0.8322 - val_loss: 0.4712 - val_accuracy: 0.7844\n",
            "Epoch 37/100\n",
            "313/313 [==============================] - 7s 22ms/step - loss: 0.3960 - accuracy: 0.8326 - val_loss: 0.4698 - val_accuracy: 0.7870\n"
          ]
        }
      ]
    },
    {
      "cell_type": "code",
      "source": [
        "plt.plot(history.history['loss'])\n",
        "plt.plot(history.history['val_loss'])\n",
        "plt.xlabel('epoch')\n",
        "plt.ylabel('loss')\n",
        "plt.legend(['train', 'val'])\n",
        "plt.show()"
      ],
      "metadata": {
        "colab": {
          "base_uri": "https://localhost:8080/",
          "height": 279
        },
        "id": "iBXkMy7tyzmt",
        "outputId": "653e888d-3a86-49cc-ea7d-0a3fe4c903a4"
      },
      "execution_count": null,
      "outputs": [
        {
          "output_type": "display_data",
          "data": {
            "text/plain": [
              "<Figure size 432x288 with 1 Axes>"
            ],
            "image/png": "[encoded data removed]"
          },
          "metadata": {
            "needs_background": "light"
          }
        }
      ]
    },
    {
      "cell_type": "code",
      "source": [
        ""
      ],
      "metadata": {
        "id": "vOmFZpMt0EU7"
      },
      "execution_count": null,
      "outputs": []
    }
  ]
}